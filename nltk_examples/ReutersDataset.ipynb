{
 "cells": [
  {
   "cell_type": "code",
   "execution_count": 1,
   "metadata": {
    "collapsed": false
   },
   "outputs": [],
   "source": [
    "from nltk.corpus import reuters"
   ]
  },
  {
   "cell_type": "code",
   "execution_count": 2,
   "metadata": {
    "collapsed": false
   },
   "outputs": [
    {
     "name": "stdout",
     "output_type": "stream",
     "text": [
      "Reuters has 90 categories:\n",
      "['acq', 'alum', 'barley', 'bop', 'carcass', 'castor-oil', 'cocoa', 'coconut', 'coconut-oil', 'coffee', 'copper', 'copra-cake', 'corn', 'cotton', 'cotton-oil', 'cpi', 'cpu', 'crude', 'dfl', 'dlr', 'dmk', 'earn', 'fuel', 'gas', 'gnp', 'gold', 'grain', 'groundnut', 'groundnut-oil', 'heat', 'hog', 'housing', 'income', 'instal-debt', 'interest', 'ipi', 'iron-steel', 'jet', 'jobs', 'l-cattle', 'lead', 'lei', 'lin-oil', 'livestock', 'lumber', 'meal-feed', 'money-fx', 'money-supply', 'naphtha', 'nat-gas', 'nickel', 'nkr', 'nzdlr', 'oat', 'oilseed', 'orange', 'palladium', 'palm-oil', 'palmkernel', 'pet-chem', 'platinum', 'potato', 'propane', 'rand', 'rape-oil', 'rapeseed', 'reserves', 'retail', 'rice', 'rubber', 'rye', 'ship', 'silver', 'sorghum', 'soy-meal', 'soy-oil', 'soybean', 'strategic-metal', 'sugar', 'sun-meal', 'sun-oil', 'sunseed', 'tea', 'tin', 'trade', 'veg-oil', 'wheat', 'wpi', 'yen', 'zinc']\n"
     ]
    }
   ],
   "source": [
    "cats = reuters.categories()\n",
    "print(\"Reuters has %d categories:\\n%s\" % (len(cats), cats))"
   ]
  },
  {
   "cell_type": "code",
   "execution_count": 3,
   "metadata": {
    "collapsed": false
   },
   "outputs": [
    {
     "name": "stdout",
     "output_type": "stream",
     "text": [
      "\n",
      "      The Reuters-21578 benchmark corpus, ApteMod version\n",
      "\n",
      "This is a publically available version of the well-known Reuters-21578\n",
      "\"ApteMod\" corpus for text categorization.  It has been used in\n",
      "publications like these:\n",
      "\n",
      " * Yiming Yang and X. Liu. \"A re-examination of text categorization\n",
      "   methods\".  1999.  Proceedings of 22nd Annual International SIGIR.\n",
      "   http://citeseer.nj.nec.com/yang99reexamination.html\n",
      "\n",
      " * Thorsten Joachims. \"Text categorization with support vector\n",
      "   machines: learning with many relevant features\".  1998. Proceedings\n",
      "   of ECML-98, 10th European Conference on Machine Learning.\n",
      "   http://citeseer.nj.nec.com/joachims98text.html\n",
      "\n",
      "ApteMod is a collection of 10,788 documents from the Reuters financial\n",
      "newswire service, partitioned into a training set with 7769 documents\n",
      "and a test set with 3019 documents.  The total size of the corpus is\n",
      "about 43 MB.  It is also available for download from\n",
      "http://kdd.ics.uci.edu/databases/reuters21578/reuters21578.html ,\n",
      "which includes a more extensive history of the data revisions.\n",
      "\n",
      "The distribution of categories in the ApteMod corpus is highly skewed,\n",
      "with 36.7% of the documents in the most common category, and only\n",
      "0.0185% (2 documents) in each of the five least common categories.\n",
      "In fact, the original data source is even more skewed---in creating\n",
      "the corpus, any categories that did not contain at least one document\n",
      "in the training set and one document in the test set were removed from\n",
      "the corpus by its original creator.\n",
      "\n",
      "In the ApteMod corpus, each document belongs to one or more\n",
      "categories.  There are 90 categories in the corpus.  The average\n",
      "number of categories per document is 1.235, and the average number of\n",
      "documents per category is about 148, or 1.37% of the corpus.\n",
      "\n",
      " -Ken Williams\n",
      "  ken@mathforum.org\n",
      "\n",
      "         Copyright & Notification \n",
      "\n",
      "(extracted from the README at the UCI address above)\n",
      "\n",
      "The copyright for the text of newswire articles and Reuters\n",
      "annotations in the Reuters-21578 collection resides with Reuters Ltd.\n",
      "Reuters Ltd. and Carnegie Group, Inc. have agreed to allow the free\n",
      "distribution of this data *for research purposes only*.  \n",
      "\n",
      "If you publish results based on this data set, please acknowledge\n",
      "its use, refer to the data set by the name \"Reuters-21578,\n",
      "Distribution 1.0\", and inform your readers of the current location of\n",
      "the data set (see \"Availability & Questions\").\n",
      "\n",
      "\n"
     ]
    }
   ],
   "source": [
    "print(reuters.readme())"
   ]
  },
  {
   "cell_type": "code",
   "execution_count": 4,
   "metadata": {
    "collapsed": false
   },
   "outputs": [
    {
     "name": "stdout",
     "output_type": "stream",
     "text": [
      "acq ---- 2661 documents out of 11887\n",
      "alum ---- 62 documents out of 11887\n",
      "barley ---- 58 documents out of 11887\n",
      "bop ---- 120 documents out of 11887\n",
      "carcass ---- 69 documents out of 11887\n",
      "castor-oil ---- 2 documents out of 11887\n",
      "cocoa ---- 81 documents out of 11887\n",
      "coconut ---- 6 documents out of 11887\n",
      "coconut-oil ---- 7 documents out of 11887\n",
      "coffee ---- 141 documents out of 11887\n",
      "copper ---- 73 documents out of 11887\n",
      "copra-cake ---- 3 documents out of 11887\n",
      "corn ---- 270 documents out of 11887\n",
      "cotton ---- 65 documents out of 11887\n",
      "cotton-oil ---- 3 documents out of 11887\n",
      "cpi ---- 108 documents out of 11887\n",
      "cpu ---- 6 documents out of 11887\n",
      "crude ---- 658 documents out of 11887\n",
      "dfl ---- 3 documents out of 11887\n",
      "dlr ---- 223 documents out of 11887\n",
      "dmk ---- 15 documents out of 11887\n",
      "earn ---- 4211 documents out of 11887\n",
      "fuel ---- 23 documents out of 11887\n",
      "gas ---- 65 documents out of 11887\n",
      "gnp ---- 146 documents out of 11887\n",
      "gold ---- 131 documents out of 11887\n",
      "grain ---- 640 documents out of 11887\n",
      "groundnut ---- 9 documents out of 11887\n",
      "groundnut-oil ---- 2 documents out of 11887\n",
      "heat ---- 20 documents out of 11887\n",
      "hog ---- 23 documents out of 11887\n",
      "housing ---- 23 documents out of 11887\n",
      "income ---- 22 documents out of 11887\n",
      "instal-debt ---- 8 documents out of 11887\n",
      "interest ---- 570 documents out of 11887\n",
      "ipi ---- 60 documents out of 11887\n",
      "iron-steel ---- 56 documents out of 11887\n",
      "jet ---- 5 documents out of 11887\n",
      "jobs ---- 73 documents out of 11887\n",
      "l-cattle ---- 8 documents out of 11887\n",
      "lead ---- 30 documents out of 11887\n",
      "lei ---- 19 documents out of 11887\n",
      "lin-oil ---- 2 documents out of 11887\n",
      "livestock ---- 102 documents out of 11887\n",
      "lumber ---- 16 documents out of 11887\n",
      "meal-feed ---- 51 documents out of 11887\n",
      "money-fx ---- 835 documents out of 11887\n",
      "money-supply ---- 230 documents out of 11887\n",
      "naphtha ---- 6 documents out of 11887\n",
      "nat-gas ---- 113 documents out of 11887\n",
      "nickel ---- 10 documents out of 11887\n",
      "nkr ---- 4 documents out of 11887\n",
      "nzdlr ---- 4 documents out of 11887\n",
      "oat ---- 16 documents out of 11887\n",
      "oilseed ---- 185 documents out of 11887\n",
      "orange ---- 32 documents out of 11887\n",
      "palladium ---- 4 documents out of 11887\n",
      "palm-oil ---- 41 documents out of 11887\n",
      "palmkernel ---- 3 documents out of 11887\n",
      "pet-chem ---- 33 documents out of 11887\n",
      "platinum ---- 15 documents out of 11887\n",
      "potato ---- 6 documents out of 11887\n",
      "propane ---- 6 documents out of 11887\n",
      "rand ---- 3 documents out of 11887\n",
      "rape-oil ---- 8 documents out of 11887\n",
      "rapeseed ---- 27 documents out of 11887\n",
      "reserves ---- 83 documents out of 11887\n",
      "retail ---- 29 documents out of 11887\n",
      "rice ---- 64 documents out of 11887\n",
      "rubber ---- 51 documents out of 11887\n",
      "rye ---- 3 documents out of 11887\n",
      "ship ---- 295 documents out of 11887\n",
      "silver ---- 30 documents out of 11887\n",
      "sorghum ---- 37 documents out of 11887\n",
      "soy-meal ---- 28 documents out of 11887\n",
      "soy-oil ---- 26 documents out of 11887\n",
      "soybean ---- 124 documents out of 11887\n",
      "strategic-metal ---- 28 documents out of 11887\n",
      "sugar ---- 170 documents out of 11887\n",
      "sun-meal ---- 2 documents out of 11887\n",
      "sun-oil ---- 7 documents out of 11887\n",
      "sunseed ---- 16 documents out of 11887\n",
      "tea ---- 13 documents out of 11887\n",
      "tin ---- 30 documents out of 11887\n",
      "trade ---- 524 documents out of 11887\n",
      "veg-oil ---- 128 documents out of 11887\n",
      "wheat ---- 304 documents out of 11887\n",
      "wpi ---- 32 documents out of 11887\n",
      "yen ---- 70 documents out of 11887\n",
      "zinc ---- 36 documents out of 11887\n",
      "Articles belong to 1.2333 categories on average\n",
      "There are 132.0778 articles per category on average\n"
     ]
    }
   ],
   "source": [
    "total = len(reuters.paras())\n",
    "total_multi = 0\n",
    "for c in cats:\n",
    "    lc = len(reuters.paras(categories=[c]))\n",
    "    total_multi += lc\n",
    "    print(\"%s ---- %d documents out of %d\" % (c, lc, total))\n",
    "print(\"Articles belong to %.4f categories on average\" % ((total_multi * 1.0) / total))\n",
    "print(\"There are %.4f articles per category on average\" % ((total * 1.0) / len(cats)))"
   ]
  },
  {
   "cell_type": "code",
   "execution_count": 5,
   "metadata": {
    "collapsed": false
   },
   "outputs": [],
   "source": [
    "from nltk.probability import FreqDist"
   ]
  },
  {
   "cell_type": "code",
   "execution_count": 6,
   "metadata": {
    "collapsed": false
   },
   "outputs": [],
   "source": [
    "fd = FreqDist(reuters.words())"
   ]
  },
  {
   "cell_type": "code",
   "execution_count": 7,
   "metadata": {
    "collapsed": false
   },
   "outputs": [
    {
     "data": {
      "text/plain": [
       "41600"
      ]
     },
     "execution_count": 7,
     "metadata": {},
     "output_type": "execute_result"
    }
   ],
   "source": [
    "len(fd)"
   ]
  },
  {
   "cell_type": "code",
   "execution_count": 8,
   "metadata": {
    "collapsed": false
   },
   "outputs": [
    {
     "name": "stdout",
     "output_type": "stream",
     "text": [
      "ArgSpec(args=['self', 'fileids', 'categories'], varargs=None, keywords=None, defaults=(None, None))\n",
      "ArgSpec(args=['self', 'categories'], varargs=None, keywords=None, defaults=(None,))\n"
     ]
    }
   ],
   "source": [
    "import inspect\n",
    "print(inspect.getargspec(reuters.paras))\n",
    "print(inspect.getargspec(reuters.fileids))"
   ]
  },
  {
   "cell_type": "code",
   "execution_count": 9,
   "metadata": {
    "collapsed": false
   },
   "outputs": [
    {
     "data": {
      "text/plain": [
       "['test/14913',\n",
       " 'test/15400',\n",
       " 'test/15432',\n",
       " 'test/15454',\n",
       " 'test/15455',\n",
       " 'test/15483',\n",
       " 'test/15503',\n",
       " 'test/15549',\n",
       " 'test/18363',\n",
       " 'test/18370',\n",
       " 'test/19061',\n",
       " 'test/20862',\n",
       " 'test/21542',\n",
       " 'test/21573',\n",
       " 'training/10364',\n",
       " 'training/10679',\n",
       " 'training/10681',\n",
       " 'training/10684',\n",
       " 'training/10689',\n",
       " 'training/10696',\n",
       " 'training/10718',\n",
       " 'training/10762',\n",
       " 'training/10766',\n",
       " 'training/10769',\n",
       " 'training/10770',\n",
       " 'training/10804',\n",
       " 'training/11203',\n",
       " 'training/11254',\n",
       " 'training/11764',\n",
       " 'training/11772',\n",
       " 'training/12145',\n",
       " 'training/12470',\n",
       " 'training/13544',\n",
       " 'training/14767',\n",
       " 'training/1926',\n",
       " 'training/2178',\n",
       " 'training/2190',\n",
       " 'training/2286',\n",
       " 'training/2354',\n",
       " 'training/3419',\n",
       " 'training/3421',\n",
       " 'training/3532',\n",
       " 'training/4633',\n",
       " 'training/4675',\n",
       " 'training/4680',\n",
       " 'training/4703',\n",
       " 'training/4709',\n",
       " 'training/5204',\n",
       " 'training/5206',\n",
       " 'training/5271',\n",
       " 'training/6338',\n",
       " 'training/6357',\n",
       " 'training/872',\n",
       " 'training/9149',\n",
       " 'training/9213',\n",
       " 'training/9222',\n",
       " 'training/9698',\n",
       " 'training/9701',\n",
       " 'training/9946']"
      ]
     },
     "execution_count": 9,
     "metadata": {},
     "output_type": "execute_result"
    }
   ],
   "source": [
    "reuters.fileids(categories=['yen'])"
   ]
  },
  {
   "cell_type": "code",
   "execution_count": 10,
   "metadata": {
    "collapsed": false
   },
   "outputs": [
    {
     "data": {
      "text/plain": [
       "[[['BANK', 'OF', 'JAPAN', 'INTERVENES', 'SOON', 'AFTER', 'TOKYO', 'OPENING', 'The', 'Bank', 'of', 'Japan', 'bought', 'a', 'small', 'amount', 'of', 'dollars', 'shortly', 'after', 'the', 'opening', 'at', 'around', '145', '.', '30', 'yen', ',', 'dealers', 'said', '.'], ['The', 'central', 'bank', 'intervened', 'as', 'a', 'medium', '-', 'sized', 'trading', 'house', 'sold', 'dollars', ',', 'putting', 'pressure', 'on', 'the', 'U', '.', 'S', '.', 'Currency', ',', 'they', 'said', '.'], ['The', 'dollar', 'was', 'also', 'supported', 'by', 'a', 'major', 'electrical', 'consumer', 'goods', 'company', ',', 'which', 'was', 'a', 'speculative', 'dollar', 'buyer', 'at', 'around', '145', '.', '25', 'yen', ',', 'they', 'added', '.'], ['The', 'dollar', 'opened', 'at', '145', '.', '33', 'yen', 'against', '145', '.', '60', '/', '70', 'in', 'New', 'York', 'and', '145', '.', '25', 'at', 'the', 'close', 'here', 'yesterday', '.']]]"
      ]
     },
     "execution_count": 10,
     "metadata": {},
     "output_type": "execute_result"
    }
   ],
   "source": [
    "reuters.paras(fileids=['test/14913'])"
   ]
  },
  {
   "cell_type": "code",
   "execution_count": 11,
   "metadata": {
    "collapsed": false
   },
   "outputs": [
    {
     "data": {
      "text/plain": [
       "True"
      ]
     },
     "execution_count": 11,
     "metadata": {},
     "output_type": "execute_result"
    }
   ],
   "source": [
    "def isTest(fileid):\n",
    "    return fileid[:4]=='test'\n",
    "\n",
    "isTest('test/12345')"
   ]
  },
  {
   "cell_type": "code",
   "execution_count": 13,
   "metadata": {
    "collapsed": false
   },
   "outputs": [],
   "source": [
    "import nltk\n",
    "from nltk.stem.porter import PorterStemmer\n",
    "\n",
    "token_dict = {}\n",
    "stemmer = PorterStemmer()\n",
    "\n",
    "def stem_tokens(tokens, stemmer):\n",
    "    stemmed = []\n",
    "    for item in tokens:\n",
    "        stemmed.append(stemmer.stem(item))\n",
    "    return stemmed\n",
    "\n",
    "for file in reuters.fileids():\n",
    "    if not isTest(file):\n",
    "        token_dict[file] = stem_tokens(reuters.paras(fileids=[file])[0][0], stemmer)"
   ]
  },
  {
   "cell_type": "code",
   "execution_count": 14,
   "metadata": {
    "collapsed": false
   },
   "outputs": [
    {
     "data": {
      "text/plain": [
       "'investig'"
      ]
     },
     "execution_count": 14,
     "metadata": {},
     "output_type": "execute_result"
    }
   ],
   "source": [
    "stemmer.stem(\"investigation\")"
   ]
  },
  {
   "cell_type": "code",
   "execution_count": 15,
   "metadata": {
    "collapsed": false
   },
   "outputs": [
    {
     "data": {
      "text/plain": [
       "7769"
      ]
     },
     "execution_count": 15,
     "metadata": {},
     "output_type": "execute_result"
    }
   ],
   "source": [
    "len(token_dict)"
   ]
  },
  {
   "cell_type": "code",
   "execution_count": 21,
   "metadata": {
    "collapsed": false
   },
   "outputs": [],
   "source": [
    "from sklearn.feature_extraction.text import TfidfVectorizer\n",
    "\n",
    "tfidf = TfidfVectorizer(stop_words='english', input='content')\n",
    "tfs = tfidf.fit_transform([\" \".join(l) for l in token_dict.values()])"
   ]
  },
  {
   "cell_type": "code",
   "execution_count": 22,
   "metadata": {
    "collapsed": false
   },
   "outputs": [
    {
     "data": {
      "text/plain": [
       "<7769x12287 sparse matrix of type '<class 'numpy.float64'>'\n",
       "\twith 161187 stored elements in Compressed Sparse Row format>"
      ]
     },
     "execution_count": 22,
     "metadata": {},
     "output_type": "execute_result"
    }
   ],
   "source": [
    "tfs"
   ]
  },
  {
   "cell_type": "code",
   "execution_count": 23,
   "metadata": {
    "collapsed": false
   },
   "outputs": [
    {
     "name": "stdout",
     "output_type": "stream",
     "text": [
      "  (0, 279)\t0.121525723525\n",
      "  (0, 375)\t0.149080552621\n",
      "  (0, 4839)\t0.13992323442\n",
      "  (0, 8410)\t0.212543648681\n",
      "  (0, 4151)\t0.122382028936\n",
      "  (0, 8542)\t0.0956387415916\n",
      "  (0, 671)\t0.137730476599\n",
      "  (0, 5049)\t0.184932550801\n",
      "  (0, 3381)\t0.138929809136\n",
      "  (0, 3391)\t0.111379891964\n",
      "  (0, 10490)\t0.150283807631\n",
      "  (0, 10641)\t0.226654030796\n",
      "  (0, 9369)\t0.179182375912\n",
      "  (0, 1675)\t0.263303139953\n",
      "  (0, 8063)\t0.0988654311997\n",
      "  (0, 310)\t0.147277853687\n",
      "  (0, 7582)\t0.146085808593\n",
      "  (0, 398)\t0.127901572851\n",
      "  (0, 9546)\t0.0968707531792\n",
      "  (0, 855)\t0.238436263019\n",
      "  (0, 1)\t0.175756582571\n",
      "  (0, 354)\t0.233167603515\n",
      "  (0, 150)\t0.121106134474\n",
      "  (0, 11838)\t0.224403371121\n",
      "  (0, 3730)\t0.151059062523\n",
      "  (0, 324)\t0.144827017603\n",
      "  (0, 10179)\t0.0840936732152\n",
      "  (0, 7912)\t0.163469862799\n",
      "  (0, 439)\t0.104856754742\n",
      "  (0, 6387)\t0.130976539175\n",
      "  (0, 9144)\t0.0898009091668\n",
      "  (0, 294)\t0.140431933274\n",
      "  (0, 11206)\t0.279413888053\n",
      "  (0, 7035)\t0.0510310061725\n",
      "  (0, 2615)\t0.211306680525\n",
      "  (0, 11210)\t0.263303139953\n"
     ]
    }
   ],
   "source": [
    "for t in tfs[0]:\n",
    "    print(t)"
   ]
  },
  {
   "cell_type": "code",
   "execution_count": 24,
   "metadata": {
    "collapsed": false
   },
   "outputs": [
    {
     "data": {
      "text/plain": [
       "[array(['1987', '26', 'feb', 'paid', 'dividend', 'pct', '50', 'form',\n",
       "        'common', 'compani', 'split', 'stock', 'reflect', 'amt', 'note',\n",
       "        '21', 'mln', '28', 'rev', '656', '000', '243', '12', 'vs', 'ct',\n",
       "        '22', 'shr', 'net', '31', 'jan', 'qtr', '1st', 'tol', 'lt',\n",
       "        'brother', 'toll'], \n",
       "       dtype='<U21')]"
      ]
     },
     "execution_count": 24,
     "metadata": {},
     "output_type": "execute_result"
    }
   ],
   "source": [
    "tfidf.inverse_transform(tfs[0])"
   ]
  },
  {
   "cell_type": "code",
   "execution_count": 26,
   "metadata": {
    "collapsed": false
   },
   "outputs": [
    {
     "data": {
      "text/plain": [
       "TfidfVectorizer(analyzer='word', binary=False, decode_error='strict',\n",
       "        dtype=<class 'numpy.int64'>, encoding='utf-8', input='content',\n",
       "        lowercase=True, max_df=1.0, max_features=None, min_df=1,\n",
       "        ngram_range=(1, 1), norm='l2', preprocessor=None, smooth_idf=True,\n",
       "        stop_words='english', strip_accents=None, sublinear_tf=False,\n",
       "        token_pattern='(?u)\\\\b\\\\w\\\\w+\\\\b', tokenizer=None, use_idf=True,\n",
       "        vocabulary=None)"
      ]
     },
     "execution_count": 26,
     "metadata": {},
     "output_type": "execute_result"
    }
   ],
   "source": [
    "tfidf"
   ]
  },
  {
   "cell_type": "code",
   "execution_count": null,
   "metadata": {
    "collapsed": false
   },
   "outputs": [],
   "source": []
  }
 ],
 "metadata": {
  "kernelspec": {
   "display_name": "Python 3",
   "language": "python",
   "name": "python3"
  },
  "language_info": {
   "codemirror_mode": {
    "name": "ipython",
    "version": 3
   },
   "file_extension": ".py",
   "mimetype": "text/x-python",
   "name": "python",
   "nbconvert_exporter": "python",
   "pygments_lexer": "ipython3",
   "version": "3.4.3"
  }
 },
 "nbformat": 4,
 "nbformat_minor": 0
}
