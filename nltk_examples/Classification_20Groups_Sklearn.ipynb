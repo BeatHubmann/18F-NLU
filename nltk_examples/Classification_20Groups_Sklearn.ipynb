{
 "cells": [
  {
   "cell_type": "markdown",
   "metadata": {},
   "source": [
    "# Classification of text documents: 20-Newsgroup Dataset"
   ]
  },
  {
   "cell_type": "markdown",
   "metadata": {},
   "source": [
    "(From http://scikit-learn.org/stable/auto_examples/text/mlcomp_sparse_document_classification.html#sphx-glr-auto-examples-text-mlcomp-sparse-document-classification-py)\n",
    "\n",
    "This is an example showing how the scikit-learn can be used to classify documents by topics using a bag-of-words approach. \n",
    "This example uses a scipy.sparse matrix to store the features instead of standard numpy arrays.\n",
    "\n",
    "The dataset used in this example is the <b>20 newsgroups dataset</b> and should be downloaded from the http://mlcomp.org (free registration required): http://mlcomp.org/datasets/379\n",
    "\n",
    "Once downloaded unzip the archive somewhere on your filesystem. For instance in:\n",
    "\n",
    "```\n",
    "% mkdir -p ~/data/mlcomp\n",
    "% cd  ~/data/mlcomp\n",
    "% unzip /path/to/dataset-379-20news-18828_XXXXX.zip\n",
    "```"
   ]
  },
  {
   "cell_type": "markdown",
   "metadata": {},
   "source": [
    "You should get a folder ~/data/mlcomp/379 with a file named metadata and subfolders raw, train and test holding the text documents organized by newsgroups.\n",
    "\n",
    "Then set the MLCOMP_DATASETS_HOME environment variable pointing to the root folder holding the uncompressed archive:\n",
    "```\n",
    "% export MLCOMP_DATASETS_HOME=\"~/data/mlcomp\"\n",
    "```\n",
    "\n",
    "Alternatively, you can execute this code (assuming the Data folder is located under the folder in which your notebook is running):"
   ]
  },
  {
   "cell_type": "code",
   "execution_count": 6,
   "metadata": {
    "collapsed": true
   },
   "outputs": [],
   "source": [
    "import os\n",
    "os.environ['MLCOMP_DATASETS_HOME']='Data/mlcomp'"
   ]
  },
  {
   "cell_type": "markdown",
   "metadata": {},
   "source": [
    "The statistics of the dataset are:\n",
    "\n",
    "```\n",
    "20 newsgroups dataset for document classification \n",
    "Source: http://people.csail.mit.edu/jrennie/20Newsgroups\n",
    "Format: DocumentClassification\n",
    "User:   pliang\n",
    "Size:   64M\n",
    "#train  13180\n",
    "#test   5648\n",
    "#labels 20\n",
    "```"
   ]
  },
  {
   "cell_type": "code",
   "execution_count": 24,
   "metadata": {
    "collapsed": false
   },
   "outputs": [],
   "source": [
    "# Author: Olivier Grisel <olivier.grisel@ensta.org>\n",
    "# License: BSD 3 clause\n",
    "\n",
    "%matplotlib inline\n",
    "\n",
    "from __future__ import print_function\n",
    "\n",
    "from time import time\n",
    "import sys\n",
    "import os\n",
    "import numpy as np\n",
    "import scipy.sparse as sp\n",
    "import matplotlib.pyplot as plt\n",
    "\n",
    "from sklearn.datasets import load_mlcomp\n",
    "from sklearn.feature_extraction.text import TfidfVectorizer\n",
    "from sklearn.linear_model import SGDClassifier\n",
    "from sklearn.metrics import confusion_matrix\n",
    "from sklearn.metrics import classification_report\n",
    "from sklearn.naive_bayes import MultinomialNB"
   ]
  },
  {
   "cell_type": "markdown",
   "metadata": {},
   "source": [
    "SKLearn has built-in utilities to load datasets from the MLCOMP repository."
   ]
  },
  {
   "cell_type": "code",
   "execution_count": 8,
   "metadata": {
    "collapsed": false
   },
   "outputs": [
    {
     "name": "stdout",
     "output_type": "stream",
     "text": [
      "Loading 20 newsgroups training set... \n",
      "20 newsgroups dataset for document classification (http://people.csail.mit.edu/jrennie/20Newsgroups)\n",
      "13180 documents\n",
      "20 categories\n"
     ]
    }
   ],
   "source": [
    "# Load the training set\n",
    "print(\"Loading 20 newsgroups training set... \")\n",
    "news_train = load_mlcomp('20news-18828', 'train')\n",
    "print(news_train.DESCR)\n",
    "print(\"%d documents\" % len(news_train.filenames))\n",
    "print(\"%d categories\" % len(news_train.target_names))"
   ]
  },
  {
   "cell_type": "markdown",
   "metadata": {},
   "source": [
    "We now vectorize the dataset using SKLearn vectorizers.  This is the stage of feature extraction.\n",
    "We use the TF-IDF feature model."
   ]
  },
  {
   "cell_type": "code",
   "execution_count": 15,
   "metadata": {
    "collapsed": false
   },
   "outputs": [
    {
     "name": "stdout",
     "output_type": "stream",
     "text": [
      "Extracting features from the dataset using a sparse vectorizer\n",
      "done in 156.359400s\n",
      "n_samples: 13180, n_features: 130274\n"
     ]
    }
   ],
   "source": [
    "print(\"Extracting features from the dataset using a sparse vectorizer\")\n",
    "t0 = time()\n",
    "vectorizer = TfidfVectorizer(encoding='latin1')\n",
    "X_train = vectorizer.fit_transform((open(f, encoding='latin1').read() for f in news_train.filenames))\n",
    "print(\"done in %fs\" % (time() - t0))\n",
    "print(\"n_samples: %d, n_features: %d\" % X_train.shape)\n",
    "assert sp.issparse(X_train)\n",
    "y_train = news_train.target"
   ]
  },
  {
   "cell_type": "markdown",
   "metadata": {},
   "source": [
    "Let us load the test dataset:"
   ]
  },
  {
   "cell_type": "code",
   "execution_count": 16,
   "metadata": {
    "collapsed": false
   },
   "outputs": [
    {
     "name": "stdout",
     "output_type": "stream",
     "text": [
      "Loading 20 newsgroups test set... \n",
      "done in 0.000000s\n"
     ]
    }
   ],
   "source": [
    "print(\"Loading 20 newsgroups test set... \")\n",
    "news_test = load_mlcomp('20news-18828', 'test')\n",
    "t0 = time()\n",
    "print(\"done in %fs\" % (time() - t0))"
   ]
  },
  {
   "cell_type": "code",
   "execution_count": 19,
   "metadata": {
    "collapsed": false
   },
   "outputs": [
    {
     "name": "stdout",
     "output_type": "stream",
     "text": [
      "Predicting the labels of the test set...\n",
      "5648 documents\n",
      "20 categories\n"
     ]
    }
   ],
   "source": [
    "print(\"Predicting the labels of the test set...\")\n",
    "print(\"%d documents\" % len(news_test.filenames))\n",
    "print(\"%d categories\" % len(news_test.target_names))"
   ]
  },
  {
   "cell_type": "markdown",
   "metadata": {},
   "source": [
    "We also extract features from the test dataset using the same vectorizer as for training:"
   ]
  },
  {
   "cell_type": "code",
   "execution_count": 21,
   "metadata": {
    "collapsed": false
   },
   "outputs": [
    {
     "name": "stdout",
     "output_type": "stream",
     "text": [
      "Extracting features from the dataset using the same vectorizer\n",
      "done in 3.270200s\n",
      "n_samples: 5648, n_features: 130274\n"
     ]
    }
   ],
   "source": [
    "print(\"Extracting features from the dataset using the same vectorizer\")\n",
    "t0 = time()\n",
    "X_test = vectorizer.transform((open(f, encoding='latin1').read() for f in news_test.filenames))\n",
    "y_test = news_test.target\n",
    "print(\"done in %fs\" % (time() - t0))\n",
    "print(\"n_samples: %d, n_features: %d\" % X_test.shape)"
   ]
  },
  {
   "cell_type": "markdown",
   "metadata": {},
   "source": [
    "Let us now benchmark different classifiers:"
   ]
  },
  {
   "cell_type": "code",
   "execution_count": 22,
   "metadata": {
    "collapsed": true
   },
   "outputs": [],
   "source": [
    "def benchmark(clf_class, params, name):\n",
    "    print(\"parameters:\", params)\n",
    "    t0 = time()\n",
    "    clf = clf_class(**params).fit(X_train, y_train)\n",
    "    print(\"done in %fs\" % (time() - t0))\n",
    "\n",
    "    if hasattr(clf, 'coef_'):\n",
    "        print(\"Percentage of non zeros coef: %f\" % (np.mean(clf.coef_ != 0) * 100))\n",
    "    print(\"Predicting the outcomes of the testing set\")\n",
    "    t0 = time()\n",
    "    pred = clf.predict(X_test)\n",
    "    print(\"done in %fs\" % (time() - t0))\n",
    "\n",
    "    print(\"Classification report on test set for classifier:\")\n",
    "    print(clf)\n",
    "    print()\n",
    "    print(classification_report(y_test, pred, target_names=news_test.target_names))\n",
    "\n",
    "    cm = confusion_matrix(y_test, pred)\n",
    "    print(\"Confusion matrix:\")\n",
    "    print(cm)\n",
    "\n",
    "    # Show confusion matrix\n",
    "    plt.matshow(cm)\n",
    "    plt.title('Confusion matrix of the %s classifier' % name)\n",
    "    plt.colorbar()"
   ]
  },
  {
   "cell_type": "markdown",
   "metadata": {},
   "source": [
    "   ## Benchmark a Linear Classifier"
   ]
  },
  {
   "cell_type": "code",
   "execution_count": 23,
   "metadata": {
    "collapsed": false
   },
   "outputs": [
    {
     "name": "stdout",
     "output_type": "stream",
     "text": [
      "Testbenching a linear classifier...\n",
      "parameters: {'n_iter': 50, 'penalty': 'l2', 'fit_intercept': True, 'alpha': 1e-05, 'loss': 'hinge'}\n",
      "done in 11.101400s\n",
      "Percentage of non zeros coef: 30.334948\n",
      "Predicting the outcomes of the testing set\n",
      "done in 0.062400s\n",
      "Classification report on test set for classifier:\n",
      "SGDClassifier(alpha=1e-05, average=False, class_weight=None, epsilon=0.1,\n",
      "       eta0=0.0, fit_intercept=True, l1_ratio=0.15,\n",
      "       learning_rate='optimal', loss='hinge', n_iter=50, n_jobs=1,\n",
      "       penalty='l2', power_t=0.5, random_state=None, shuffle=True,\n",
      "       verbose=0, warm_start=False)\n",
      "\n",
      "                          precision    recall  f1-score   support\n",
      "\n",
      "             alt.atheism       0.94      0.92      0.93       245\n",
      "           comp.graphics       0.85      0.91      0.88       298\n",
      " comp.os.ms-windows.misc       0.88      0.88      0.88       292\n",
      "comp.sys.ibm.pc.hardware       0.81      0.81      0.81       301\n",
      "   comp.sys.mac.hardware       0.90      0.91      0.90       256\n",
      "          comp.windows.x       0.93      0.87      0.90       297\n",
      "            misc.forsale       0.86      0.89      0.87       290\n",
      "               rec.autos       0.93      0.94      0.94       324\n",
      "         rec.motorcycles       0.97      0.97      0.97       294\n",
      "      rec.sport.baseball       0.97      0.97      0.97       315\n",
      "        rec.sport.hockey       0.98      0.99      0.99       302\n",
      "               sci.crypt       0.98      0.95      0.96       297\n",
      "         sci.electronics       0.87      0.89      0.88       313\n",
      "                 sci.med       0.96      0.97      0.97       277\n",
      "               sci.space       0.97      0.96      0.97       305\n",
      "  soc.religion.christian       0.94      0.97      0.96       293\n",
      "      talk.politics.guns       0.93      0.95      0.94       246\n",
      "   talk.politics.mideast       0.96      0.99      0.98       296\n",
      "      talk.politics.misc       0.96      0.90      0.93       236\n",
      "      talk.religion.misc       0.90      0.82      0.86       171\n",
      "\n",
      "             avg / total       0.93      0.93      0.93      5648\n",
      "\n",
      "Confusion matrix:\n",
      "[[226   0   0   0   0   0   0   0   0   0   0   1   3   1   0   2   0   1\n",
      "    0  11]\n",
      " [  0 271   3   9   2   5   2   0   0   1   0   0   3   1   0   0   0   1\n",
      "    0   0]\n",
      " [  0   6 257  14   5   6   1   0   0   0   0   0   2   0   1   0   0   0\n",
      "    0   0]\n",
      " [  1   7  12 243   7   3  12   2   0   0   0   1  12   0   0   1   0   0\n",
      "    0   0]\n",
      " [  0   2   3   8 233   1   4   0   1   0   0   0   3   0   1   0   0   0\n",
      "    0   0]\n",
      " [  0  19  10   4   0 258   0   0   0   1   0   0   2   0   2   0   1   0\n",
      "    0   0]\n",
      " [  0   0   3   7   5   0 257   7   2   0   0   1   7   0   1   0   0   0\n",
      "    0   0]\n",
      " [  0   0   0   2   1   0   5 306   2   2   0   0   4   1   0   0   1   0\n",
      "    0   0]\n",
      " [  0   0   0   0   1   0   3   3 285   0   0   0   1   0   0   1   0   0\n",
      "    0   0]\n",
      " [  0   0   0   0   0   0   3   2   0 305   2   1   1   0   0   0   0   0\n",
      "    1   0]\n",
      " [  0   0   0   0   0   0   1   0   1   0 300   0   0   0   0   0   0   0\n",
      "    0   0]\n",
      " [  0   0   1   1   0   2   2   1   0   0   0 282   0   1   1   0   2   2\n",
      "    1   1]\n",
      " [  0   2   2  11   3   1   5   5   1   0   1   1 278   2   1   0   0   0\n",
      "    0   0]\n",
      " [  0   3   0   0   1   1   1   0   0   0   0   0   0 269   0   1   1   0\n",
      "    0   0]\n",
      " [  0   5   0   0   1   0   0   0   0   0   2   0   2   0 294   0   0   0\n",
      "    1   0]\n",
      " [  1   1   1   0   0   1   0   1   0   0   0   0   0   1   1 284   1   0\n",
      "    0   1]\n",
      " [  0   0   1   0   0   0   0   0   1   3   0   0   0   0   0   1 233   1\n",
      "    5   1]\n",
      " [  0   0   0   0   0   0   0   1   0   0   0   0   0   0   0   2   0 293\n",
      "    0   0]\n",
      " [  0   2   0   0   0   0   2   0   0   1   0   1   0   1   0   0   9   5\n",
      "  213   2]\n",
      " [ 13   0   0   0   0   0   0   0   0   0   0   1   0   2   0   9   2   1\n",
      "    2 141]]\n"
     ]
    },
    {
     "data": {
      "image/png": "[encoded data removed]",
      "text/plain": [
       "<matplotlib.figure.Figure at 0x3307358>"
      ]
     },
     "metadata": {},
     "output_type": "display_data"
    }
   ],
   "source": [
    "print(\"Testbenching a linear classifier...\")\n",
    "parameters = {\n",
    "    'loss': 'hinge',\n",
    "    'penalty': 'l2',\n",
    "    'n_iter': 50,\n",
    "    'alpha': 0.00001,\n",
    "    'fit_intercept': True,\n",
    "}\n",
    "\n",
    "benchmark(SGDClassifier, parameters, 'SGD')"
   ]
  },
  {
   "cell_type": "markdown",
   "metadata": {},
   "source": [
    "## Benchmark a MultinomialNB Classifier"
   ]
  },
  {
   "cell_type": "code",
   "execution_count": 25,
   "metadata": {
    "collapsed": false
   },
   "outputs": [
    {
     "name": "stdout",
     "output_type": "stream",
     "text": [
      "Testbenching a MultinomialNB classifier...\n",
      "parameters: {'alpha': 0.01}\n",
      "done in 0.195400s\n",
      "Percentage of non zeros coef: 100.000000\n",
      "Predicting the outcomes of the testing set\n",
      "done in 0.014000s\n",
      "Classification report on test set for classifier:\n",
      "MultinomialNB(alpha=0.01, class_prior=None, fit_prior=True)\n",
      "\n",
      "                          precision    recall  f1-score   support\n",
      "\n",
      "             alt.atheism       0.90      0.92      0.91       245\n",
      "           comp.graphics       0.81      0.89      0.85       298\n",
      " comp.os.ms-windows.misc       0.87      0.83      0.85       292\n",
      "comp.sys.ibm.pc.hardware       0.82      0.83      0.83       301\n",
      "   comp.sys.mac.hardware       0.90      0.92      0.91       256\n",
      "          comp.windows.x       0.90      0.89      0.89       297\n",
      "            misc.forsale       0.90      0.84      0.87       290\n",
      "               rec.autos       0.93      0.94      0.93       324\n",
      "         rec.motorcycles       0.98      0.97      0.97       294\n",
      "      rec.sport.baseball       0.97      0.97      0.97       315\n",
      "        rec.sport.hockey       0.97      0.99      0.98       302\n",
      "               sci.crypt       0.95      0.95      0.95       297\n",
      "         sci.electronics       0.90      0.86      0.88       313\n",
      "                 sci.med       0.97      0.96      0.97       277\n",
      "               sci.space       0.95      0.97      0.96       305\n",
      "  soc.religion.christian       0.91      0.97      0.94       293\n",
      "      talk.politics.guns       0.89      0.96      0.93       246\n",
      "   talk.politics.mideast       0.95      0.98      0.97       296\n",
      "      talk.politics.misc       0.93      0.87      0.90       236\n",
      "      talk.religion.misc       0.92      0.74      0.82       171\n",
      "\n",
      "             avg / total       0.92      0.92      0.92      5648\n",
      "\n",
      "Confusion matrix:\n",
      "[[226   0   0   0   0   0   0   0   0   1   0   0   0   0   2   7   0   0\n",
      "    0   9]\n",
      " [  1 266   7   4   1   6   2   2   0   0   0   3   4   1   1   0   0   0\n",
      "    0   0]\n",
      " [  0  11 243  22   4   7   1   0   0   0   0   1   2   0   0   0   0   0\n",
      "    1   0]\n",
      " [  0   7  12 250   8   4   9   0   0   1   1   0   9   0   0   0   0   0\n",
      "    0   0]\n",
      " [  0   3   3   5 235   2   3   1   0   0   0   2   1   0   1   0   0   0\n",
      "    0   0]\n",
      " [  0  19   5   3   2 263   0   0   0   0   0   1   0   1   1   0   2   0\n",
      "    0   0]\n",
      " [  0   1   4   9   3   1 243   9   2   3   1   0   8   0   0   0   2   2\n",
      "    2   0]\n",
      " [  0   0   0   1   1   0   5 304   1   2   0   0   3   2   3   1   1   0\n",
      "    0   0]\n",
      " [  0   0   0   0   0   2   2   3 285   0   0   0   1   0   0   0   0   0\n",
      "    0   1]\n",
      " [  0   1   0   0   0   1   1   3   0 304   5   0   0   0   0   0   0   0\n",
      "    0   0]\n",
      " [  0   0   0   0   0   0   0   0   1   2 299   0   0   0   0   0   0   0\n",
      "    0   0]\n",
      " [  0   2   2   1   0   1   2   0   0   0   0 283   1   0   0   0   2   1\n",
      "    2   0]\n",
      " [  0  11   1   9   3   1   3   5   1   0   1   4 270   1   3   0   0   0\n",
      "    0   0]\n",
      " [  0   2   0   1   1   1   0   0   0   0   0   1   0 266   2   1   0   0\n",
      "    2   0]\n",
      " [  0   2   0   0   1   0   0   0   0   0   0   2   1   1 296   0   1   1\n",
      "    0   0]\n",
      " [  3   1   0   0   0   0   0   0   0   0   1   0   0   2   0 283   0   1\n",
      "    2   0]\n",
      " [  1   0   1   0   0   0   0   0   1   0   0   1   0   0   0   0 237   1\n",
      "    3   1]\n",
      " [  1   0   0   0   0   1   0   0   0   0   0   0   0   0   0   3   0 291\n",
      "    0   0]\n",
      " [  1   1   0   0   1   1   0   1   0   0   0   0   0   0   1   1  17   6\n",
      "  206   0]\n",
      " [ 18   1   0   0   0   0   0   0   0   1   0   0   0   0   0  14   4   2\n",
      "    4 127]]\n"
     ]
    },
    {
     "data": {
      "image/png": "[encoded data removed]",
      "text/plain": [
       "<matplotlib.figure.Figure at 0xcf1eba8>"
      ]
     },
     "metadata": {},
     "output_type": "display_data"
    }
   ],
   "source": [
    "print(\"Testbenching a MultinomialNB classifier...\")\n",
    "parameters = {'alpha': 0.01}\n",
    "\n",
    "benchmark(MultinomialNB, parameters, 'MultinomialNB')"
   ]
  },
  {
   "cell_type": "code",
   "execution_count": null,
   "metadata": {
    "collapsed": true
   },
   "outputs": [],
   "source": []
  }
 ],
 "metadata": {
  "kernelspec": {
   "display_name": "Python [default]",
   "language": "python",
   "name": "python3"
  },
  "language_info": {
   "codemirror_mode": {
    "name": "ipython",
    "version": 3
   },
   "file_extension": ".py",
   "mimetype": "text/x-python",
   "name": "python",
   "nbconvert_exporter": "python",
   "pygments_lexer": "ipython3",
   "version": "3.5.2"
  }
 },
 "nbformat": 4,
 "nbformat_minor": 1
}
