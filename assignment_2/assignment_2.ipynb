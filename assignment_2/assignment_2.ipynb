{
 "cells": [
  {
   "cell_type": "markdown",
   "metadata": {
    "ExecuteTime": {
     "end_time": "2018-03-04T13:28:46.412772Z",
     "start_time": "2018-03-04T13:28:45.592493Z"
    }
   },
   "source": [
    "## Assignment 2\n",
    "\n",
    "Created on Thu Mar  1 10:52:39 2018\n",
    "\n",
    "@author: ktaranov"
   ]
  },
  {
   "cell_type": "code",
   "execution_count": 9,
   "metadata": {
    "ExecuteTime": {
     "end_time": "2018-03-13T15:14:33.157355Z",
     "start_time": "2018-03-13T15:14:33.150812Z"
    }
   },
   "outputs": [],
   "source": [
    "import nltk \n",
    "import numpy as np\n",
    "\n",
    "# nltk.download('punkt')\n",
    "# nltk.download('averaged_perceptron_tagger')\n",
    "# nltk.download('universal_tagset')\n",
    "# nltk.download('tagsets')"
   ]
  },
  {
   "cell_type": "code",
   "execution_count": 10,
   "metadata": {
    "ExecuteTime": {
     "end_time": "2018-03-13T15:14:35.389070Z",
     "start_time": "2018-03-13T15:14:35.360028Z"
    }
   },
   "outputs": [
    {
     "name": "stdout",
     "output_type": "stream",
     "text": [
      "['ETH', 'is', 'the', 'best', 'university', 'in', 'the', 'world', '.']\n",
      "['Dogs', 'are', 'animals', '.']\n"
     ]
    }
   ],
   "source": [
    "# PoS tagging is the process of tagging a word in a text\n",
    "# where the tag is a particular part of speech mark\n",
    "\n",
    "# The 12 universal tags are:\n",
    "\n",
    "# VERB - verbs (all tenses and modes)\n",
    "# NOUN - nouns (common and proper)\n",
    "# PRON - pronouns \n",
    "# ADJ - adjectives\n",
    "# ADV - adverbs\n",
    "# ADP - adpositions (prepositions and postpositions)\n",
    "# CONJ - conjunctions\n",
    "# DET - determiners\n",
    "# NUM - cardinal numbers\n",
    "# PRT - particles or other function words\n",
    "# X - other: foreign words, typos, abbreviations\n",
    "# . - punctuation\n",
    "\n",
    "# Examples of tagging:\n",
    "\n",
    "text = nltk.word_tokenize(\"ETH is the best university in the world.\")\n",
    "nltk.pos_tag(text,tagset='universal')\n",
    "print(text)\n",
    "text = nltk.word_tokenize(\"Dogs are animals.\")\n",
    "nltk.pos_tag(text,tagset='universal')\n",
    "print(text)"
   ]
  },
  {
   "cell_type": "markdown",
   "metadata": {
    "ExecuteTime": {
     "end_time": "2018-03-04T13:29:45.457283Z",
     "start_time": "2018-03-04T13:29:41.038325Z"
    }
   },
   "source": [
    "### In this exercise, you should implement your PoS tagging using a Hidden Markov model.\n",
    "For learning your model the following Tagged Corpora can be used."
   ]
  },
  {
   "cell_type": "code",
   "execution_count": 11,
   "metadata": {
    "ExecuteTime": {
     "end_time": "2018-03-13T15:14:45.721918Z",
     "start_time": "2018-03-13T15:14:37.461404Z"
    }
   },
   "outputs": [],
   "source": [
    "# nltk.download('brown')\n",
    "# nltk.download('treebank')\n",
    "\n",
    "#from nltk.corpus import treebank as corpus\n",
    "from nltk.corpus import brown as corpus\n",
    "\n",
    "# We add an artificial \"START\" and \"END\" tags at the beginning and at the end of each sentence\n",
    "\n",
    "tagged_words = [ ]\n",
    "all_tags = [ ]\n",
    "\n",
    "for sent in corpus.tagged_sents(tagset='universal'): # get tagged sentences\n",
    "    tagged_words.append( (\"START\", \"START\") )\n",
    "    all_tags.append(\"START\")\n",
    "    for (word, tag) in sent:\n",
    "        all_tags.append(tag)\n",
    "        tagged_words.append( (tag, word) ) \n",
    "    tagged_words.append( (\"END\", \"END\") )\n",
    "    all_tags.append(\"END\")"
   ]
  },
  {
   "cell_type": "markdown",
   "metadata": {
    "ExecuteTime": {
     "end_time": "2018-03-04T13:07:35.258264Z",
     "start_time": "2018-03-04T13:07:31.766713Z"
    }
   },
   "source": [
    "### Estimating probabilities section\n",
    "For Viterbi algorithm we need to compute:\n",
    "* The maximum likelihood estimate of a transition probability $P(t_{i} | t_{i-1}) = C(t_{i-1}, t_{i})/C(t_{i-1})$\n",
    "* Emission probabilities $P(w_{i} | t_{i}) =  C(t_{i}, w_{i}) / C(t_{i})$\n",
    " "
   ]
  },
  {
   "cell_type": "code",
   "execution_count": 12,
   "metadata": {
    "ExecuteTime": {
     "end_time": "2018-03-13T15:14:53.473119Z",
     "start_time": "2018-03-13T15:14:48.918833Z"
    }
   },
   "outputs": [
    {
     "name": "stdout",
     "output_type": "stream",
     "text": [
      "Frequency of C('DET', 'NOUN') is  85838\n",
      "Probability of P('NOUN' | 'DET') is  0.6264678621213117\n",
      "Frequency of C('DET', 'the') is  62710\n",
      "Probability of P('the' | 'DET') is  0.45767375327509324\n"
     ]
    }
   ],
   "source": [
    "# C(t_{i-1}, t_{i}):\n",
    "cfd_tags= nltk.ConditionalFreqDist(nltk.bigrams(all_tags))\n",
    "# Transition probabilities P(t_{i} | t_{i-1})\n",
    "cpd_tags = nltk.ConditionalProbDist(cfd_tags, nltk.MLEProbDist)\n",
    "\n",
    "# Example:\n",
    "# C('DET', 'NOUN'):\n",
    "print(\"Frequency of C('DET', 'NOUN') is \", cfd_tags['DET']['NOUN'] )\n",
    "# P('NOUN' | 'DET')\n",
    "print(\"Probability of P('NOUN' | 'DET') is \", cpd_tags['DET'].prob('NOUN') )\n",
    "\n",
    "\n",
    "# C(t_{i}, w_{i})\n",
    "cfd_tagwords = nltk.ConditionalFreqDist(tagged_words)\n",
    "# Emission probabilities P(w_{i} | t_{i})\n",
    "cpd_tagwords = nltk.ConditionalProbDist(cfd_tagwords, nltk.MLEProbDist)\n",
    "\n",
    "# Example:\n",
    "# C('DET', 'NOUN'):\n",
    "print(\"Frequency of C('DET', 'the') is \", cfd_tagwords['DET']['the'] )\n",
    "# P('the' | 'DET')\n",
    "print(\"Probability of P('the' | 'DET') is \", cpd_tagwords['DET'].prob('the') )"
   ]
  },
  {
   "cell_type": "markdown",
   "metadata": {
    "ExecuteTime": {
     "end_time": "2018-03-04T13:09:25.169566Z",
     "start_time": "2018-03-04T13:09:25.161216Z"
    }
   },
   "source": [
    "### Task 1:\n",
    "Estimate the probability of the tag sequence \"NOUN VERB VERB .\" for the word sequence \"birds can fly.\"  $P(t^{n} | w^{n} )$ using the transition and emission probabilities estimated above.\n",
    "\n",
    " "
   ]
  },
  {
   "cell_type": "code",
   "execution_count": 13,
   "metadata": {
    "ExecuteTime": {
     "end_time": "2018-03-13T15:14:55.167000Z",
     "start_time": "2018-03-13T15:14:55.157539Z"
    }
   },
   "outputs": [
    {
     "name": "stdout",
     "output_type": "stream",
     "text": [
      "The probability of the tag sequence 'NOUN VERB VERB .' for 'birds can fly.' is: 6.5932971745681245e-15\n"
     ]
    }
   ],
   "source": [
    "prob_tagsequence = cpd_tags[\"START\"].prob(\"NOUN\")  * cpd_tagwords[\"NOUN\"].prob(\"birds\") * \\\n",
    "                   cpd_tags[\"NOUN\"].prob(\"VERB\")   * cpd_tagwords[\"VERB\"].prob(\"can\") *\\\n",
    "                   cpd_tags[\"VERB\"].prob(\"VERB\")   * cpd_tagwords[\"VERB\"].prob(\"fly\") * \\\n",
    "                   cpd_tags[\"VERB\"].prob(\".\")      * cpd_tagwords[\".\"].prob(\".\") * \\\n",
    "                   cpd_tags[\".\"].prob(\"END\")\n",
    "\n",
    "print(\"The probability of the tag sequence 'NOUN VERB VERB .' for 'birds can fly.' is:\", prob_tagsequence)"
   ]
  },
  {
   "cell_type": "markdown",
   "metadata": {},
   "source": [
    "### Task 2:\n",
    "Implement the Viterbi algorithm for PoS tagging."
   ]
  },
  {
   "cell_type": "code",
   "execution_count": 14,
   "metadata": {
    "ExecuteTime": {
     "end_time": "2018-03-13T15:15:40.850164Z",
     "start_time": "2018-03-13T15:15:40.683410Z"
    }
   },
   "outputs": [],
   "source": [
    "def viterbi(sentence):\n",
    "    # Step 1. initialization step\n",
    " \n",
    "    distinct_tags = np.array(list(set(all_tags)))\n",
    "    tagslen = len(distinct_tags)\n",
    "\n",
    "    sentlen = len(sentence)\n",
    "    viterbi = np.zeros((tagslen, sentlen+1) ,dtype=float)\n",
    "    backpointer = np.zeros((tagslen, sentlen+1) ,dtype=np.uint32)\n",
    "    \n",
    " \n",
    "   \n",
    "    # Step 1. initialization step\n",
    "    for s, tag in enumerate(distinct_tags):\n",
    "        viterbi[s,0] =  cpd_tags[\"START\"].prob(tag) * cpd_tagwords[tag].prob( sentence[0] )\n",
    "        backpointer[s,0] = 0\n",
    "        print(\"Viterbi probability V( {1} ,{0} ) = {2}\".format(sentence[0], tag, viterbi[s,0]))\n",
    "    print(20*'=')\n",
    "\n",
    "    \n",
    "    # Step 2. recursion step\n",
    "    for t in range(1, sentlen):\n",
    "        for s, tag in enumerate(distinct_tags):\n",
    "            current_viterbi = np.zeros( tagslen ,dtype=float)\n",
    "            for sprime, predtag in enumerate(distinct_tags):\n",
    "                current_viterbi[sprime] = viterbi[sprime,t-1] * \\\n",
    "                                          cpd_tags[predtag].prob(tag) * \\\n",
    "                                          cpd_tagwords[tag].prob(sentence[t])\n",
    "            backpointer[s,t] = np.argmax(current_viterbi)\n",
    "            viterbi[s,t] = max(current_viterbi)\n",
    "            print(\"Viterbi probability V( {1} ,{0} ) = {2}\".format(sentence[t],tag,  viterbi[s,t]))\n",
    "            \n",
    "        print(20*'=')\n",
    "        \n",
    "            \n",
    "    # Step 3. termination step\n",
    "    current_viterbi = np.empty( tagslen ,dtype=float)\n",
    "    ind_of_end = -1\n",
    "    for s, tag in enumerate(distinct_tags):\n",
    "        if tag == \"END\":\n",
    "            ind_of_end  = s\n",
    "        current_viterbi[s] = viterbi[s,sentlen-1] * cpd_tags[tag].prob(\"END\") \n",
    "           \n",
    "    backpointer[ind_of_end,sentlen] = np.argmax(current_viterbi)\n",
    "    viterbi[ind_of_end,sentlen] = max(current_viterbi)\n",
    "            \n",
    "    # Step 3. backtrace the path\n",
    "    best_tagsequence = [ ]\n",
    "    prob_tagsequence = 1.0\n",
    "    prevind  = ind_of_end\n",
    "    for t in range(sentlen,0,-1):\n",
    "        if(t!=sentlen):\n",
    "            prob_tagsequence=prob_tagsequence*viterbi[prevind,t]\n",
    "        prevind = backpointer[prevind,t]\n",
    "        best_tagsequence.append(distinct_tags[prevind])\n",
    "    best_tagsequence.reverse()\n",
    "\n",
    "    return best_tagsequence, prob_tagsequence\n",
    "\n",
    "    "
   ]
  },
  {
   "cell_type": "markdown",
   "metadata": {
    "ExecuteTime": {
     "end_time": "2018-03-04T13:09:16.815850Z",
     "start_time": "2018-03-04T13:09:16.628149Z"
    }
   },
   "source": [
    "### Task 3:\n",
    "\n",
    "Try to tag the sentences below.\n",
    "- Why does it fail to predict tags for the sentence about ETH?  \n",
    "- (Could it just mislabel the sentence because it disagreed with the statement?)"
   ]
  },
  {
   "cell_type": "code",
   "execution_count": 15,
   "metadata": {
    "ExecuteTime": {
     "end_time": "2018-03-13T15:16:00.636073Z",
     "start_time": "2018-03-13T15:16:00.505386Z"
    }
   },
   "outputs": [
    {
     "name": "stdout",
     "output_type": "stream",
     "text": [
      "Viterbi probability V( PRON ,The ) = 0.0\n",
      "Viterbi probability V( . ,The ) = 0.0\n",
      "Viterbi probability V( START ,The ) = 0.0\n",
      "Viterbi probability V( X ,The ) = 0.0\n",
      "Viterbi probability V( DET ,The ) = 0.011305478033945441\n",
      "Viterbi probability V( CONJ ,The ) = 0.0\n",
      "Viterbi probability V( PRT ,The ) = 0.0\n",
      "Viterbi probability V( NUM ,The ) = 0.0\n",
      "Viterbi probability V( END ,The ) = 0.0\n",
      "Viterbi probability V( ADP ,The ) = 0.0\n",
      "Viterbi probability V( ADV ,The ) = 0.0\n",
      "Viterbi probability V( NOUN ,The ) = 0.0\n",
      "Viterbi probability V( ADJ ,The ) = 0.0\n",
      "Viterbi probability V( VERB ,The ) = 0.0\n",
      "====================\n",
      "Viterbi probability V( PRON ,dog ) = 0.0\n",
      "Viterbi probability V( . ,dog ) = 0.0\n",
      "Viterbi probability V( START ,dog ) = 0.0\n",
      "Viterbi probability V( X ,dog ) = 0.0\n",
      "Viterbi probability V( DET ,dog ) = 0.0\n",
      "Viterbi probability V( CONJ ,dog ) = 0.0\n",
      "Viterbi probability V( PRT ,dog ) = 0.0\n",
      "Viterbi probability V( NUM ,dog ) = 0.0\n",
      "Viterbi probability V( END ,dog ) = 0.0\n",
      "Viterbi probability V( ADP ,dog ) = 0.0\n",
      "Viterbi probability V( ADV ,dog ) = 0.0\n",
      "Viterbi probability V( NOUN ,dog ) = 1.7991722461077796e-06\n",
      "Viterbi probability V( ADJ ,dog ) = 0.0\n",
      "Viterbi probability V( VERB ,dog ) = 0.0\n",
      "====================\n",
      "Viterbi probability V( PRON ,is ) = 0.0\n",
      "Viterbi probability V( . ,is ) = 0.0\n",
      "Viterbi probability V( START ,is ) = 0.0\n",
      "Viterbi probability V( X ,is ) = 4.333954186694524e-13\n",
      "Viterbi probability V( DET ,is ) = 0.0\n",
      "Viterbi probability V( CONJ ,is ) = 0.0\n",
      "Viterbi probability V( PRT ,is ) = 0.0\n",
      "Viterbi probability V( NUM ,is ) = 0.0\n",
      "Viterbi probability V( END ,is ) = 0.0\n",
      "Viterbi probability V( ADP ,is ) = 0.0\n",
      "Viterbi probability V( ADV ,is ) = 0.0\n",
      "Viterbi probability V( NOUN ,is ) = 0.0\n",
      "Viterbi probability V( ADJ ,is ) = 0.0\n",
      "Viterbi probability V( VERB ,is ) = 1.5651050640481013e-08\n",
      "====================\n",
      "Viterbi probability V( PRON ,mine ) = 6.285703823143687e-13\n",
      "Viterbi probability V( . ,mine ) = 0.0\n",
      "Viterbi probability V( START ,mine ) = 0.0\n",
      "Viterbi probability V( X ,mine ) = 0.0\n",
      "Viterbi probability V( DET ,mine ) = 1.861608445891835e-14\n",
      "Viterbi probability V( CONJ ,mine ) = 0.0\n",
      "Viterbi probability V( PRT ,mine ) = 0.0\n",
      "Viterbi probability V( NUM ,mine ) = 0.0\n",
      "Viterbi probability V( END ,mine ) = 0.0\n",
      "Viterbi probability V( ADP ,mine ) = 0.0\n",
      "Viterbi probability V( ADV ,mine ) = 0.0\n",
      "Viterbi probability V( NOUN ,mine ) = 9.968479497384108e-14\n",
      "Viterbi probability V( ADJ ,mine ) = 0.0\n",
      "Viterbi probability V( VERB ,mine ) = 0.0\n",
      "====================\n",
      "Viterbi probability V( PRON ,. ) = 0.0\n",
      "Viterbi probability V( . ,. ) = 2.179750129583452e-14\n",
      "Viterbi probability V( START ,. ) = 0.0\n",
      "Viterbi probability V( X ,. ) = 0.0\n",
      "Viterbi probability V( DET ,. ) = 0.0\n",
      "Viterbi probability V( CONJ ,. ) = 0.0\n",
      "Viterbi probability V( PRT ,. ) = 0.0\n",
      "Viterbi probability V( NUM ,. ) = 0.0\n",
      "Viterbi probability V( END ,. ) = 0.0\n",
      "Viterbi probability V( ADP ,. ) = 0.0\n",
      "Viterbi probability V( ADV ,. ) = 0.0\n",
      "Viterbi probability V( NOUN ,. ) = 0.0\n",
      "Viterbi probability V( ADJ ,. ) = 0.0\n",
      "Viterbi probability V( VERB ,. ) = 0.0\n",
      "====================\n",
      "The sentence was: \n",
      "The\n",
      "dog\n",
      "is\n",
      "mine\n",
      ".\n",
      "\n",
      "The best tag sequence is:\n",
      "DET\n",
      "NOUN\n",
      "VERB\n",
      "PRON\n",
      ".\n",
      "\n",
      "The probability of the best tag sequence is: 3.858130074020752e-40\n"
     ]
    }
   ],
   "source": [
    "sentence =  nltk.word_tokenize(\"The dog is mine.\")    \n",
    "#sentence =  nltk.word_tokenize(\"Have a nice day.\")\n",
    "#sentence = nltk.word_tokenize(\"ETH is the best university in the world.\")\n",
    "best_tagsequence, prob_tagsequence = viterbi(sentence)\n",
    "\n",
    "\n",
    "\n",
    "    \n",
    "print(\"The sentence was: \")\n",
    "for w in sentence: print( w )\n",
    "print ()\n",
    "print(\"The best tag sequence is:\")\n",
    "for t in best_tagsequence: print (t)\n",
    "print()\n",
    "print(\"The probability of the best tag sequence is:\", prob_tagsequence)"
   ]
  },
  {
   "cell_type": "code",
   "execution_count": null,
   "metadata": {},
   "outputs": [],
   "source": []
  }
 ],
 "metadata": {
  "kernelspec": {
   "display_name": "Python 3",
   "language": "python",
   "name": "python3"
  },
  "language_info": {
   "codemirror_mode": {
    "name": "ipython",
    "version": 3
   },
   "file_extension": ".py",
   "mimetype": "text/x-python",
   "name": "python",
   "nbconvert_exporter": "python",
   "pygments_lexer": "ipython3",
   "version": "3.6.4"
  },
  "latex_envs": {
   "LaTeX_envs_menu_present": true,
   "autoclose": false,
   "autocomplete": true,
   "bibliofile": "biblio.bib",
   "cite_by": "apalike",
   "current_citInitial": 1,
   "eqLabelWithNumbers": true,
   "eqNumInitial": 1,
   "hotkeys": {
    "equation": "Ctrl-E",
    "itemize": "Ctrl-I"
   },
   "labels_anchors": false,
   "latex_user_defs": false,
   "report_style_numbering": false,
   "user_envs_cfg": false
  },
  "toc": {
   "nav_menu": {},
   "number_sections": true,
   "sideBar": true,
   "skip_h1_title": false,
   "title_cell": "Table of Contents",
   "title_sidebar": "Contents",
   "toc_cell": false,
   "toc_position": {},
   "toc_section_display": true,
   "toc_window_display": false
  },
  "varInspector": {
   "cols": {
    "lenName": 16,
    "lenType": 16,
    "lenVar": 40
   },
   "kernels_config": {
    "python": {
     "delete_cmd_postfix": "",
     "delete_cmd_prefix": "del ",
     "library": "var_list.py",
     "varRefreshCmd": "print(var_dic_list())"
    },
    "r": {
     "delete_cmd_postfix": ") ",
     "delete_cmd_prefix": "rm(",
     "library": "var_list.r",
     "varRefreshCmd": "cat(var_dic_list()) "
    }
   },
   "types_to_exclude": [
    "module",
    "function",
    "builtin_function_or_method",
    "instance",
    "_Feature"
   ],
   "window_display": false
  }
 },
 "nbformat": 4,
 "nbformat_minor": 2
}
