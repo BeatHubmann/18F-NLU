{
 "cells": [
  {
   "cell_type": "markdown",
   "metadata": {
    "ExecuteTime": {
     "end_time": "2018-03-04T13:28:46.412772Z",
     "start_time": "2018-03-04T13:28:45.592493Z"
    }
   },
   "source": [
    "Created on Thu Mar  1 10:52:39 2018\n",
    "\n",
    "@author: ktaranov"
   ]
  },
  {
   "cell_type": "code",
   "execution_count": 1,
   "metadata": {
    "ExecuteTime": {
     "end_time": "2018-03-04T13:28:46.412772Z",
     "start_time": "2018-03-04T13:28:45.592493Z"
    }
   },
   "outputs": [],
   "source": [
    "import nltk \n",
    "import numpy as np\n",
    "\n",
    "# nltk.download('punkt')\n",
    "# nltk.download('averaged_perceptron_tagger')\n",
    "# nltk.download('universal_tagset')\n",
    "# nltk.download('tagsets')"
   ]
  },
  {
   "cell_type": "code",
   "execution_count": 2,
   "metadata": {
    "ExecuteTime": {
     "end_time": "2018-03-04T13:28:51.824819Z",
     "start_time": "2018-03-04T13:28:51.627847Z"
    }
   },
   "outputs": [
    {
     "data": {
      "text/plain": [
       "'\\nThe 12 universal tags are:\\n\\nVERB - verbs (all tenses and modes)\\nNOUN - nouns (common and proper)\\nPRON - pronouns \\nADJ - adjectives\\nADV - adverbs\\nADP - adpositions (prepositions and postpositions)\\nCONJ - conjunctions\\nDET - determiners\\nNUM - cardinal numbers\\nPRT - particles or other function words\\nX - other: foreign words, typos, abbreviations\\n. - punctuation\\n'"
      ]
     },
     "execution_count": 2,
     "metadata": {},
     "output_type": "execute_result"
    }
   ],
   "source": [
    "# PoS tagging is the process of tagging a word in a text\n",
    "# where the tag is a particular part of speech mark\n",
    "# Examples of tagging:\n",
    "text = nltk.word_tokenize(\"ETH is the best university in the world.\")\n",
    "nltk.pos_tag(text,tagset='universal')\n",
    "text = nltk.word_tokenize(\"Dogs are animals.\")\n",
    "nltk.pos_tag(text,tagset='universal')\n",
    "\n",
    "\"\"\"\n",
    "The 12 universal tags are:\n",
    "\n",
    "VERB - verbs (all tenses and modes)\n",
    "NOUN - nouns (common and proper)\n",
    "PRON - pronouns \n",
    "ADJ - adjectives\n",
    "ADV - adverbs\n",
    "ADP - adpositions (prepositions and postpositions)\n",
    "CONJ - conjunctions\n",
    "DET - determiners\n",
    "NUM - cardinal numbers\n",
    "PRT - particles or other function words\n",
    "X - other: foreign words, typos, abbreviations\n",
    ". - punctuation\n",
    "\"\"\""
   ]
  },
  {
   "cell_type": "markdown",
   "metadata": {
    "ExecuteTime": {
     "end_time": "2018-03-04T13:29:45.457283Z",
     "start_time": "2018-03-04T13:29:41.038325Z"
    }
   },
   "source": [
    "### In this exercise, you should implement your PoS tagging using a Hidden Markov model.\n",
    "For learning your model the following Tagged Corpora can be used."
   ]
  },
  {
   "cell_type": "code",
   "execution_count": 3,
   "metadata": {
    "ExecuteTime": {
     "end_time": "2018-03-04T13:29:45.457283Z",
     "start_time": "2018-03-04T13:29:41.038325Z"
    }
   },
   "outputs": [],
   "source": [
    "# nltk.download('brown')\n",
    "# nltk.download('treebank')\n",
    "\n",
    "#from nltk.corpus import treebank as corpus\n",
    "from nltk.corpus import brown as corpus\n",
    "\n",
    "# We add an artificial \"START\" and \"END\" tags at the beginning and at the end of each sentence\n",
    "\n",
    "tagged_words = [ ]\n",
    "all_tags = [ ]\n",
    "\n",
    "for sent in corpus.tagged_sents(tagset='universal'): # get tagged sentences\n",
    "    tagged_words.append( (\"START\", \"START\") )\n",
    "    all_tags.append(\"START\")\n",
    "    for (word, tag) in sent:\n",
    "        all_tags.append(tag)\n",
    "        tagged_words.append( (tag, word) ) \n",
    "    tagged_words.append( (\"END\", \"END\") )\n",
    "    all_tags.append(\"END\")"
   ]
  },
  {
   "cell_type": "markdown",
   "metadata": {
    "ExecuteTime": {
     "end_time": "2018-03-04T13:07:35.258264Z",
     "start_time": "2018-03-04T13:07:31.766713Z"
    }
   },
   "source": [
    "### Estimating probabilities section\n",
    "For Viterbi algorithm we need to compute:\n",
    "* The maximum likelihood estimate of a transition probability $P(t_{i} | t_{i-1}) = C(t_{i-1}, t_{i})/C(t_{i-1})$\n",
    "* Emission probabilities $P(w_{i} | t_{i}) =  C(t_{i}, w_{i}) / C(t_{i})$\n",
    " "
   ]
  },
  {
   "cell_type": "code",
   "execution_count": 12,
   "metadata": {
    "ExecuteTime": {
     "end_time": "2018-03-04T13:07:35.258264Z",
     "start_time": "2018-03-04T13:07:31.766713Z"
    }
   },
   "outputs": [
    {
     "name": "stdout",
     "output_type": "stream",
     "text": [
      "Frequency of C('DET', 'NOUN') is  85838\n",
      "Probability of P('NOUN' | 'DET') is  0.6264678621213117\n",
      "Frequency of C('DET', 'the') is  62710\n",
      "Probability of P('the' | 'DET') is  0.45767375327509324\n"
     ]
    }
   ],
   "source": [
    "# C(t_{i-1}, t_{i}):\n",
    "cfd_tags= nltk.ConditionalFreqDist(nltk.bigrams(all_tags))\n",
    "# Transition probabilities P(t_{i} | t_{i-1})\n",
    "cpd_tags = nltk.ConditionalProbDist(cfd_tags, nltk.MLEProbDist)\n",
    "\n",
    "# Example:\n",
    "# C('DET', 'NOUN'):\n",
    "print(\"Frequency of C('DET', 'NOUN') is \", cfd_tags['DET']['NOUN'] )\n",
    "# P('NOUN' | 'DET')\n",
    "print(\"Probability of P('NOUN' | 'DET') is \", cpd_tags['DET'].prob('NOUN') )\n",
    "\n",
    "\n",
    "# C(t_{i}, w_{i})\n",
    "cfd_tagwords = nltk.ConditionalFreqDist(tagged_words)\n",
    "# Emission probabilities P(w_{i} | t_{i})\n",
    "cpd_tagwords = nltk.ConditionalProbDist(cfd_tagwords, nltk.MLEProbDist)\n",
    "\n",
    "# Example:\n",
    "# C('DET', 'NOUN'):\n",
    "print(\"Frequency of C('DET', 'the') is \", cfd_tagwords['DET']['the'] )\n",
    "# P('the' | 'DET')\n",
    "print(\"Probability of P('the' | 'DET') is \", cpd_tagwords['DET'].prob('the') )"
   ]
  },
  {
   "cell_type": "markdown",
   "metadata": {
    "ExecuteTime": {
     "end_time": "2018-03-04T13:09:25.169566Z",
     "start_time": "2018-03-04T13:09:25.161216Z"
    }
   },
   "source": [
    "### Task 1:\n",
    "Estimate the probability of the tag sequence \"NOUN VERB VERB .\" for the word sequence \"birds can fly.\"  $P(t^{n} | w^{n} )$ using the transition and emission probabilities estimated above.\n",
    "\n",
    " "
   ]
  },
  {
   "cell_type": "code",
   "execution_count": 4,
   "metadata": {
    "ExecuteTime": {
     "end_time": "2018-03-04T13:35:43.570407Z",
     "start_time": "2018-03-04T13:35:43.565364Z"
    }
   },
   "outputs": [
    {
     "name": "stdout",
     "output_type": "stream",
     "text": [
      "The probability of the tag sequence 'NOUN VERB VERB .' for 'birds can fly.' is: Ellipsis\n"
     ]
    }
   ],
   "source": [
    "prob_tagsequence =  ... \n",
    "\n",
    "print(\"The probability of the tag sequence 'NOUN VERB VERB .' for 'birds can fly.' is:\", prob_tagsequence)"
   ]
  },
  {
   "cell_type": "markdown",
   "metadata": {},
   "source": [
    "### Task 2:\n",
    "Implement the Viterbi algorithm for PoS tagging."
   ]
  },
  {
   "cell_type": "code",
   "execution_count": null,
   "metadata": {},
   "outputs": [],
   "source": [
    "def viterbi(sentence):\n",
    "    # Step 1. initialization step\n",
    " \n",
    "   \n",
    "    # Step 2. recursion step\n",
    "  \n",
    "            \n",
    "    # Step 3. backtrace the path\n",
    "  \n",
    "\n",
    "    return best_tagsequence, prob_tagsequence\n",
    "    "
   ]
  },
  {
   "cell_type": "markdown",
   "metadata": {
    "ExecuteTime": {
     "end_time": "2018-03-04T13:09:16.815850Z",
     "start_time": "2018-03-04T13:09:16.628149Z"
    }
   },
   "source": [
    "### Task 3:\n",
    "\n",
    "Try to tag the sentences below.\n",
    "- Why does it fail to predict tags for the sentence about ETH?  \n",
    "- (Could it just mislabel the sentence because it disagreed with the statement?)"
   ]
  },
  {
   "cell_type": "code",
   "execution_count": 13,
   "metadata": {
    "ExecuteTime": {
     "end_time": "2018-03-04T13:09:16.815850Z",
     "start_time": "2018-03-04T13:09:16.628149Z"
    }
   },
   "outputs": [
    {
     "ename": "NameError",
     "evalue": "name 'viterbi' is not defined",
     "output_type": "error",
     "traceback": [
      "\u001b[0;31m---------------------------------------------------------------------------\u001b[0m",
      "\u001b[0;31mNameError\u001b[0m                                 Traceback (most recent call last)",
      "\u001b[0;32m<ipython-input-13-6b9014588849>\u001b[0m in \u001b[0;36m<module>\u001b[0;34m()\u001b[0m\n\u001b[1;32m      8\u001b[0m \u001b[0;31m#sentence =  nltk.word_tokenize(\"Have a nice day.\")\u001b[0m\u001b[0;34m\u001b[0m\u001b[0;34m\u001b[0m\u001b[0m\n\u001b[1;32m      9\u001b[0m \u001b[0;31m#sentence = nltk.word_tokenize(\"ETH is the best university in the world.\")\u001b[0m\u001b[0;34m\u001b[0m\u001b[0;34m\u001b[0m\u001b[0m\n\u001b[0;32m---> 10\u001b[0;31m \u001b[0mbest_tagsequence\u001b[0m\u001b[0;34m,\u001b[0m\u001b[0mprob_tagsequence\u001b[0m \u001b[0;34m=\u001b[0m \u001b[0mviterbi\u001b[0m\u001b[0;34m(\u001b[0m\u001b[0msentence\u001b[0m\u001b[0;34m)\u001b[0m\u001b[0;34m\u001b[0m\u001b[0m\n\u001b[0m\u001b[1;32m     11\u001b[0m \u001b[0;34m\u001b[0m\u001b[0m\n\u001b[1;32m     12\u001b[0m \u001b[0;34m\u001b[0m\u001b[0m\n",
      "\u001b[0;31mNameError\u001b[0m: name 'viterbi' is not defined"
     ]
    }
   ],
   "source": [
    "sentence =  nltk.word_tokenize(\"The dog is mine.\")    \n",
    "#sentence =  nltk.word_tokenize(\"Have a nice day.\")\n",
    "#sentence = nltk.word_tokenize(\"ETH is the best university in the world.\")\n",
    "best_tagsequence,prob_tagsequence = viterbi(sentence)\n",
    "\n",
    "\n",
    "\n",
    "    \n",
    "print(\"The sentence was: \")\n",
    "for w in sentence: print( w )\n",
    "print ()\n",
    "print(\"The best tag sequence is:\")\n",
    "for t in best_tagsequence: print (t)\n",
    "print()\n",
    "print(\"The probability of the best tag sequence is:\", prob_tagsequence)"
   ]
  },
  {
   "cell_type": "code",
   "execution_count": null,
   "metadata": {},
   "outputs": [],
   "source": []
  }
 ],
 "metadata": {
  "kernelspec": {
   "display_name": "Python 3",
   "language": "python",
   "name": "python3"
  },
  "language_info": {
   "codemirror_mode": {
    "name": "ipython",
    "version": 3
   },
   "file_extension": ".py",
   "mimetype": "text/x-python",
   "name": "python",
   "nbconvert_exporter": "python",
   "pygments_lexer": "ipython3",
   "version": "3.6.4"
  },
  "latex_envs": {
   "LaTeX_envs_menu_present": true,
   "autoclose": false,
   "autocomplete": true,
   "bibliofile": "biblio.bib",
   "cite_by": "apalike",
   "current_citInitial": 1,
   "eqLabelWithNumbers": true,
   "eqNumInitial": 1,
   "hotkeys": {
    "equation": "Ctrl-E",
    "itemize": "Ctrl-I"
   },
   "labels_anchors": false,
   "latex_user_defs": false,
   "report_style_numbering": false,
   "user_envs_cfg": false
  },
  "toc": {
   "nav_menu": {},
   "number_sections": true,
   "sideBar": true,
   "skip_h1_title": false,
   "title_cell": "Table of Contents",
   "title_sidebar": "Contents",
   "toc_cell": false,
   "toc_position": {},
   "toc_section_display": true,
   "toc_window_display": false
  },
  "varInspector": {
   "cols": {
    "lenName": 16,
    "lenType": 16,
    "lenVar": 40
   },
   "kernels_config": {
    "python": {
     "delete_cmd_postfix": "",
     "delete_cmd_prefix": "del ",
     "library": "var_list.py",
     "varRefreshCmd": "print(var_dic_list())"
    },
    "r": {
     "delete_cmd_postfix": ") ",
     "delete_cmd_prefix": "rm(",
     "library": "var_list.r",
     "varRefreshCmd": "cat(var_dic_list()) "
    }
   },
   "types_to_exclude": [
    "module",
    "function",
    "builtin_function_or_method",
    "instance",
    "_Feature"
   ],
   "window_display": false
  }
 },
 "nbformat": 4,
 "nbformat_minor": 2
}
