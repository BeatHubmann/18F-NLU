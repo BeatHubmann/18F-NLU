{
 "cells": [
  {
   "cell_type": "code",
   "execution_count": 1,
   "metadata": {
    "ExecuteTime": {
     "end_time": "2018-05-12T12:33:34.226896Z",
     "start_time": "2018-05-12T12:33:34.211817Z"
    }
   },
   "outputs": [
    {
     "data": {
      "text/html": [
       "\n",
       "        <iframe\n",
       "            width=\"800\"\n",
       "            height=\"1600\"\n",
       "            src=\"project2.pdf\"\n",
       "            frameborder=\"0\"\n",
       "            allowfullscreen\n",
       "        ></iframe>\n",
       "        "
      ],
      "text/plain": [
       "<IPython.lib.display.IFrame at 0x1f67d110908>"
      ]
     },
     "execution_count": 1,
     "metadata": {},
     "output_type": "execute_result"
    }
   ],
   "source": [
    "from IPython.display import IFrame\n",
    "IFrame('project2.pdf', width=800, height=1600)"
   ]
  },
  {
   "cell_type": "code",
   "execution_count": 2,
   "metadata": {
    "ExecuteTime": {
     "start_time": "2018-05-12T14:03:20.693Z"
    }
   },
   "outputs": [
    {
     "name": "stderr",
     "output_type": "stream",
     "text": [
      "c:\\program files\\python36\\lib\\site-packages\\h5py\\__init__.py:36: FutureWarning: Conversion of the second argument of issubdtype from `float` to `np.floating` is deprecated. In future, it will be treated as `np.float64 == np.dtype(float).type`.\n",
      "  from ._conv import register_converters as _register_converters\n",
      "Using TensorFlow backend.\n"
     ]
    }
   ],
   "source": [
    "# Import statements\n",
    "import os, sys\n",
    "\n",
    "# os.environ['CUDA_VISIBLE_DEVICES'] = '-1'\n",
    "\n",
    "from keras.models import Model\n",
    "from keras.utils import Sequence\n",
    "from keras.layers import Input, LSTM, GRU, Dense, Embedding,\\\n",
    "                         Bidirectional, RepeatVector, Concatenate,\\\n",
    "                         Activation, Dot, Lambda\n",
    "from keras.preprocessing.text import Tokenizer\n",
    "from keras.preprocessing.sequence import pad_sequences\n",
    "import keras.backend as K\n",
    "\n",
    "import numpy as np\n",
    "import pandas as pd\n",
    "import matplotlib.pyplot as plt"
   ]
  },
  {
   "cell_type": "code",
   "execution_count": 3,
   "metadata": {
    "ExecuteTime": {
     "end_time": "2018-05-12T13:52:34.184281Z",
     "start_time": "2018-05-12T13:52:34.163846Z"
    }
   },
   "outputs": [],
   "source": [
    "# Config variables\n",
    "BATCH_SIZE = 64\n",
    "EPOCHS = 15 #100\n",
    "LATENT_DIM = 256\n",
    "LATENT_DIM_DECODER = 256 # idea: make it different to ensure things all fit together properly!\n",
    "NUM_SAMPLES = 80000\n",
    "MAX_INPUT_LENGTH = 100\n",
    "MAX_TARGET_LENGTH = 25\n",
    "MAX_VOCAB_SIZE = 20000\n",
    "EMBEDDING_DIM = 100\n",
    "VALIDATION_SPLIT = 0.2\n",
    "SPLIT_IDX = int(NUM_SAMPLES * VALIDATION_SPLIT)"
   ]
  },
  {
   "cell_type": "code",
   "execution_count": 4,
   "metadata": {},
   "outputs": [],
   "source": [
    "# make sure we do softmax over the time axis\n",
    "# expected shape is N x T x D\n",
    "# note: the latest version of Keras allows you to pass in axis arg\n",
    "def softmax_over_time(x):\n",
    "  assert(K.ndim(x) > 2)\n",
    "  e = K.exp(x - K.max(x, axis=1, keepdims=True))\n",
    "  s = K.sum(e, axis=1, keepdims=True)\n",
    "  return e / s"
   ]
  },
  {
   "cell_type": "code",
   "execution_count": 5,
   "metadata": {
    "ExecuteTime": {
     "end_time": "2018-05-12T14:00:21.637075Z",
     "start_time": "2018-05-12T13:59:55.022516Z"
    }
   },
   "outputs": [
    {
     "name": "stdout",
     "output_type": "stream",
     "text": [
      "Loading word vectors...\n",
      "Loaded 400001 word vectors.\n"
     ]
    }
   ],
   "source": [
    "# Load pretrained word vectors for embeddings\n",
    "print('Loading word vectors...')\n",
    "word2vec = {}\n",
    "with open(os.path.join('./data/glove.6B/glove.6B.{}d.txt'.format(EMBEDDING_DIM)), encoding='utf8') as f:\n",
    "    for row in f:\n",
    "        values = row.split()\n",
    "        word = values[0]\n",
    "        vec = np.asarray(values[1:], dtype='float32')\n",
    "        word2vec[word] = vec\n",
    "print('Loaded {} word vectors.'.format(len(word2vec)))"
   ]
  },
  {
   "cell_type": "code",
   "execution_count": 6,
   "metadata": {
    "ExecuteTime": {
     "start_time": "2018-05-12T14:03:55.049Z"
    },
    "scrolled": true
   },
   "outputs": [
    {
     "name": "stdout",
     "output_type": "stream",
     "text": [
      "Loaded 80000 stories.\n"
     ]
    }
   ],
   "source": [
    "# Load stories\n",
    "train = pd.read_csv('./data/cloze/train_stories.csv')[:NUM_SAMPLES]\n",
    "train = train.reindex(np.random.permutation(train.index))\n",
    "titles = train['storytitle'].values\n",
    "story_parts = train[['sentence1', 'sentence2', 'sentence3', 'sentence4']].values\n",
    "stories = train['sentence1'] + ' ' + \\\n",
    "          train['sentence2'] + ' ' + \\\n",
    "          train['sentence3'] + ' ' + \\\n",
    "          train['sentence4'] + ' '\n",
    "targets = train['sentence5'] + ' <eos> '\n",
    "targets_inputs = ' <bos> ' +  train['sentence5']\n",
    "print('Loaded {} stories.'.format(len(stories)))"
   ]
  },
  {
   "cell_type": "code",
   "execution_count": 7,
   "metadata": {},
   "outputs": [
    {
     "name": "stdout",
     "output_type": "stream",
     "text": [
      "Generated 34483 unique tokens.\n"
     ]
    }
   ],
   "source": [
    "# Tokenize\n",
    "tokenizer = Tokenizer(num_words=MAX_VOCAB_SIZE, filters='!\"#$%&()*+,-./:;=?@[\\]^_`{|}~')\n",
    "tokenizer.fit_on_texts(stories + targets + targets_inputs)\n",
    "input_sequences = tokenizer.texts_to_sequences(stories)\n",
    "target_sequences = tokenizer.texts_to_sequences(targets)\n",
    "target_sequences_inputs = tokenizer.texts_to_sequences(targets_inputs)\n",
    "\n",
    "# Word to index mapping and reverse\n",
    "word2idx = tokenizer.word_index\n",
    "idx2word = {v:k for k, v in word2idx.items()}\n",
    "print('Generated {} unique tokens.'.format(len(word2idx)))"
   ]
  },
  {
   "cell_type": "code",
   "execution_count": 8,
   "metadata": {},
   "outputs": [
    {
     "name": "stdout",
     "output_type": "stream",
     "text": [
      "Longest story has 63 tokens.\n",
      "Longest target has 20 tokens.\n"
     ]
    }
   ],
   "source": [
    "# Find max length input sequence\n",
    "max_len_input = max(len(s) for s in input_sequences)\n",
    "print('Longest story has {} tokens.'.format(max_len_input))\n",
    "\n",
    "# Find max length target sequence\n",
    "max_len_target = max(len(t) for t in target_sequences)\n",
    "print('Longest target has {} tokens.'.format(max_len_target))"
   ]
  },
  {
   "cell_type": "code",
   "execution_count": 9,
   "metadata": {},
   "outputs": [
    {
     "name": "stdout",
     "output_type": "stream",
     "text": [
      "Inputs tensor has shape (80000, 63).\n",
      "Target inputs tensor has shape (80000, 20).\n",
      "Targets tensor has shape (80000, 20).\n"
     ]
    }
   ],
   "source": [
    "# Pad inputs\n",
    "encoder_inputs = pad_sequences(input_sequences, maxlen=max_len_input, padding='post', truncating='pre')\n",
    "print('Inputs tensor has shape {}.'.format(encoder_inputs.shape))\n",
    "\n",
    "# Pad target inputs\n",
    "decoder_inputs = pad_sequences(target_sequences_inputs, maxlen=max_len_target, padding='post', truncating='pre')\n",
    "print('Target inputs tensor has shape {}.'.format(decoder_inputs.shape))\n",
    "\n",
    "# Pad targets\n",
    "decoder_targets = pad_sequences(target_sequences, maxlen=max_len_target, padding='post', truncating='pre')\n",
    "print('Targets tensor has shape {}.'.format(decoder_targets.shape))"
   ]
  },
  {
   "cell_type": "code",
   "execution_count": 10,
   "metadata": {},
   "outputs": [
    {
     "name": "stdout",
     "output_type": "stream",
     "text": [
      "Constructing embedding matrix...\n",
      "Embedding matrix has shape (20000, 100)\n"
     ]
    }
   ],
   "source": [
    "# Construct embedding matrix\n",
    "print('Constructing embedding matrix...')\n",
    "num_words = min(MAX_VOCAB_SIZE, len(word2idx) + 1)\n",
    "embedding_matrix = np.zeros((num_words, EMBEDDING_DIM))\n",
    "for word, index in word2idx.items():\n",
    "    if index < MAX_VOCAB_SIZE:\n",
    "        embedding_vector = word2vec.get(word)\n",
    "        if embedding_vector is not None:\n",
    "            embedding_matrix[index] = embedding_vector\n",
    "print('Embedding matrix has shape {}'.format(embedding_matrix.shape))"
   ]
  },
  {
   "cell_type": "code",
   "execution_count": 11,
   "metadata": {},
   "outputs": [],
   "source": [
    "# Create embedding layers\n",
    "encoder_embedding_layer = Embedding(num_words, EMBEDDING_DIM,\n",
    "                                    weights=[embedding_matrix],\n",
    "                                    input_length=max_len_input,\n",
    "                                    trainable=False)\n",
    "\n",
    "decoder_embedding_layer = Embedding(num_words, EMBEDDING_DIM,\n",
    "                                    weights=[embedding_matrix],\n",
    "                                    input_length=max_len_target,\n",
    "                                    trainable=False)"
   ]
  },
  {
   "cell_type": "code",
   "execution_count": 12,
   "metadata": {},
   "outputs": [],
   "source": [
    "class DataGenerator(Sequence):\n",
    "    def __init__(self, x1_set, x2_set, y_set, batch_size=64):\n",
    "        self.x1, self.x2, self.y = x1_set, x2_set, y_set\n",
    "        self.batch_size = batch_size\n",
    "    \n",
    "    def __len__(self):\n",
    "        return int(np.floor(len(self.x1) / float(self.batch_size)))\n",
    "\n",
    "    def __getitem__(self, idx):\n",
    "        batch_x1 = self.x1[idx * self.batch_size:(idx + 1) * self.batch_size]\n",
    "        batch_x2 = self.x2[idx * self.batch_size:(idx + 1) * self.batch_size]\n",
    "        batch_y  =  self.y[idx * self.batch_size:(idx + 1) * self.batch_size]\n",
    "        batch_y_one_hot = self.__one_hot(batch_y)\n",
    "        batch_z = self.__generate_z()\n",
    "        return [batch_x1, batch_x2, batch_z, batch_z], batch_y_one_hot\n",
    "    \n",
    "    def __one_hot(self, targets):\n",
    "        targets_one_hot = np.zeros((len(targets),\n",
    "                                    max_len_target,\n",
    "                                    num_words))\n",
    "        \n",
    "        for i, d in enumerate(targets):\n",
    "            for t, word in enumerate(d):\n",
    "                targets_one_hot[i, t, word] = 1\n",
    "        return targets_one_hot\n",
    "         \n",
    "    def __generate_z(self):\n",
    "         return np.zeros((self.batch_size, LATENT_DIM_DECODER)) # initial [s, c]"
   ]
  },
  {
   "cell_type": "code",
   "execution_count": 13,
   "metadata": {},
   "outputs": [],
   "source": [
    "### Assemble the model\n",
    "## Encoder\n",
    "# Embedding\n",
    "encoder_inputs_placeholder = Input(shape=(max_len_input,))\n",
    "x = encoder_embedding_layer(encoder_inputs_placeholder)\n",
    "\n",
    "# RNN\n",
    "encoder = Bidirectional(LSTM(LATENT_DIM, return_sequences=True, dropout=0.5))\n",
    "encoder_outputs = encoder(x)\n",
    "\n",
    "## Decoder\n",
    "# Embedding\n",
    "decoder_inputs_placeholder = Input(shape=(max_len_target,))\n",
    "decoder_inputs_x = decoder_embedding_layer(decoder_inputs_placeholder)\n",
    "\n",
    "# Attention\n",
    "attn_repeat_layer = RepeatVector(max_len_input)\n",
    "attn_concat_layer = Concatenate(axis=-1)\n",
    "attn_dense1 = Dense(10, activation='tanh')\n",
    "attn_dense2 = Dense(1, activation=softmax_over_time)\n",
    "attn_dot = Dot(axes=1) # to perform the weighted sum of alpha[t] * h[t]\n",
    "\n",
    "def one_step_attention(h, st_1):\n",
    "    # h = h(1), ..., h(Tx), shape = (Tx, LATENT_DIM * 2)\n",
    "    # st_1 = s(t-1), shape = (LATENT_DIM_DECODER,)\n",
    "\n",
    "    # copy s(t-1) Tx times\n",
    "    # now shape = (Tx, LATENT_DIM_DECODER)\n",
    "    st_1 = attn_repeat_layer(st_1)\n",
    "\n",
    "    # Concatenate all h(t)'s with s(t-1)\n",
    "    # Now of shape (Tx, LATENT_DIM_DECODER + LATENT_DIM * 2)\n",
    "    x = attn_concat_layer([h, st_1])\n",
    "\n",
    "    # Neural net first layer\n",
    "    x = attn_dense1(x)\n",
    "\n",
    "    # Neural net second layer with special softmax over time\n",
    "    alphas = attn_dense2(x)\n",
    "\n",
    "    # \"Dot\" the alphas and the h's\n",
    "    # Remember a.dot(b) = sum over a[t] * b[t]\n",
    "    context = attn_dot([alphas, h])\n",
    "\n",
    "    return context\n",
    "\n",
    "\n",
    "# define the rest of the decoder (after attention)\n",
    "decoder_lstm = LSTM(LATENT_DIM_DECODER, return_state=True)\n",
    "decoder_dense = Dense(num_words, activation='softmax')\n",
    "\n",
    "initial_s = Input(shape=(LATENT_DIM_DECODER,), name='s0')\n",
    "initial_c = Input(shape=(LATENT_DIM_DECODER,), name='c0')\n",
    "context_last_word_concat_layer = Concatenate(axis=2)\n",
    "\n",
    "\n",
    "# Unlike previous seq2seq, we cannot get the output\n",
    "# all in one step\n",
    "# Instead we need to do Ty steps\n",
    "# And in each of those steps, we need to consider\n",
    "# all Tx h's\n",
    "\n",
    "# s, c will be re-assigned in each iteration of the loop\n",
    "s = initial_s\n",
    "c = initial_c\n",
    "\n",
    "# collect outputs in a list at first\n",
    "outputs = []\n",
    "for t in range(max_len_target): # Ty times\n",
    "    # get the context using attention\n",
    "    context = one_step_attention(encoder_outputs, s)\n",
    "\n",
    "    # we need a different layer for each time step\n",
    "    selector = Lambda(lambda x: x[:, t:t+1])\n",
    "    xt = selector(decoder_inputs_x)\n",
    "\n",
    "    # combine\n",
    "    decoder_lstm_input = context_last_word_concat_layer([context, xt])\n",
    "\n",
    "    # pass the combined [context, last word] into the LSTM\n",
    "    # along with [s, c]\n",
    "    # get the new [s, c] and output\n",
    "    o, s, c = decoder_lstm(decoder_lstm_input, initial_state=[s, c])\n",
    "\n",
    "    # final dense layer to get next word prediction\n",
    "    decoder_outputs = decoder_dense(o)\n",
    "    outputs.append(decoder_outputs)\n",
    "\n",
    "\n",
    "# 'outputs' is now a list of length Ty\n",
    "# each element is of shape (batch size, output vocab size)\n",
    "# therefore if we simply stack all the outputs into 1 tensor\n",
    "# it would be of shape T x N x D\n",
    "# we would like it to be of shape N x T x D\n",
    "\n",
    "def stack_and_transpose(x):\n",
    "    # x is a list of length T, each element is a batch_size x output_vocab_size tensor\n",
    "    x = K.stack(x) # is now T x batch_size x output_vocab_size tensor\n",
    "    x = K.permute_dimensions(x, pattern=(1, 0, 2)) # is now batch_size x T x output_vocab_size\n",
    "    return x\n",
    "\n",
    "# make it a layer\n",
    "stacker = Lambda(stack_and_transpose)\n",
    "outputs = stacker(outputs)"
   ]
  },
  {
   "cell_type": "code",
   "execution_count": 14,
   "metadata": {},
   "outputs": [],
   "source": [
    "model = Model(inputs=[encoder_inputs_placeholder,\n",
    "                      decoder_inputs_placeholder,\n",
    "                      initial_s,\n",
    "                      initial_c],\n",
    "              outputs=outputs)\n",
    "model.compile(optimizer='rmsprop', loss='categorical_crossentropy', metrics=['accuracy'])\n",
    "# print(model.summary())"
   ]
  },
  {
   "cell_type": "code",
   "execution_count": null,
   "metadata": {},
   "outputs": [],
   "source": [
    "# Training\n",
    "training_generator = DataGenerator(encoder_inputs[SPLIT_IDX:],\n",
    "                                   decoder_inputs[SPLIT_IDX:],\n",
    "                                   decoder_targets[SPLIT_IDX:],\n",
    "                                   batch_size=BATCH_SIZE)\n",
    "\n",
    "validation_generator = DataGenerator(encoder_inputs[:SPLIT_IDX],\n",
    "                                     decoder_inputs[:SPLIT_IDX],\n",
    "                                     decoder_targets[:SPLIT_IDX],\n",
    "                                     batch_size=BATCH_SIZE)\n",
    "\n",
    "r = model.fit_generator(generator=training_generator,\n",
    "                        validation_data=validation_generator,\n",
    "                        epochs=EPOCHS,\n",
    "                        shuffle=True,\n",
    "                        initial_epoch=1,\n",
    "                        verbose=1)"
   ]
  },
  {
   "cell_type": "code",
   "execution_count": 16,
   "metadata": {},
   "outputs": [
    {
     "data": {
      "image/png": "[encoded data removed]",
      "text/plain": [
       "<Figure size 432x288 with 1 Axes>"
      ]
     },
     "metadata": {},
     "output_type": "display_data"
    },
    {
     "data": {
      "image/png": "[encoded data removed]",
      "text/plain": [
       "<Figure size 432x288 with 1 Axes>"
      ]
     },
     "metadata": {},
     "output_type": "display_data"
    }
   ],
   "source": [
    "# Plot losses\n",
    "plt.plot(r.history['loss'], label='loss')\n",
    "plt.plot(r.history['val_loss'], label='val_loss')\n",
    "plt.legend()\n",
    "plt.show()\n",
    "\n",
    "# Plot accuracies\n",
    "plt.plot(r.history['acc'], label='acc')\n",
    "plt.plot(r.history['val_acc'], label='val_acc')\n",
    "plt.legend()\n",
    "plt.show()"
   ]
  },
  {
   "cell_type": "code",
   "execution_count": null,
   "metadata": {},
   "outputs": [],
   "source": [
    "model.load('attn.h5')"
   ]
  },
  {
   "cell_type": "code",
   "execution_count": null,
   "metadata": {},
   "outputs": [
    {
     "name": "stdout",
     "output_type": "stream",
     "text": [
      "-\n",
      "Input sentence: Tom was a middle school student. He signed up for a woodshop class. He learned a lot about making things with wood. He used many pieces of construction equipment. \n",
      "Predicted translation: sally was relieved and happy\n",
      "Actual translation: He made a large wooden chair he brought home. <eos> \n",
      "Continue? [Y/n]y\n",
      "-\n",
      "Input sentence: Ed wanted to be a pilot. But at flight school, he did flight simulations. They made him nauseous! It turned out flight wasn't for Ed. \n",
      "Predicted translation: the man was the man and he was able to get the ball\n",
      "Actual translation: He decided to choose a new career! <eos> \n",
      "Continue? [Y/n]y\n",
      "-\n",
      "Input sentence: The first date I remember was my first year in college. A girl and I went to a play at school. Then we ate at a Mexican restaurant. The restaurant was about to close. \n",
      "Predicted translation: dan was glad that he could not play his song\n",
      "Actual translation: But a friend of mine thought she was into me. <eos> \n",
      "Continue? [Y/n]y\n",
      "-\n",
      "Input sentence: Tom had a salesman go to his door. He was trying to sell knives. Tom looked up reviews online. They were not very positive. \n",
      "Predicted translation: kelly was able to get her bike back to school\n",
      "Actual translation: He declined the salesman's offers. <eos> \n",
      "Continue? [Y/n]y\n",
      "-\n",
      "Input sentence: Cathy loves Christmas Songs. Cathy is ridiculed because she listens to Christmas music all year. In fact, Cathy's favorite Christmas song is Jingle Bells. Cathy cannot wait for Christmas time to hear music everywhere. \n",
      "Predicted translation: he was very sad and had to be able to get a new phone\n",
      "Actual translation: Cathy is proud to be a lover of Christmas songs. <eos> \n",
      "Continue? [Y/n]y\n",
      "-\n",
      "Input sentence: Jan's mom cooked her eggs every morning. Jan hated eggs. She swallowed them down to make her mom happy. One day Jan broke out in hives and had to go to the doctor. \n",
      "Predicted translation: they were able to get the car back to the school\n",
      "Actual translation: It was determined Jan was allergic to eggs and never ate them again. <eos> \n",
      "Continue? [Y/n]y\n",
      "-\n",
      "Input sentence: The lease was finished at Amanda's apartment. She decided to move to a bigger area. She found a nice place to move to. She packed her belongings and moved into her new place. \n",
      "Predicted translation: i was able to get a job in the bathroom and i was able to get it out\n",
      "Actual translation: She was very pleased with her new place to live. <eos> \n",
      "Continue? [Y/n]y\n",
      "-\n",
      "Input sentence: Nathan wanted to watch a movie with his friend. He popped some popcorn. He put drinks on the table. His friend never showed up. \n",
      "Predicted translation: jen was relieved to see that her phone was broken\n",
      "Actual translation: He had to watch the movie all by himself. <eos> \n"
     ]
    }
   ],
   "source": [
    "##### Make predictions #####\n",
    "# As with the poetry example, we need to create another model\n",
    "# that can take in the RNN state and previous word as input\n",
    "# and accept a T=1 sequence.\n",
    "\n",
    "# The encoder will be stand-alone\n",
    "# From this we will get our initial decoder hidden state\n",
    "# i.e. h(1), ..., h(Tx)\n",
    "encoder_model = Model(encoder_inputs_placeholder, encoder_outputs)\n",
    "\n",
    "# next we define a T=1 decoder model\n",
    "encoder_outputs_as_input = Input(shape=(max_len_input, LATENT_DIM * 2,))\n",
    "decoder_inputs_single = Input(shape=(1,))\n",
    "decoder_inputs_single_x = decoder_embedding_layer(decoder_inputs_single)\n",
    "\n",
    "# no need to loop over attention steps this time because there is only one step\n",
    "context = one_step_attention(encoder_outputs_as_input, initial_s)\n",
    "\n",
    "# combine context with last word\n",
    "decoder_lstm_input = context_last_word_concat_layer([context, decoder_inputs_single_x])\n",
    "\n",
    "# lstm and final dense\n",
    "o, s, c = decoder_lstm(decoder_lstm_input, initial_state=[initial_s, initial_c])\n",
    "decoder_outputs = decoder_dense(o)\n",
    "\n",
    "\n",
    "# note: we don't really need the final stack and tranpose\n",
    "# because there's only 1 output\n",
    "# it is already of size N x D\n",
    "# no need to make it 1 x N x D --> N x 1 x D\n",
    "\n",
    "\n",
    "\n",
    "# create the model object\n",
    "decoder_model = Model(\n",
    "  inputs=[\n",
    "    decoder_inputs_single,\n",
    "    encoder_outputs_as_input,\n",
    "    initial_s,\n",
    "    initial_c\n",
    "  ],\n",
    "  outputs=[decoder_outputs, s, c]\n",
    ")\n",
    "\n",
    "\n",
    "\n",
    "\n",
    "\n",
    "def decode_sequence(input_seq):\n",
    "  # Encode the input as state vectors.\n",
    "  enc_out = encoder_model.predict(input_seq)\n",
    "\n",
    "  # Generate empty target sequence of length 1.\n",
    "  target_seq = np.zeros((1, 1))\n",
    "\n",
    "  # Populate the first character of target sequence with the start character.\n",
    "  # NOTE: tokenizer lower-cases all words\n",
    "  target_seq[0, 0] = word2idx['<bos>']\n",
    "\n",
    "  # if we get this we break\n",
    "  eos = word2idx['<eos>']\n",
    "\n",
    "\n",
    "  # [s, c] will be updated in each loop iteration\n",
    "  s = np.zeros((1, LATENT_DIM_DECODER))\n",
    "  c = np.zeros((1, LATENT_DIM_DECODER))\n",
    "\n",
    "\n",
    "  # Create the translation\n",
    "  output_sentence = []\n",
    "  for _ in range(max_len_target):\n",
    "    o, s, c = decoder_model.predict([target_seq, enc_out, s, c])\n",
    "\n",
    "\n",
    "    # Get next word\n",
    "    idx = np.argmax(o.flatten())\n",
    "    # End sentence of EOS\n",
    "    if eos == idx:\n",
    "      break\n",
    "\n",
    "    word = ''\n",
    "    if idx > 0:\n",
    "      word = idx2word.get(idx, '')\n",
    "      output_sentence.append(word)\n",
    "\n",
    "    # Update the decoder input\n",
    "    # which is just the word just generated\n",
    "    target_seq[0, 0] = idx\n",
    "\n",
    "  return ' '.join(output_sentence)\n",
    "\n",
    "\n",
    "\n",
    "\n",
    "while True:\n",
    "  # Do some test translations\n",
    "  i = np.random.choice(len(stories))\n",
    "  input_seq = encoder_inputs[i:i+1]\n",
    "  ending = decode_sequence(input_seq)\n",
    "  print('-')\n",
    "  print('Input story:', stories[i])\n",
    "  print('Predicted ending:', ending)\n",
    "  print('Actual ending:', targets[i])\n",
    "\n",
    "  ans = input(\"Continue? [Y/n]\")\n",
    "  if ans and ans.lower().startswith('n'):\n",
    "    break\n"
   ]
  },
  {
   "cell_type": "code",
   "execution_count": null,
   "metadata": {},
   "outputs": [],
   "source": []
  }
 ],
 "metadata": {
  "kernelspec": {
   "display_name": "Python 3",
   "language": "python",
   "name": "python3"
  },
  "language_info": {
   "codemirror_mode": {
    "name": "ipython",
    "version": 3
   },
   "file_extension": ".py",
   "mimetype": "text/x-python",
   "name": "python",
   "nbconvert_exporter": "python",
   "pygments_lexer": "ipython3",
   "version": "3.6.5"
  },
  "latex_envs": {
   "LaTeX_envs_menu_present": true,
   "autoclose": false,
   "autocomplete": true,
   "bibliofile": "biblio.bib",
   "cite_by": "apalike",
   "current_citInitial": 1,
   "eqLabelWithNumbers": true,
   "eqNumInitial": 1,
   "hotkeys": {
    "equation": "Ctrl-E",
    "itemize": "Ctrl-I"
   },
   "labels_anchors": false,
   "latex_user_defs": false,
   "report_style_numbering": false,
   "user_envs_cfg": false
  },
  "toc": {
   "nav_menu": {},
   "number_sections": true,
   "sideBar": true,
   "skip_h1_title": false,
   "title_cell": "Table of Contents",
   "title_sidebar": "Contents",
   "toc_cell": false,
   "toc_position": {},
   "toc_section_display": true,
   "toc_window_display": false
  },
  "varInspector": {
   "cols": {
    "lenName": 16,
    "lenType": 16,
    "lenVar": 40
   },
   "kernels_config": {
    "python": {
     "delete_cmd_postfix": "",
     "delete_cmd_prefix": "del ",
     "library": "var_list.py",
     "varRefreshCmd": "print(var_dic_list())"
    },
    "r": {
     "delete_cmd_postfix": ") ",
     "delete_cmd_prefix": "rm(",
     "library": "var_list.r",
     "varRefreshCmd": "cat(var_dic_list()) "
    }
   },
   "types_to_exclude": [
    "module",
    "function",
    "builtin_function_or_method",
    "instance",
    "_Feature"
   ],
   "window_display": false
  }
 },
 "nbformat": 4,
 "nbformat_minor": 2
}
