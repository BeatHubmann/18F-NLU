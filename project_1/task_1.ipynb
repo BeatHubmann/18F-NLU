{
 "cells": [
  {
   "cell_type": "markdown",
   "metadata": {
    "toc": true
   },
   "source": [
    "<h1>Table of Contents<span class=\"tocSkip\"></span></h1>\n",
    "<div class=\"toc\"><ul class=\"toc-item\"><li><span><a href=\"#Description-Task-1:-RNN-Language-Modelling-(30-+10-Points)\" data-toc-modified-id=\"Description-Task-1:-RNN-Language-Modelling-(30-+10-Points)-1\"><span class=\"toc-item-num\">1&nbsp;&nbsp;</span>Description Task 1: RNN Language Modelling (30 +10 Points)</a></span><ul class=\"toc-item\"><li><span><a href=\"#1a)-Language-Modelling-(30-Points)\" data-toc-modified-id=\"1a)-Language-Modelling-(30-Points)-1.1\"><span class=\"toc-item-num\">1.1&nbsp;&nbsp;</span>1a) Language Modelling (30 Points)</a></span></li><li><span><a href=\"#Conditional-Generation-(10-Points)\" data-toc-modified-id=\"Conditional-Generation-(10-Points)-1.2\"><span class=\"toc-item-num\">1.2&nbsp;&nbsp;</span>Conditional Generation (10 Points)</a></span></li></ul></li><li><span><a href=\"#Code-for-Task-1\" data-toc-modified-id=\"Code-for-Task-1-2\"><span class=\"toc-item-num\">2&nbsp;&nbsp;</span>Code for Task 1</a></span><ul class=\"toc-item\"><li><span><a href=\"#Task-1.1\" data-toc-modified-id=\"Task-1.1-2.1\"><span class=\"toc-item-num\">2.1&nbsp;&nbsp;</span>Task 1.1</a></span><ul class=\"toc-item\"><li><span><a href=\"#Setup-and-preparation\" data-toc-modified-id=\"Setup-and-preparation-2.1.1\"><span class=\"toc-item-num\">2.1.1&nbsp;&nbsp;</span>Setup and preparation</a></span></li><li><span><a href=\"#Data-preprocessing\" data-toc-modified-id=\"Data-preprocessing-2.1.2\"><span class=\"toc-item-num\">2.1.2&nbsp;&nbsp;</span>Data preprocessing</a></span></li><li><span><a href=\"#RNN\" data-toc-modified-id=\"RNN-2.1.3\"><span class=\"toc-item-num\">2.1.3&nbsp;&nbsp;</span>RNN</a></span></li><li><span><a href=\"#Training\" data-toc-modified-id=\"Training-2.1.4\"><span class=\"toc-item-num\">2.1.4&nbsp;&nbsp;</span>Training</a></span></li><li><span><a href=\"#Sample-and-test\" data-toc-modified-id=\"Sample-and-test-2.1.5\"><span class=\"toc-item-num\">2.1.5&nbsp;&nbsp;</span>Sample and test</a></span></li><li><span><a href=\"#Output\" data-toc-modified-id=\"Output-2.1.6\"><span class=\"toc-item-num\">2.1.6&nbsp;&nbsp;</span>Output</a></span></li></ul></li></ul></li></ul></div>"
   ]
  },
  {
   "cell_type": "markdown",
   "metadata": {},
   "source": [
    "# Natural Language Understanding: Project 1\n",
    "\n",
    "[__Natural Language Understanding, Spring 2018, ETHZ__](http://www.da.inf.ethz.ch/teaching/2018/NLU/)\n",
    "\n",
    "[__Project 1__ (ETHZ network)](http://www.da.inf.ethz.ch/teaching/2018/NLU/material/project.pdf)"
   ]
  },
  {
   "cell_type": "markdown",
   "metadata": {},
   "source": [
    "# Project to-do list:\n",
    "\n",
    "Somewhat in order of importance:\n",
    "\n",
    "- change code to unroll RNN in time instead of using dynamic_rnn\n",
    "- make sure the target data fed into the crossentropy metric is really in correct form\n",
    "- try own implementation of basic RNN cell instead of TF-prefab RNN or LSTM cell\n",
    "- **(Done 2.4.2018)** ~~change implementation to use the Xavier initializer instead of the uniform distribution currently used (see below)~~\n",
    "- **(Done 2.4.2018)**  ~~change all `tf.Variable` variable inits to the better practice form like `W = tf.get_variable(name='example', shape=[784, 256], initializer=tf.contrib.layers.xavier_initializer())` which also includes the proper weight init~~\n",
    "- include dropout at input and/or RNN cell level for regularization\n",
    "- clean up namespaces, tensor naming\n",
    "- **(Started 2.4.2018, but TBC)** build in all reporting for Tensorboard\n",
    "- implement perplexity function\n",
    "- adapt code to allow for differently sized timesteps\n",
    "- make arrangements to save trained model\n",
    "- adapt code to allow for use of pretrained word2vec embedding\n",
    "- implement result output function\n",
    "- implement sampling function for conditional text generation"
   ]
  },
  {
   "cell_type": "markdown",
   "metadata": {},
   "source": [
    "## Description Task 1: RNN Language Modelling (30 +10 Points)"
   ]
  },
  {
   "cell_type": "markdown",
   "metadata": {},
   "source": [
    "### 1a) Language Modelling (30 Points)\n",
    "Your task is to build a simple LSTM language model. To be precise, we assume that words are independent given the recurrent hidden state; we compute a new hidden state given the last hidden state and last word, and predict the next word given the hidden state:\n",
    "$$ P(w_1,\\dots,w_n) = 􏰀\\prod_{t=1}^{n}P(w_t|\\mathbf{h}_t)$$\n",
    "$$ P(w_t|\\mathbf{h}_t) = \\text{softmax}(\\mathbf{Wh}_t)$$\n",
    "$$ \\mathbf{h}_t = f(\\mathbf{h}_{t−1}, w_{t-1}^{*})$$\n",
    "\n",
    "where $f$ is the LSTM recurrent function, $\\mathbf{W} \\in \\mathbb{R}^{|V|×d}$ are softmax weights and $\\mathbf{h_0}$ is either an all-zero constant or a trainable parameter.\n",
    "You can use the tensorflow cell implementation __[1](https://www.tensorflow.org/api_docs/python/tf/nn/rnn_cell)__ to carry out the recurrent computation in $f$. However, you must construct the actual RNN yourself (e.g. don’t use tensorflow’s `static_rnn` or `dynamic_rnn` or any other RNN library). That means, you will need to use a python loop that sets up the unrolled graph. To make your life simpler, please follow these design choices:\n",
    "\n",
    "__Model and Data specification__\n",
    "\n",
    "- Use a special sentence-beginning symbol `<bos>` and a sentence-end symbol `<eos>` (please use exactly these, including brackets). The `<bos>` symbol is the input, when predicting the first word and the `<eos>` symbol you require your model to predict at the end of every sentence.\n",
    "- Use a maximum sentence length of 30 (including the `<bos>` and `<eos>` symbol). Ignore longer sentences during training and testing.\n",
    "- Use a special padding symbol `<pad>` (please use exactly this, including brackets) to fill up sentences of length shorter than 30. This way, all your input will have the same size.\n",
    "- Use a vocabulary consisting of the 20K most frequent words in the training set, including the symbols `<bos>`, `<eos>`, `<pad>` and `<unk>`. Replace out-of-vocabulary words with the `<unk>` symbol before feeding them into your network (don’t change the file content).\n",
    "- Provide the ground truth last word as input to the RNN, not the last word you predicted. This is common practice.\n",
    "- Language models are usually trained to minimize the cross-entropy. Use tensorflow’s `tf.nn.sparse_softmax_cross_entropy_with_logits` to compute the loss (*This operation fuses the computation of the soft-max and the cross entropy loss given the logits. For numerical stability, it’s very important to use this function.*). Use the AdamOptimizer with default parameters to minimize the loss. Use `tf.clip_by_global_norm` to clip the norm of the gradients to 5.\n",
    "- Use a batch size of 64.\n",
    "- Use the data at __[6](https://polybox.ethz.ch/index.php/s/qUc2NvUh2eONfEB)__. Don’t pre-process the input further. All the data is already white-space tokenized and\n",
    "lower-cased. One sentence per line.\n",
    "- To initialize your weight matrices, use the `tf.contrib.layers.xavier_initializer()` initializer introduced in __[5](http://jmlr.org/proceedings/papers/v9/glorot10a/glorot10a.pdf)__.\n",
    "\n",
    "__Experiments__\n",
    "All experiments should not run for longer than, say, four hours on the GPU. For this task, your\n",
    "grade won’t improve with performance.\n",
    "\n",
    "- __Experiment A__: Train your model with word-embedding dimensionality of 100 and a hidden state size of 512 and compute sentence perplexity on the evaluation set (see submission format below).\n",
    "- __Experiment B__: It is common practice, to pretrain word embeddings using e.g. `word2vec`. This should make your model train faster as words will come already with some useful representation. Use the code at __[3](http://da.inf.ethz.ch/teaching/2018/NLU/material/load_embeddings.py)__ to load these word embeddings __[4](https://polybox.ethz.ch/index.php/s/cpicEJeC2G4tq9U)__ trained on the same corpus. Train your model again and compute evaluation perplexity.\n",
    "- __Experiment C__: It is often desirable to make the LSTM more powerful, by increasing the hidden dimensionality. However, this will naturally increase the parameters $\\mathbf{W}$ of the softmax. As a compromise, one can use a larger hidden state, but down-project it before the softmax. Increase the hidden state dimensionality from 512 to 1024, but down-project $h_t$ to dimensionality 512 before predicting $w_t$ as in\n",
    "$$ \\mathbf{\\tilde{h}}_t = \\mathbf{W}_P\\mathbf{h}_t$$\n",
    "where $W_P$ are parameters. Train your model again and compute evaluation perplexity.\n",
    "\n",
    "__Submission and grading__\n",
    "- Grading scheme: 100% correctness.\n",
    "- Deadline April 20th, 23:59:59.\n",
    "- You are not allowed to copy-paste any larger code blocks from existing implementations.\n",
    "- Hand in\n",
    "    - Your python code\n",
    "    - __Three__ result files containing sentence-level perplexity numbers on the __test__ set (to be distributed) for\n",
    "all three experiments. Recall that perplexity of a sentence $S = ⟨w_1, \\dots , w_n⟩$ with respect to your model $p(w_t|w_1, \\dots, w_{t−1})$ is defined as\n",
    "$$ \\text{Perp} = 2^{-\\frac{1}{n} \\sum_{t=1}^{n}\\log_2 p(w_t|w_1,\\dots,w_{t−1})}$$\n",
    "The `<eos>` symbol is part of the sequence, while the `<pad>` symbols (if any) are not. Be sure to have the basis of the exponential and the logarithm match.<br>\n",
    "__Input format sentences.test__<br>\n",
    "One sentence (none of them is longer than 28 tokens) per line:<br>\n",
    "         ```beside her , jamie bounced on his seat .\n",
    "         i looked and saw claire montgomery looking up at me .\n",
    "         people might not know who alex was , but they knew to listen to him .```<br>\n",
    "__Required output format groupXX.perplexityY__<br>\n",
    "(where XX is your group __number__ and Y ∈ {A,B,C} is the experiment). One perplexity number per line:<br>\n",
    "         $10.232$<br>\n",
    "         $2.434$<br>\n",
    "         $5.232$<br>\n",
    "Make sure to have equally many lines in the output as there are in the input – otherwise your submission will be rejected automatically.\n",
    "    - You have to submit at https://cmt3.research.microsoft.com/NLUETHZ2018"
   ]
  },
  {
   "cell_type": "markdown",
   "metadata": {},
   "source": [
    "### Conditional Generation (10 Points)\n",
    "Let’s use your trained language model from above to generate sentences. Given an initial sequence of words, your are asked to __greedily__ generate words until either your model decides to finish the sentence (it generated `<eos>`) or a given maximum length has been reached. Note, that this task does not involve any training. Please see the tensorflow documentation on how to save and restore your model from above.\n",
    "There are several ways how to implement the generation. For example, you can define a graph that computes just one step of the RNN given the last input and the last state (both from a new placeholder).\n",
    "$$ \\text{state}_t, p_t = f(\\text{state}_{t−1},w_{t−1}) $$\n",
    "That means, for a prefix of size $m$ and a desired length of $n$, you run this graph $n$ times. The first $m + 1$ times you take the input form the prefix. For the rest of the sequence, you take the most likely2 word $w^{t−1} = \\text{argmax}_w p_{t−1}(w)$ from the last step.\n",
    "\n",
    "- Grading scheme: 100% correctness.\n",
    "- Deadline April 20th, 23:59:59.\n",
    "- You are not allowed to copy-paste any larger code blocks from existing implementations.\n",
    "- Hand in\n",
    "    - Your python code\n",
    "    - Your continued sentences of length up to 20. Use your trained model from experiment __C__ in task 1.1.\n",
    "    __Input format sentences.continuation__ One sentence (of length less than 20) per line:<br>\n",
    "         ```beside her ,\n",
    "         i\n",
    "         people might not know```<br>\n",
    "    The `<bos>` symbol is not explicitly in the file, but you should still use it as the first input.<br>\n",
    "    __Required output format groupXX.continuation__ (where XX is your __group number__)<br>\n",
    "         ```beside her , something happened ! <eos>\n",
    "         i do n’t recall making a noise , but i must have , because bob just looked up from his\n",
    "         people might not know the answer . <eos>```\n",
    "    - You have to submit at https://cmt3.research.microsoft.com/NLUETHZ2018\n"
   ]
  },
  {
   "cell_type": "markdown",
   "metadata": {
    "ExecuteTime": {
     "end_time": "2018-03-18T06:26:00.314606Z",
     "start_time": "2018-03-18T06:26:00.303743Z"
    }
   },
   "source": [
    "__Infrastructure__\n",
    "\n",
    "You must use Tensorflow, but any programming language is allowed. However, we strongly recommend `python3`. You have access to two compute resources: Unlimited CPU usage on Euler and GPU usage on Leonhard. Note that the difference in speed is typically a factor between 10 and 100."
   ]
  },
  {
   "cell_type": "markdown",
   "metadata": {},
   "source": [
    "## Code for Task 1\n",
    "### Task 1.1"
   ]
  },
  {
   "cell_type": "markdown",
   "metadata": {
    "ExecuteTime": {
     "end_time": "2018-03-18T08:22:42.147335Z",
     "start_time": "2018-03-18T08:22:42.144046Z"
    }
   },
   "source": [
    "#### Setup and preparation"
   ]
  },
  {
   "cell_type": "markdown",
   "metadata": {
    "ExecuteTime": {
     "end_time": "2018-03-18T07:22:12.364855Z",
     "start_time": "2018-03-18T07:22:12.360292Z"
    }
   },
   "source": [
    "Make sure you have done the following:\n",
    "\n",
    "- Download data from https://polybox.ethz.ch/index.php/s/qUc2NvUh2eONfEB and unpack into `./data/` subdirectory\n",
    "- Download embeddings from https://polybox.ethz.ch/index.php/s/cpicEJeC2G4tq9U and unpack into `./data/` subdirectory\n",
    "- Download helper function from http://da.inf.ethz.ch/teaching/2018/NLU/material/load_embeddings.py and put into `./helpers/` subdirectory"
   ]
  },
  {
   "cell_type": "code",
   "execution_count": 134,
   "metadata": {
    "ExecuteTime": {
     "end_time": "2018-04-05T21:03:17.177011Z",
     "start_time": "2018-04-05T21:03:17.158286Z"
    }
   },
   "outputs": [],
   "source": [
    "import tensorflow as tf\n",
    "import numpy as np\n",
    "\n",
    "import time\n",
    "\n",
    "from collections import Counter \n",
    "from helpers.load_embeddings import load_embedding\n",
    "from tqdm import tqdm #for i in tqdm(range(10000)):\n",
    "\n",
    "%matplotlib inline"
   ]
  },
  {
   "cell_type": "code",
   "execution_count": 135,
   "metadata": {
    "ExecuteTime": {
     "end_time": "2018-04-05T21:03:25.418093Z",
     "start_time": "2018-04-05T21:03:25.130279Z"
    }
   },
   "outputs": [],
   "source": [
    "# Read training and evalutation data from files\n",
    "\n",
    "with open('./data/sentences.train', 'r') as f:\n",
    "    train_data = f.read()\n",
    "    \n",
    "with open('./data/sentences.eval', 'r') as f:\n",
    "    eval_data = f.read()"
   ]
  },
  {
   "cell_type": "code",
   "execution_count": 136,
   "metadata": {
    "ExecuteTime": {
     "end_time": "2018-04-05T21:03:31.373999Z",
     "start_time": "2018-04-05T21:03:31.368526Z"
    }
   },
   "outputs": [
    {
     "name": "stdout",
     "output_type": "stream",
     "text": [
      "Training data sample:\n",
      " ====================\n",
      "`` i 've never had any ice-cream for myself , my father never let me have any . ''\n",
      "`` and even if sh \n",
      " ................................................................................\n",
      "\n",
      " Evaluation data sample:\n",
      " ====================\n",
      "he took my face in his hands and held my face where he wanted it as he kissed me senseless .\n",
      "`` on t \n",
      " ................................................................................\n"
     ]
    }
   ],
   "source": [
    "# Have a peek at the given raw data\n",
    "\n",
    "print('Training data sample:\\n', 20*'=')\n",
    "print(train_data[:100], '\\n', 80*'.')\n",
    "\n",
    "print('\\n Evaluation data sample:\\n', 20*'=')\n",
    "print(eval_data[:100], '\\n', 80*'.')"
   ]
  },
  {
   "cell_type": "markdown",
   "metadata": {},
   "source": [
    "#### Data preprocessing"
   ]
  },
  {
   "cell_type": "code",
   "execution_count": 137,
   "metadata": {
    "ExecuteTime": {
     "end_time": "2018-04-05T21:03:49.553102Z",
     "start_time": "2018-04-05T21:03:37.357356Z"
    }
   },
   "outputs": [
    {
     "name": "stdout",
     "output_type": "stream",
     "text": [
      "Sample sentences:\n",
      " [\"`` i 've never had any ice-cream for myself , my father never let me have any . ''\", \"`` and even if she was , the gargoyle could hardly halt me from harming her . ''\", 'pigafetta repeated the threat , which had no apparent effect .', \"best to barricade oneself , no ? ''\", \"`` why would he lie ? ''\"] \n",
      "\n",
      "Sample words:\n",
      " ['``', 'i', \"'ve\", 'never', 'had', 'any', 'ice-cream', 'for', 'myself', ',', 'my', 'father', 'never', 'let', 'me', 'have', 'any', '.', \"''\", '``'] \n",
      "\n",
      "Top frequency words:\n",
      " ['.', ',', 'the', 'i', 'to', 'and', '``', \"''\", 'a', 'he', 'of', 'you', 'was', 'her', 'it', 'she', 'in', 'his', 'that', '?'] \n",
      "\n"
     ]
    }
   ],
   "source": [
    "# Get sentences from data and look at sample\n",
    "train_text = ''.join(train_data)\n",
    "train_sentences = train_text.split('\\n')\n",
    "print('Sample sentences:\\n', train_sentences[:5], '\\n')\n",
    "\n",
    "# Make text contiguous again, break into words for vocabulary and look at sample\n",
    "words = ' '.join(train_sentences).split()\n",
    "print('Sample words:\\n', words[:20], '\\n')\n",
    "\n",
    "# Make a word counter and show top frequency words\n",
    "counts = Counter(words)\n",
    "vocab = sorted(counts, key=counts.get, reverse=True)\n",
    "print('Top frequency words:\\n', vocab[:20], '\\n')\n",
    "\n",
    "# Clip word counter to defined length [20k] and append special symbol words\n",
    "symbols = ['<bos>', '<eos>', '<pad>', '<unk>']\n",
    "vocab_length = 20000 # restrict to 20k most frequent tokens\n",
    "vocab = vocab[:vocab_length-len(symbols)] # kick out the last 4 to replace w/ symbols\n",
    "for each in symbols:\n",
    "    vocab.append(each)\n",
    "    \n",
    "# Make a vocabulary to convert words to integers\n",
    "vocab_to_int = {word: i for i, word in enumerate(vocab, 0)} # consider starting with 1 if 0 gives dead cells\n",
    "\n",
    "# Make a vocabulary to get words from integers at the end\n",
    "int_to_vocab = dict(enumerate(vocab))\n"
   ]
  },
  {
   "cell_type": "code",
   "execution_count": 145,
   "metadata": {
    "ExecuteTime": {
     "end_time": "2018-04-05T21:15:16.458826Z",
     "start_time": "2018-04-05T21:15:14.656650Z"
    }
   },
   "outputs": [
    {
     "name": "stderr",
     "output_type": "stream",
     "text": [
      "100%|██████████| 500/500 [00:00<00:00, 49486.81it/s]\n"
     ]
    }
   ],
   "source": [
    "# Encode training sentences to integers and insert symbol words where necessary\n",
    "\n",
    "### ATTN: Remove next line after finishing, keeping data set small for speedup\n",
    "train_sentences = train_sentences[:500]\n",
    "\n",
    "max_sentence_length = 30 # Given by task description\n",
    "sentences_ints = [] # List to hold converted-to-int sentences\n",
    "for each in tqdm(train_sentences):\n",
    "    sentence = each.split()\n",
    "    if len(sentence) < max_sentence_length-2: # -2 to allow for <bos>, <eos> \\\n",
    "                                              # only use sentences w/ lenght <=30 as mandated\n",
    "        sentence_int = [vocab_to_int['<bos>']] # Start sentence list w/ <bos>\n",
    "        sentence_int += [vocab_to_int[word] if word in vocab_to_int\\\n",
    "                             else vocab_to_int['<unk>'] for word in sentence] # Append remaining words\n",
    "        sentence_int.append(vocab_to_int['<eos>']) # End sentence w/ <eos>\n",
    "        while len(sentence_int) < max_sentence_length: # Pad length if necessary\n",
    "            sentence_int.append(vocab_to_int['<pad>'])\n",
    "        sentences_ints.append(sentence_int) \n",
    "source = np.array(sentences_ints) # Convert list of sentences to np array"
   ]
  },
  {
   "cell_type": "markdown",
   "metadata": {},
   "source": [
    "#### RNN "
   ]
  },
  {
   "cell_type": "code",
   "execution_count": 148,
   "metadata": {
    "ExecuteTime": {
     "end_time": "2018-04-05T21:24:08.592816Z",
     "start_time": "2018-04-05T21:24:08.587188Z"
    }
   },
   "outputs": [],
   "source": [
    "def variable_summaries(var):\n",
    "    '''Attach a lot of summaries to a Tensor (for TensorBoard visualization).\n",
    "    \n",
    "        From TensorBoard documentation\n",
    "    '''\n",
    "    with tf.name_scope('summaries'):\n",
    "        mean = tf.reduce_mean(var)\n",
    "        tf.summary.scalar('mean', mean)\n",
    "    with tf.name_scope('stddev'):\n",
    "        stddev = tf.sqrt(tf.reduce_mean(tf.square(var - mean)))\n",
    "    tf.summary.scalar('stddev', stddev)\n",
    "    tf.summary.scalar('max', tf.reduce_max(var))\n",
    "    tf.summary.scalar('min', tf.reduce_min(var))\n",
    "    tf.summary.histogram('histogram', var)"
   ]
  },
  {
   "cell_type": "code",
   "execution_count": 141,
   "metadata": {
    "ExecuteTime": {
     "end_time": "2018-04-05T21:06:09.779074Z",
     "start_time": "2018-04-05T21:06:09.773098Z"
    }
   },
   "outputs": [],
   "source": [
    "def init_rnn_cells(x, rnn_size):\n",
    "    '''Init RNN cells, setup reusable variables\n",
    "    \n",
    "        TBC\n",
    "    '''\n",
    "    # For readability: Short dimension handlers\n",
    "    N = x.shape[0] # Batch size\n",
    "    D = x.shape[1] # Input dimensions\n",
    "    H = rnn_size\n",
    "    \n",
    "    with tf.variable_scope('LSTM'):\n",
    "        W_x = tf.get_variable(name='W_x', shape=[D, 4*H], initializer=xavi) # Input-to-hidden\n",
    "        W_h = tf.get_variable(name='W_h', shape=[H, 4*H], initializer=xavi) #Hidden-to-hidden\n",
    "        b = tf.get_variable(name='b', shape=[4*H,], initializer=zeros)\n",
    "        h_init = tf.get_variable(name='h_init', shape=[N, H], initializer=zeros, trainable=False)\n",
    "        C_init = tf.get_variable(name='C_init', shape=[N, H], initializer=ones, trainable=False)\n",
    "    return h_init, C_init"
   ]
  },
  {
   "cell_type": "code",
   "execution_count": 142,
   "metadata": {
    "ExecuteTime": {
     "end_time": "2018-04-05T21:06:33.266589Z",
     "start_time": "2018-04-05T21:06:33.255417Z"
    }
   },
   "outputs": [],
   "source": [
    "def rnn_cell(x, h_prev, C_prev):\n",
    "    '''Hand-made Basic LSTM cell\n",
    "    \n",
    "        For variable names see http://colah.github.io/posts/2015-08-Understanding-LSTMs/\n",
    "    \n",
    "        Inputs:\n",
    "        x: Input data\n",
    "        prev_h: Previous hidden state, shape (batch_size, rnn_size)\n",
    "        prev_C: Previous cell state, shape (batch_size, rnn_size)\n",
    "        \n",
    "        Outputs:\n",
    "        h: Current hidden state, shape (batch_size, rnn_size)\n",
    "        C: Current cell state, shape (batch_size, rnn_size)\n",
    "        TBC\n",
    "    '''\n",
    "    \n",
    "    with tf.variable_scope('LSTM', reuse=True):\n",
    "        W_x = tf.get_variable('W_x') \n",
    "        W_h = tf.get_variable('W_h') \n",
    "        b = tf.get_variable('b')     \n",
    "        \n",
    "        variable_summaries(W_x)\n",
    "        variable_summaries(W_h)\n",
    "        variable_summaries(b)\n",
    "             \n",
    "    H = tf.cast(W_h.shape[0], tf.int32)\n",
    "    \n",
    "    A = tf.add(tf.add(tf.matmul(x, W_x), tf.matmul(h_prev, W_h)), b)\n",
    "    \n",
    "    f_t = tf.sigmoid(A[:, :H])\n",
    "    i_t = tf.sigmoid(A[:, H:2*H])\n",
    "    C_twiddle_t = tf.tanh(A[:, 2*H:3*H])\n",
    "    o_t = tf.sigmoid(A[:, 3*H:])\n",
    "    \n",
    "    C_t = f_t * C_prev + i_t * C_twiddle_t\n",
    " \n",
    "    h_t = o_t * tf.tanh(C_t)\n",
    "\n",
    "    return h_t, C_t\n",
    "    "
   ]
  },
  {
   "cell_type": "code",
   "execution_count": 154,
   "metadata": {
    "ExecuteTime": {
     "end_time": "2018-04-05T21:49:09.511658Z",
     "start_time": "2018-04-05T21:49:09.492657Z"
    }
   },
   "outputs": [],
   "source": [
    "class RNNLanguageModel:\n",
    "    def __init__(self, out_size=vocab_length, batch_size=64, n_steps=30,\n",
    "                 rnn_size=512, rnn_layers=1, learning_rate=0.001,\n",
    "                 grad_clip=5, embedding_size=100, keep_prob=0.5,\n",
    "                 is_training=True):\n",
    "        \n",
    "        # Reset tensorflow graph for clean slate\n",
    "        tf.reset_default_graph()\n",
    "        \n",
    "        # Build input layer, keep_prob (all placeholders):\n",
    "        with tf.name_scope(\"input_layer\"):\n",
    "            self.inputs = tf.placeholder(tf.int32, [batch_size, n_steps], name='inputs')\n",
    "            self.targets = tf.placeholder(tf.int64, [batch_size, n_steps], name='targets')\n",
    "            self.keep_prob = tf.placeholder(tf.float32, name='keep_prob')\n",
    "            \n",
    "\n",
    "        # Build embedding layer\n",
    "        with tf.name_scope(\"embedding_layer\"):\n",
    "            embedding_matrix = tf.get_variable(name='embedding_matrix',\n",
    "                                               shape=[vocab_length, embedding_size],\n",
    "                                               initializer=unif)\n",
    "            self.embeddings = tf.nn.embedding_lookup(embedding_matrix, self.inputs,\n",
    "                                                     name='inputs_embedding_lookup')\n",
    "            tf.summary.histogram('embeddings', self.embeddings) # for TensorBoard analysis\n",
    "        \n",
    "        # Embedding layer dropout during training\n",
    "        if (is_training and keep_prob < 0):\n",
    "            self.embeddings = tf.nn.dropout(self.embeddings, keep_prob)\n",
    "            \n",
    "        # Build RNN layer\n",
    "        with tf.name_scope(\"hidden_layer\"):\n",
    "            # LSTM cell init\n",
    "            self.h_init, self.C_init = init_rnn_cells(self.embeddings[:, 0, :], rnn_size)\n",
    "            self.hidden_states, self.cell_states = [self.h_init], [self.C_init]\n",
    "            \n",
    "            # LSTM time steps\n",
    "            for i in range(n_steps):\n",
    "                h_prev, C_prev = self.hidden_states[-1], self.cell_states[-1]\n",
    "                h_t, C_t = rnn_cell(self.embeddings[:, i, :], h_prev, C_prev)\n",
    "                self.hidden_states.append(h_t), self.cell_states.append(C_t)\n",
    "        \n",
    "            self.final_hidden_state, self.final_cell_state = self.hidden_states[-1], self.cell_states[-1]\n",
    "            \n",
    "            # Reshape hidden_states into tensor w/ one row for e/a step, leave out initial state\n",
    "            self.outputs = tf.concat(self.hidden_states[1:], 0)\n",
    "        \n",
    "        # Build softmax output layer and calculate best prediction\n",
    "        with tf.name_scope('softmax_layer'):\n",
    "            # Hook up RNN outputs to softmax layer:\n",
    "            softmax_w = tf.get_variable(name=\"softmax_weight\", shape=[rnn_size, out_size],\n",
    "                                        initializer=xavi)\n",
    "            softmax_b = tf.get_variable(name=\"softmax_bias\", shape=[out_size],\n",
    "                                        initializer=zeros)\n",
    "            \n",
    "            variable_summaries(softmax_w)\n",
    "            variable_summaries(softmax_b)\n",
    "            \n",
    "            # Calculate logits from softmax layer\n",
    "            self.logits = tf.nn.xw_plus_b(self.outputs, softmax_w, softmax_b, name='logits')\n",
    "            \n",
    "            tf.summary.histogram('logits', self.logits)\n",
    "            \n",
    "            # Finally, get word probabilities from logits\n",
    "            self.predictions = tf.nn.softmax(self.logits, name='predictions')\n",
    "            \n",
    "            tf.summary.histogram('predictions', self.predictions)\n",
    "        \n",
    "        # Loss \n",
    "        with tf.name_scope('loss'):\n",
    "            # One-hot encode targets:\n",
    "            # To be confirmed, but after some consideration I now think its fine\n",
    "            y_one_hot = tf.one_hot(self.targets, out_size)\n",
    "\n",
    "            # Reshape encoded targets to fit logits\n",
    "            y_reshaped = tf.reshape(y_one_hot, self.logits.get_shape())\n",
    "\n",
    "            # Softmax cross entropy loss\n",
    "            self.loss = tf.reduce_mean(tf.nn.softmax_cross_entropy_with_logits(logits=self.logits,\n",
    "                                                                               labels=y_reshaped))\n",
    "            tf.summary.scalar('loss', self.loss)\n",
    "\n",
    "            \n",
    "        # Optimizer\n",
    "        with tf.name_scope('optimizer'):\n",
    "            tvars = tf.trainable_variables()\n",
    "            grads, _ = tf.clip_by_global_norm(tf.gradients(self.loss, tvars), grad_clip)\n",
    "            train_op = tf.train.AdamOptimizer(learning_rate)\n",
    "            self.optimizer = train_op.apply_gradients(zip(grads, tvars))\n",
    "            \n",
    "            \n",
    "            \n",
    "        self.merged = tf.summary.merge_all()"
   ]
  },
  {
   "cell_type": "code",
   "execution_count": 156,
   "metadata": {
    "ExecuteTime": {
     "end_time": "2018-04-05T21:59:04.756077Z",
     "start_time": "2018-04-05T21:59:04.742992Z"
    }
   },
   "outputs": [],
   "source": [
    "### Usage not yet implemented\n",
    "\n",
    "\n",
    "class RNNConfigTrain(object):\n",
    "    \"\"\"\n",
    "    Class holding all configuration vars for training the RNN\n",
    "    \"\"\"\n",
    "    def __init__(self,\n",
    "                 dev_sample_percentage=.1,\n",
    "                 data_file_path='/data/corpus.small',\n",
    "                 embedding_dim=128,\n",
    "                 vocab_size=50000,\n",
    "                 past_words=3,\n",
    "                 batch_size=64,\n",
    "                 num_epochs=200,\n",
    "                 evaluate_every=100,\n",
    "                 checkpoint_every=100,\n",
    "                 num_checkpoints=5,\n",
    "                 allow_soft_placement=True,\n",
    "                 log_device_placement=False):\n",
    "        \n",
    "        # Percentage of the training data used for validation (default: 10%)\n",
    "        self.dev_sample_percentage=dev_sample_percentage\n",
    "        \n",
    "        # Path to the training data \n",
    "        self.data_file_path=data_file_path\n",
    "        \n",
    "        # Dimensionality of word embeddings (default: 128)\n",
    "        self.embedding_dim=embedding_dim\n",
    "        \n",
    "        # Size of the vocabulary (default: 50k)\n",
    "        self.vocab_size=vocab_size\n",
    "        \n",
    "        # How many previous words are used for prediction (default: 3)\n",
    "        self.past_words=past_words\n",
    "        \n",
    "        # Batch Size (default: 64)\n",
    "        self.batch_size=batch_size\n",
    "        \n",
    "        # Number of training epochs (default: 200)\n",
    "        self.num_epochs=num_epochs\n",
    "        \n",
    "        # Evaluate model on dev set after this many steps (default: 100)\n",
    "        self.evaluate_every=evaluate_every\n",
    "        \n",
    "        # Save model after this many steps (default: 100)\n",
    "        self.checkpoint_every=checkpoint_every\n",
    "        \n",
    "        # Number of checkpoints to store (default: 5)\n",
    "        self.num_checkpoints=num_checkpoints\n",
    "        \n",
    "        # Allow device soft device placement\n",
    "        self.allow_soft_placement=allow_soft_placement\n",
    "        \n",
    "        # Log placement of ops on devices\n",
    "        self.log_device_placement=log_device_placement\n",
    "        "
   ]
  },
  {
   "cell_type": "code",
   "execution_count": 159,
   "metadata": {
    "ExecuteTime": {
     "end_time": "2018-04-05T22:09:26.035765Z",
     "start_time": "2018-04-05T22:09:26.026498Z"
    }
   },
   "outputs": [],
   "source": [
    "# Set hyperparameters - to be built into config class above\n",
    "\n",
    "embedding_size = 100\n",
    "rnn_size = 512\n",
    "rnn_layers = 1\n",
    "batch_size = 64\n",
    "out_size = vocab_length\n",
    "learning_rate = 0.001\n",
    "keep_prob = 0.5\n",
    "grad_clip = 5.0\n",
    "n_steps = 30\n",
    "\n",
    "# Shorthands for initializers\n",
    "ones = tf.ones_initializer\n",
    "unif = tf.random_uniform_initializer(-1, 1)\n",
    "xavi = tf.contrib.layers.xavier_initializer()\n",
    "zeros = tf.zeros_initializer()\n"
   ]
  },
  {
   "cell_type": "code",
   "execution_count": 146,
   "metadata": {
    "ExecuteTime": {
     "end_time": "2018-04-05T21:15:24.535810Z",
     "start_time": "2018-04-05T21:15:24.526625Z"
    }
   },
   "outputs": [],
   "source": [
    "# Build batch generator for training    \n",
    "def get_batches(source_arr, batch_size, n_steps=30):\n",
    "    '''Generator that returns features x and targets y of size:\n",
    "            batch_size(number of sequences from source_arr)\n",
    "                    x\n",
    "            n_steps (length of sequence from source_arr)\n",
    "    \n",
    "    Inputs\n",
    "    ------\n",
    "    source_arr: A np.ndarray of sentences in rows to generate features and targets from\n",
    "    batch_size: An int number of sequences required per batch\n",
    "    n_steps: Number of time steps for RNN to consider; defines sequence length\n",
    "    \n",
    "    Outputs\n",
    "    -------\n",
    "    x: A np.ndarray of feature sequences according to parameters above\n",
    "    y: A np.ndarray of target sequences according to paramteres above.\n",
    "    '''\n",
    "    # Make sure time steps doesn't exceed available information in sentence\n",
    "    assert (n_steps <=  source_arr.shape[1]), \"No point in further back than sentence is long\"\n",
    "    \n",
    "    # How many full, non-overlapping sequences we can get from a sentence\n",
    "    n_seq_per_row = source_arr.shape[1] // n_steps \n",
    "    \n",
    "    # Crop source to make full sequences only\n",
    "    source_length = n_steps * n_seq_per_row # Reflecting number of full sequences of wanted length per source sentence\n",
    "    source_arr = source_arr[:, :source_length] # Crop columns\n",
    "    \n",
    "    # Reshape to make our life easier\n",
    "    source_arr = source_arr.reshape((-1, n_steps)) # Now one row/sequence\n",
    "    \n",
    "    # Further crop source to make full batches only\n",
    "    n_batches = source_arr.shape[0] // batch_size # How many batches of wanted size w/ wanted sequence length we can get\n",
    "    source_arr = source_arr[:n_batches*batch_size, :] # Crop rows\n",
    "\n",
    "    # Reshape again for convenience\n",
    "    source_arr = source_arr.reshape((batch_size, -1))\n",
    "                        \n",
    "    # Finally generate batches: source_arr has now batch_size rows and we slide over the columns in steps of size n_steps\n",
    "    for j in range(0, source_arr.shape[1], n_steps):\n",
    "        # Feature sequence:\n",
    "        x = source_arr[:, j:j+n_steps]\n",
    "        # Target sequence: Shift feature sequence by one step, wrap around:\n",
    "        y = np.zeros_like(x) # Create empty\n",
    "        y[:, :-1]= x[:, 1:] # Center part with shift\n",
    "        y[:, -1] = x[:, 0] # Wrap around\n",
    "        yield x, y"
   ]
  },
  {
   "cell_type": "markdown",
   "metadata": {},
   "source": [
    "#### Training"
   ]
  },
  {
   "cell_type": "code",
   "execution_count": null,
   "metadata": {},
   "outputs": [],
   "source": [
    "epochs = 10\n",
    "save_every_n = 100\n",
    "saver = tf.train.Saver(max_to_keep=2)\n",
    "\n",
    "\n",
    "model = RNNLanguageModel(n_steps=n_steps)\n",
    "\n",
    "\n",
    "# Summary / Variables used for TensorBoard\n",
    "from datetime import datetime\n",
    "now = datetime.utcnow().strftime(\"%Y%m%d%H%M%S\")\n",
    "logdir = \"train\"\n",
    "traindir = \"{}/time-{}/\".format(logdir, now)\n",
    "train_writer = tf.summary.FileWriter(traindir, tf.get_default_graph())\n",
    "\n",
    "with tf.Session() as sess:\n",
    "    sess.run(tf.global_variables_initializer())\n",
    "    \n",
    "    counter = 0\n",
    "    for ep in range(epochs):\n",
    "        new_hidden_state, new_cell_state = sess.run([model.h_init, model.C_init])\n",
    "     \n",
    "        loss = 0\n",
    "        \n",
    "        for x, y in get_batches(source, batch_size, n_steps):\n",
    "            counter += 1\n",
    "            start = time.time()\n",
    "            \n",
    "            feed_dict = {model.inputs: x,\n",
    "                         model.targets: y,\n",
    "                         model.keep_prob: keep_prob,\n",
    "                         model.h_init: new_hidden_state,\n",
    "                         model.C_init: new_cell_state}\n",
    "            \n",
    "            summary, batch_loss, new_hidden_state, new_cell_state, _ = sess.run([model.merged,\n",
    "                                                                                 model.loss,\n",
    "                                                                                 model.final_hidden_state,\n",
    "                                                                                 model.final_cell_state,\n",
    "                                                                                 model.optimizer],\n",
    "                                                                                 feed_dict=feed_dict)\n",
    "            \n",
    "            batch_time = time.time() - start\n",
    "            \n",
    "            train_writer.add_summary(summary, counter)\n",
    "            \n",
    "            print('Epoch: {}/{}\\t'.format(ep+1, epochs),\n",
    "                  'Training step: {}\\t'.format(counter),\n",
    "                  'Batch loss: {:.4f}\\t'.format(batch_loss),\n",
    "                  '{:4f} sec/batch'.format(batch_time))\n",
    "    train_writer.close()\n",
    "    #saver.save(sess, 'checkpoints/{}'.format(time.time()))\n",
    "    \n",
    "    \n",
    "    \n",
    "            \n"
   ]
  },
  {
   "cell_type": "code",
   "execution_count": 84,
   "metadata": {
    "ExecuteTime": {
     "end_time": "2018-04-05T19:49:15.159743Z",
     "start_time": "2018-04-05T19:49:15.148101Z"
    }
   },
   "outputs": [
    {
     "data": {
      "text/plain": [
       "[<tf.Variable 'embedding_matrix:0' shape=(20000, 100) dtype=float32_ref>,\n",
       " <tf.Variable 'LSTM/W_x:0' shape=(100, 2048) dtype=float32_ref>,\n",
       " <tf.Variable 'LSTM/W_h:0' shape=(512, 2048) dtype=float32_ref>,\n",
       " <tf.Variable 'LSTM/b:0' shape=(2048,) dtype=float32_ref>,\n",
       " <tf.Variable 'LSTM/h_init:0' shape=(64, 512) dtype=float32_ref>,\n",
       " <tf.Variable 'LSTM/C_init:0' shape=(64, 512) dtype=float32_ref>,\n",
       " <tf.Variable 'softmax_weight:0' shape=(512, 20000) dtype=float32_ref>,\n",
       " <tf.Variable 'softmax_bias:0' shape=(20000,) dtype=float32_ref>]"
      ]
     },
     "execution_count": 84,
     "metadata": {},
     "output_type": "execute_result"
    }
   ],
   "source": [
    "tf.trainable_variables()"
   ]
  },
  {
   "cell_type": "markdown",
   "metadata": {},
   "source": [
    "#### Sample and test"
   ]
  },
  {
   "cell_type": "code",
   "execution_count": null,
   "metadata": {},
   "outputs": [],
   "source": []
  },
  {
   "cell_type": "markdown",
   "metadata": {},
   "source": [
    "#### Output"
   ]
  },
  {
   "cell_type": "code",
   "execution_count": null,
   "metadata": {},
   "outputs": [],
   "source": []
  }
 ],
 "metadata": {
  "kernelspec": {
   "display_name": "Python 3",
   "language": "python",
   "name": "python3"
  },
  "language_info": {
   "codemirror_mode": {
    "name": "ipython",
    "version": 3
   },
   "file_extension": ".py",
   "mimetype": "text/x-python",
   "name": "python",
   "nbconvert_exporter": "python",
   "pygments_lexer": "ipython3",
   "version": "3.6.5"
  },
  "latex_envs": {
   "LaTeX_envs_menu_present": true,
   "autoclose": false,
   "autocomplete": true,
   "bibliofile": "biblio.bib",
   "cite_by": "apalike",
   "current_citInitial": 1,
   "eqLabelWithNumbers": true,
   "eqNumInitial": 1,
   "hotkeys": {
    "equation": "Ctrl-E",
    "itemize": "Ctrl-I"
   },
   "labels_anchors": false,
   "latex_user_defs": false,
   "report_style_numbering": false,
   "user_envs_cfg": false
  },
  "toc": {
   "nav_menu": {},
   "number_sections": true,
   "sideBar": true,
   "skip_h1_title": true,
   "title_cell": "Table of Contents",
   "title_sidebar": "Contents",
   "toc_cell": true,
   "toc_position": {
    "height": "calc(100% - 180px)",
    "left": "10px",
    "top": "150px",
    "width": "165px"
   },
   "toc_section_display": true,
   "toc_window_display": false
  },
  "varInspector": {
   "cols": {
    "lenName": 16,
    "lenType": 16,
    "lenVar": 40
   },
   "kernels_config": {
    "python": {
     "delete_cmd_postfix": "",
     "delete_cmd_prefix": "del ",
     "library": "var_list.py",
     "varRefreshCmd": "print(var_dic_list())"
    },
    "r": {
     "delete_cmd_postfix": ") ",
     "delete_cmd_prefix": "rm(",
     "library": "var_list.r",
     "varRefreshCmd": "cat(var_dic_list()) "
    }
   },
   "types_to_exclude": [
    "module",
    "function",
    "builtin_function_or_method",
    "instance",
    "_Feature"
   ],
   "window_display": false
  }
 },
 "nbformat": 4,
 "nbformat_minor": 2
}
