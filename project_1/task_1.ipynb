{
 "cells": [
  {
   "cell_type": "markdown",
   "metadata": {
    "toc": true
   },
   "source": [
    "<h1>Table of Contents<span class=\"tocSkip\"></span></h1>\n",
    "<div class=\"toc\"><ul class=\"toc-item\"><li><span><a href=\"#Description-Task-1:-RNN-Language-Modelling-(30-+10-Points)\" data-toc-modified-id=\"Description-Task-1:-RNN-Language-Modelling-(30-+10-Points)-1\"><span class=\"toc-item-num\">1&nbsp;&nbsp;</span>Description Task 1: RNN Language Modelling (30 +10 Points)</a></span><ul class=\"toc-item\"><li><span><a href=\"#1a)-Language-Modelling-(30-Points)\" data-toc-modified-id=\"1a)-Language-Modelling-(30-Points)-1.1\"><span class=\"toc-item-num\">1.1&nbsp;&nbsp;</span>1a) Language Modelling (30 Points)</a></span></li><li><span><a href=\"#Conditional-Generation-(10-Points)\" data-toc-modified-id=\"Conditional-Generation-(10-Points)-1.2\"><span class=\"toc-item-num\">1.2&nbsp;&nbsp;</span>Conditional Generation (10 Points)</a></span></li></ul></li><li><span><a href=\"#Code-for-Task-1\" data-toc-modified-id=\"Code-for-Task-1-2\"><span class=\"toc-item-num\">2&nbsp;&nbsp;</span>Code for Task 1</a></span><ul class=\"toc-item\"><li><span><a href=\"#Task-1.1\" data-toc-modified-id=\"Task-1.1-2.1\"><span class=\"toc-item-num\">2.1&nbsp;&nbsp;</span>Task 1.1</a></span><ul class=\"toc-item\"><li><span><a href=\"#Setup-and-preparation\" data-toc-modified-id=\"Setup-and-preparation-2.1.1\"><span class=\"toc-item-num\">2.1.1&nbsp;&nbsp;</span>Setup and preparation</a></span></li><li><span><a href=\"#Data-preprocessing\" data-toc-modified-id=\"Data-preprocessing-2.1.2\"><span class=\"toc-item-num\">2.1.2&nbsp;&nbsp;</span>Data preprocessing</a></span></li><li><span><a href=\"#RNN\" data-toc-modified-id=\"RNN-2.1.3\"><span class=\"toc-item-num\">2.1.3&nbsp;&nbsp;</span>RNN</a></span><ul class=\"toc-item\"><li><span><a href=\"#Dev:-playing-around-with-batches\" data-toc-modified-id=\"Dev:-playing-around-with-batches-2.1.3.1\"><span class=\"toc-item-num\">2.1.3.1&nbsp;&nbsp;</span>Dev: playing around with batches</a></span></li></ul></li><li><span><a href=\"#Training\" data-toc-modified-id=\"Training-2.1.4\"><span class=\"toc-item-num\">2.1.4&nbsp;&nbsp;</span>Training</a></span></li><li><span><a href=\"#Sample-and-test\" data-toc-modified-id=\"Sample-and-test-2.1.5\"><span class=\"toc-item-num\">2.1.5&nbsp;&nbsp;</span>Sample and test</a></span></li></ul></li></ul></li></ul></div>"
   ]
  },
  {
   "cell_type": "markdown",
   "metadata": {},
   "source": [
    "# Natural Language Understanding: Project 1\n",
    "\n",
    "[__Natural Language Understanding, Spring 2018, ETHZ__](http://www.da.inf.ethz.ch/teaching/2018/NLU/)\n",
    "\n",
    "[__Project 1__ (ETHZ network)](http://www.da.inf.ethz.ch/teaching/2018/NLU/material/project.pdf)"
   ]
  },
  {
   "cell_type": "markdown",
   "metadata": {},
   "source": [
    "# Project to-do list:\n",
    "\n",
    "Somewhat in order of importance:\n",
    "\n",
    "- change code to unroll RNN in time instead of using dynamic_rnn\n",
    "- ~~make sure the target data fed into the crossentropy metric is really in correct form~~\n",
    "- ~~try own implementation of basic RNN cell instead of TF-prefab RNN or LSTM cell~~\n",
    "- ~~change implementation to use the Xavier initializer instead of the uniform distribution currently used (see below)~~\n",
    "- ~~change all `tf.Variable` variable inits to the better practice form like `W = tf.get_variable(name='example', shape=[784, 256], initializer=tf.contrib.layers.xavier_initializer())` which also includes the proper weight init~~\n",
    "- ~~include dropout at input and/or RNN cell level for regularization~~\n",
    "- ~~clean up namespaces, tensor naming~~\n",
    "- ~~(Started 2.4.2018, but TBC)** build in all reporting for Tensorboard~~\n",
    "- ~~adapt code to allow for differently sized timesteps~~\n",
    "- ~~make arrangements to save trained model~~\n",
    "- implement perplexity function\n",
    "- ~~Maybe needs rewrite to use stock LSTM cell again** implement sampling function for conditional text generation~~\n",
    "- ~~implement result output function~~\n",
    "- adapt code to allow for use of pretrained word2vec embedding"
   ]
  },
  {
   "cell_type": "markdown",
   "metadata": {},
   "source": [
    "## Description Task 1: RNN Language Modelling (30 +10 Points)"
   ]
  },
  {
   "cell_type": "markdown",
   "metadata": {},
   "source": [
    "### 1a) Language Modelling (30 Points)\n",
    "Your task is to build a simple LSTM language model. To be precise, we assume that words are independent given the recurrent hidden state; we compute a new hidden state given the last hidden state and last word, and predict the next word given the hidden state:\n",
    "$$ P(w_1,\\dots,w_n) = 􏰀\\prod_{t=1}^{n}P(w_t|\\mathbf{h}_t)$$\n",
    "$$ P(w_t|\\mathbf{h}_t) = \\text{softmax}(\\mathbf{Wh}_t)$$\n",
    "$$ \\mathbf{h}_t = f(\\mathbf{h}_{t−1}, w_{t-1}^{*})$$\n",
    "\n",
    "where $f$ is the LSTM recurrent function, $\\mathbf{W} \\in \\mathbb{R}^{|V|×d}$ are softmax weights and $\\mathbf{h_0}$ is either an all-zero constant or a trainable parameter.\n",
    "You can use the tensorflow cell implementation __[1](https://www.tensorflow.org/api_docs/python/tf/nn/rnn_cell)__ to carry out the recurrent computation in $f$. However, you must construct the actual RNN yourself (e.g. don’t use tensorflow’s `static_rnn` or `dynamic_rnn` or any other RNN library). That means, you will need to use a python loop that sets up the unrolled graph. To make your life simpler, please follow these design choices:\n",
    "\n",
    "__Model and Data specification__\n",
    "\n",
    "- Use a special sentence-beginning symbol `<bos>` and a sentence-end symbol `<eos>` (please use exactly these, including brackets). The `<bos>` symbol is the input, when predicting the first word and the `<eos>` symbol you require your model to predict at the end of every sentence.\n",
    "- Use a maximum sentence length of 30 (including the `<bos>` and `<eos>` symbol). Ignore longer sentences during training and testing.\n",
    "- Use a special padding symbol `<pad>` (please use exactly this, including brackets) to fill up sentences of length shorter than 30. This way, all your input will have the same size.\n",
    "- Use a vocabulary consisting of the 20K most frequent words in the training set, including the symbols `<bos>`, `<eos>`, `<pad>` and `<unk>`. Replace out-of-vocabulary words with the `<unk>` symbol before feeding them into your network (don’t change the file content).\n",
    "- Provide the ground truth last word as input to the RNN, not the last word you predicted. This is common practice.\n",
    "- Language models are usually trained to minimize the cross-entropy. Use tensorflow’s `tf.nn.sparse_softmax_cross_entropy_with_logits` to compute the loss (*This operation fuses the computation of the soft-max and the cross entropy loss given the logits. For numerical stability, it’s very important to use this function.*). Use the AdamOptimizer with default parameters to minimize the loss. Use `tf.clip_by_global_norm` to clip the norm of the gradients to 5.\n",
    "- Use a batch size of 64.\n",
    "- Use the data at __[6](https://polybox.ethz.ch/index.php/s/qUc2NvUh2eONfEB)__. Don’t pre-process the input further. All the data is already white-space tokenized and\n",
    "lower-cased. One sentence per line.\n",
    "- To initialize your weight matrices, use the `tf.contrib.layers.xavier_initializer()` initializer introduced in __[5](http://jmlr.org/proceedings/papers/v9/glorot10a/glorot10a.pdf)__.\n",
    "\n",
    "__Experiments__\n",
    "All experiments should not run for longer than, say, four hours on the GPU. For this task, your\n",
    "grade won’t improve with performance.\n",
    "\n",
    "- __Experiment A__: Train your model with word-embedding dimensionality of 100 and a hidden state size of 512 and compute sentence perplexity on the evaluation set (see submission format below).\n",
    "- __Experiment B__: It is common practice, to pretrain word embeddings using e.g. `word2vec`. This should make your model train faster as words will come already with some useful representation. Use the code at __[3](http://da.inf.ethz.ch/teaching/2018/NLU/material/load_embeddings.py)__ to load these word embeddings __[4](https://polybox.ethz.ch/index.php/s/cpicEJeC2G4tq9U)__ trained on the same corpus. Train your model again and compute evaluation perplexity.\n",
    "- __Experiment C__: It is often desirable to make the LSTM more powerful, by increasing the hidden dimensionality. However, this will naturally increase the parameters $\\mathbf{W}$ of the softmax. As a compromise, one can use a larger hidden state, but down-project it before the softmax. Increase the hidden state dimensionality from 512 to 1024, but down-project $h_t$ to dimensionality 512 before predicting $w_t$ as in\n",
    "$$ \\mathbf{\\tilde{h}}_t = \\mathbf{W}_P\\mathbf{h}_t$$\n",
    "where $W_P$ are parameters. Train your model again and compute evaluation perplexity.\n",
    "\n",
    "__Submission and grading__\n",
    "- Grading scheme: 100% correctness.\n",
    "- Deadline April 20th, 23:59:59.\n",
    "- You are not allowed to copy-paste any larger code blocks from existing implementations.\n",
    "- Hand in\n",
    "    - Your python code\n",
    "    - __Three__ result files containing sentence-level perplexity numbers on the __test__ set (to be distributed) for\n",
    "all three experiments. Recall that perplexity of a sentence $S = ⟨w_1, \\dots , w_n⟩$ with respect to your model $p(w_t|w_1, \\dots, w_{t−1})$ is defined as\n",
    "$$ \\text{Perp} = 2^{-\\frac{1}{n} \\sum_{t=1}^{n}\\log_2 p(w_t|w_1,\\dots,w_{t−1})}$$\n",
    "The `<eos>` symbol is part of the sequence, while the `<pad>` symbols (if any) are not. Be sure to have the basis of the exponential and the logarithm match.<br>\n",
    "__Input format sentences.test__<br>\n",
    "One sentence (none of them is longer than 28 tokens) per line:<br>\n",
    "         ```beside her , jamie bounced on his seat .\n",
    "         i looked and saw claire montgomery looking up at me .\n",
    "         people might not know who alex was , but they knew to listen to him .```<br>\n",
    "__Required output format groupXX.perplexityY__<br>\n",
    "(where XX is your group __number__ and Y ∈ {A,B,C} is the experiment). One perplexity number per line:<br>\n",
    "         $10.232$<br>\n",
    "         $2.434$<br>\n",
    "         $5.232$<br>\n",
    "Make sure to have equally many lines in the output as there are in the input – otherwise your submission will be rejected automatically.\n",
    "    - You have to submit at https://cmt3.research.microsoft.com/NLUETHZ2018"
   ]
  },
  {
   "cell_type": "markdown",
   "metadata": {},
   "source": [
    "### Conditional Generation (10 Points)\n",
    "Let’s use your trained language model from above to generate sentences. Given an initial sequence of words, your are asked to __greedily__ generate words until either your model decides to finish the sentence (it generated `<eos>`) or a given maximum length has been reached. Note, that this task does not involve any training. Please see the tensorflow documentation on how to save and restore your model from above.\n",
    "There are several ways how to implement the generation. For example, you can define a graph that computes just one step of the RNN given the last input and the last state (both from a new placeholder).\n",
    "$$ \\text{state}_t, p_t = f(\\text{state}_{t−1},w_{t−1}) $$\n",
    "That means, for a prefix of size $m$ and a desired length of $n$, you run this graph $n$ times. The first $m + 1$ times you take the input form the prefix. For the rest of the sequence, you take the most likely2 word $w^{t−1} = \\text{argmax}_w p_{t−1}(w)$ from the last step.\n",
    "\n",
    "- Grading scheme: 100% correctness.\n",
    "- Deadline April 20th, 23:59:59.\n",
    "- You are not allowed to copy-paste any larger code blocks from existing implementations.\n",
    "- Hand in\n",
    "    - Your python code\n",
    "    - Your continued sentences of length up to 20. Use your trained model from experiment __C__ in task 1.1.\n",
    "    __Input format sentences.continuation__ One sentence (of length less than 20) per line:<br>\n",
    "         ```beside her ,\n",
    "         i\n",
    "         people might not know```<br>\n",
    "    The `<bos>` symbol is not explicitly in the file, but you should still use it as the first input.<br>\n",
    "    __Required output format groupXX.continuation__ (where XX is your __group number__)<br>\n",
    "         ```beside her , something happened ! <eos>\n",
    "         i do n’t recall making a noise , but i must have , because bob just looked up from his\n",
    "         people might not know the answer . <eos>```\n",
    "    - You have to submit at https://cmt3.research.microsoft.com/NLUETHZ2018\n"
   ]
  },
  {
   "cell_type": "markdown",
   "metadata": {
    "ExecuteTime": {
     "end_time": "2018-03-18T06:26:00.314606Z",
     "start_time": "2018-03-18T06:26:00.303743Z"
    }
   },
   "source": [
    "__Infrastructure__\n",
    "\n",
    "You must use Tensorflow, but any programming language is allowed. However, we strongly recommend `python3`. You have access to two compute resources: Unlimited CPU usage on Euler and GPU usage on Leonhard. Note that the difference in speed is typically a factor between 10 and 100."
   ]
  },
  {
   "cell_type": "markdown",
   "metadata": {},
   "source": [
    "## Code for Task 1\n",
    "### Task 1.1"
   ]
  },
  {
   "cell_type": "markdown",
   "metadata": {
    "ExecuteTime": {
     "end_time": "2018-03-18T08:22:42.147335Z",
     "start_time": "2018-03-18T08:22:42.144046Z"
    }
   },
   "source": [
    "#### Setup and preparation"
   ]
  },
  {
   "cell_type": "markdown",
   "metadata": {
    "ExecuteTime": {
     "end_time": "2018-03-18T07:22:12.364855Z",
     "start_time": "2018-03-18T07:22:12.360292Z"
    }
   },
   "source": [
    "Make sure you have done the following:\n",
    "\n",
    "- Download data from https://polybox.ethz.ch/index.php/s/qUc2NvUh2eONfEB and unpack into `./data/` subdirectory\n",
    "- Download embeddings from https://polybox.ethz.ch/index.php/s/cpicEJeC2G4tq9U and unpack into `./data/` subdirectory\n",
    "- Download helper function from http://da.inf.ethz.ch/teaching/2018/NLU/material/load_embeddings.py and put into `./helpers/` subdirectory"
   ]
  },
  {
   "cell_type": "code",
   "execution_count": 2,
   "metadata": {
    "ExecuteTime": {
     "end_time": "2018-04-07T15:06:05.180921Z",
     "start_time": "2018-04-07T15:05:59.617579Z"
    }
   },
   "outputs": [],
   "source": [
    "import tensorflow as tf\n",
    "import numpy as np\n",
    "\n",
    "import time\n",
    "\n",
    "from collections import Counter\n",
    "from helpers.load_embeddings import load_embedding\n",
    "from tqdm import tqdm\n",
    "\n",
    "%matplotlib inline"
   ]
  },
  {
   "cell_type": "code",
   "execution_count": 3,
   "metadata": {
    "ExecuteTime": {
     "end_time": "2018-04-07T15:06:05.552408Z",
     "start_time": "2018-04-07T15:06:05.243084Z"
    }
   },
   "outputs": [],
   "source": [
    "# Read all data from files\n",
    "\n",
    "with open('./data/sentences.train', 'r') as f:\n",
    "    train_data = f.read()\n",
    "    \n",
    "with open('./data/sentences.eval', 'r') as f:\n",
    "    eval_data = f.read()\n",
    "    \n",
    "with open('./data/sentences.continuation', 'r') as f:\n",
    "    continuation_data = f.read()    "
   ]
  },
  {
   "cell_type": "code",
   "execution_count": 4,
   "metadata": {
    "ExecuteTime": {
     "end_time": "2018-04-07T15:06:05.612907Z",
     "start_time": "2018-04-07T15:06:05.601299Z"
    }
   },
   "outputs": [
    {
     "name": "stdout",
     "output_type": "stream",
     "text": [
      "Training data sample:\n",
      " ====================\n",
      "`` i 've never had any ice-cream for myself , my father never let me have any . ''\n",
      "`` and even if sh \n",
      " ................................................................................\n",
      "\n",
      " Evaluation data sample:\n",
      " ====================\n",
      "he took my face in his hands and held my face where he wanted it as he kissed me senseless .\n",
      "`` on t \n",
      " ................................................................................\n",
      "\n",
      " Continuation data sample:\n",
      " ====================\n",
      "`` no ,\n",
      "correct ...\n",
      "`` i\n",
      "peter\n",
      "what was i\n",
      "when he\n",
      "take some of\n",
      "id told\n",
      "throw\n",
      "we have no place\n",
      "i felt \n",
      " ................................................................................\n"
     ]
    }
   ],
   "source": [
    "# Have a peek at the given raw data\n",
    "\n",
    "print('Training data sample:\\n', 20*'=')\n",
    "print(train_data[:100], '\\n', 80*'.')\n",
    "\n",
    "print('\\n Evaluation data sample:\\n', 20*'=')\n",
    "print(eval_data[:100], '\\n', 80*'.')\n",
    "\n",
    "print('\\n Continuation data sample:\\n', 20*'=')\n",
    "print(continuation_data[:100], '\\n', 80*'.')"
   ]
  },
  {
   "cell_type": "markdown",
   "metadata": {},
   "source": [
    "#### Data preprocessing"
   ]
  },
  {
   "cell_type": "code",
   "execution_count": 5,
   "metadata": {
    "ExecuteTime": {
     "end_time": "2018-04-07T15:06:16.800598Z",
     "start_time": "2018-04-07T15:06:06.879952Z"
    }
   },
   "outputs": [
    {
     "name": "stdout",
     "output_type": "stream",
     "text": [
      "Sample training sentences:\n",
      " [\"`` i 've never had any ice-cream for myself , my father never let me have any . ''\", \"`` and even if she was , the gargoyle could hardly halt me from harming her . ''\", 'pigafetta repeated the threat , which had no apparent effect .', \"best to barricade oneself , no ? ''\", \"`` why would he lie ? ''\"] \n",
      "\n",
      "Sample words:\n",
      " ['``', 'i', \"'ve\", 'never', 'had', 'any', 'ice-cream', 'for', 'myself', ',', 'my', 'father', 'never', 'let', 'me', 'have', 'any', '.', \"''\", '``'] \n",
      "\n",
      "Top frequency words:\n",
      " ['.', ',', 'the', 'i', 'to', 'and', '``', \"''\", 'a', 'he', 'of', 'you', 'was', 'her', 'it', 'she', 'in', 'his', 'that', '?'] \n",
      "\n"
     ]
    }
   ],
   "source": [
    "# Splitting data into sentences\n",
    "def split_data2sentences(data):\n",
    "    text = ''.join(data)\n",
    "    sentences = text.split('\\n')\n",
    "    return sentences\n",
    "\n",
    "train_sentences = split_data2sentences(train_data)\n",
    "eval_sentences = split_data2sentences(eval_data)\n",
    "continuation_sentences = split_data2sentences(continuation_data)\n",
    "\n",
    "## We generate the dictionary from the training data, so this treatment is different\n",
    "\n",
    "# Get sentences from training data and look at sample\n",
    "print('Sample training sentences:\\n', train_sentences[:5], '\\n')\n",
    "\n",
    "# Make text contiguous again, break into words for vocabulary and look at sample\n",
    "words = ' '.join(train_sentences).split()\n",
    "print('Sample words:\\n', words[:20], '\\n')\n",
    "\n",
    "# Make a word counter and show top frequency words\n",
    "counts = Counter(words)\n",
    "vocab = sorted(counts, key=counts.get, reverse=True)\n",
    "print('Top frequency words:\\n', vocab[:20], '\\n')\n",
    "\n",
    "# Clip word counter to defined length [20k] and append special symbol words\n",
    "symbols = ['<bos>', '<eos>', '<pad>', '<unk>']\n",
    "vocab_length = 20000 # restrict to 20k most frequent tokens\n",
    "vocab = vocab[:vocab_length-len(symbols)] # kick out the last 4 to replace w/ symbols\n",
    "for each in symbols:\n",
    "    vocab.append(each)\n",
    "    \n",
    "# Make a vocabulary to convert words to integers\n",
    "vocab_to_int = {word: i for i, word in enumerate(vocab, 0)} # consider starting with 1 if 0 gives dead cells\n",
    "\n",
    "# Make a vocabulary to get words from integers at the end\n",
    "int_to_vocab = dict(enumerate(vocab))\n"
   ]
  },
  {
   "cell_type": "code",
   "execution_count": 6,
   "metadata": {
    "ExecuteTime": {
     "end_time": "2018-04-07T15:07:14.663656Z",
     "start_time": "2018-04-07T15:06:33.230283Z"
    },
    "scrolled": true
   },
   "outputs": [
    {
     "name": "stderr",
     "output_type": "stream",
     "text": [
      "100%|████████████████████████████████████████████████████████████████████████████████████████████████████████████████████████| 2000001/2000001 [00:16<00:00, 121727.89it/s]\n",
      "100%|████████████████████████████████████████████████████████████████████████████████████████████████████████████████████████████| 10001/10001 [00:00<00:00, 165120.59it/s]\n",
      "100%|████████████████████████████████████████████████████████████████████████████████████████████████████████████████████████████| 10001/10001 [00:00<00:00, 181708.54it/s]\n"
     ]
    }
   ],
   "source": [
    "# Encode sentences to integers and insert symbol words where necessary\n",
    "\n",
    "### ATTN: Remove next line after finishing, keeping data set small for speedup\n",
    "# train_sentences = train_sentences[:2000]\n",
    "\n",
    "def encode_sentences(sentences):\n",
    "    max_sentence_length = 30 # Given by task description\n",
    "    sentences_ints = [] # List to hold converted-to-int sentences\n",
    "    for each in tqdm(sentences):\n",
    "        sentence = each.split()\n",
    "        if len(sentence) < max_sentence_length-2: # -2 to allow for <bos>, <eos> \\\n",
    "                                                  # only use sentences w/ lenght <=30 as mandated\n",
    "            sentence_int = [vocab_to_int['<bos>']] # Start sentence list w/ <bos>\n",
    "            sentence_int += [vocab_to_int[word] if word in vocab_to_int\\\n",
    "                                 else vocab_to_int['<unk>'] for word in sentence] # Append remaining words\n",
    "            sentence_int.append(vocab_to_int['<eos>']) # End sentence w/ <eos>\n",
    "            while len(sentence_int) < max_sentence_length: # Pad length if necessary\n",
    "                sentence_int.append(vocab_to_int['<pad>'])\n",
    "            sentences_ints.append(sentence_int) \n",
    "    encoded = np.array(sentences_ints) # Convert list of sentences to np array\n",
    "    return encoded\n",
    "\n",
    "train_encoded = encode_sentences(train_sentences)\n",
    "eval_encoded = encode_sentences(eval_sentences)\n",
    "continuation_encoded = encode_sentences(continuation_sentences)\n",
    "\n",
    "# Set data preparation complete flag\n",
    "data_ready = True"
   ]
  },
  {
   "cell_type": "markdown",
   "metadata": {},
   "source": [
    "#### RNN "
   ]
  },
  {
   "cell_type": "code",
   "execution_count": 7,
   "metadata": {
    "ExecuteTime": {
     "end_time": "2018-04-07T15:07:29.457057Z",
     "start_time": "2018-04-07T15:07:29.451526Z"
    }
   },
   "outputs": [],
   "source": [
    "def variable_summaries(var):\n",
    "    '''Attach a lot of summaries to a Tensor (for TensorBoard visualization).\n",
    "    \n",
    "        From TensorBoard documentation\n",
    "    '''\n",
    "    with tf.name_scope('summaries'):\n",
    "        mean = tf.reduce_mean(var)\n",
    "        tf.summary.scalar('mean', mean)\n",
    "    with tf.name_scope('stddev'):\n",
    "        stddev = tf.sqrt(tf.reduce_mean(tf.square(var - mean)))\n",
    "    tf.summary.scalar('stddev', stddev)\n",
    "    tf.summary.scalar('max', tf.reduce_max(var))\n",
    "    tf.summary.scalar('min', tf.reduce_min(var))\n",
    "    tf.summary.histogram('histogram', var)"
   ]
  },
  {
   "cell_type": "code",
   "execution_count": 14,
   "metadata": {
    "ExecuteTime": {
     "end_time": "2018-04-07T19:47:20.187555Z",
     "start_time": "2018-04-07T19:47:00.584Z"
    }
   },
   "outputs": [],
   "source": [
    "class RNNLanguageModel:\n",
    "    '''Main element: Class representing the complete RNN language model\n",
    "    \n",
    "        TBC\n",
    "    '''\n",
    "    \n",
    "    def __init__(self,\n",
    "                 out_size,\n",
    "                 batch_size,\n",
    "                 n_steps,\n",
    "                 rnn_size,\n",
    "                 rnn_size_factor,\n",
    "                 rnn_layers,\n",
    "                 learning_rate,\n",
    "                 grad_clip,\n",
    "                 embedding_size,\n",
    "                 sampling=False):\n",
    "        \n",
    "        # Adapt batch_size, n_steps for sampling\n",
    "        if (sampling == True):\n",
    "             batch_size, n_steps = 1, 1\n",
    "        \n",
    "        # Reset tensorflow graph for clean slate\n",
    "        tf.reset_default_graph()\n",
    "        \n",
    "        # Build input layer, keep_prob (all placeholders):\n",
    "        with tf.name_scope('input_layer'):\n",
    "            self.inputs = tf.placeholder(tf.int32, [batch_size, n_steps], name='inputs')\n",
    "            self.targets = tf.placeholder(tf.int64, [batch_size, n_steps], name='targets')\n",
    "            self.keep_prob = tf.placeholder(tf.float32, name='keep_prob')\n",
    "        \n",
    "        # Build embedding layer\n",
    "        with tf.name_scope('embedding_layer'):\n",
    "            embedding_matrix = tf.get_variable(name='embedding_matrix',\n",
    "                                               shape=[vocab_length, embedding_size],\n",
    "                                               initializer=unif)\n",
    "            self.embeddings = tf.nn.embedding_lookup(embedding_matrix, self.inputs,\n",
    "                                                     name='embeddings')\n",
    "            \n",
    "            tf.summary.histogram('embeddings', self.embeddings)\n",
    "            tf.summary.scalar('dropout', keep_prob)\n",
    "            \n",
    "            # Embedding layer dropout during training\n",
    "            if (keep_prob < 1):\n",
    "                self.embeddings = tf.nn.dropout(self.embeddings, keep_prob, name='embeddings_dropout')\n",
    "        \n",
    "        # Build RNN layer\n",
    "        with tf.name_scope('hidden_layer'):\n",
    "            \n",
    "            # LSTM cell with dropout wrapper\n",
    "            cell = tf.nn.rnn_cell.BasicLSTMCell(rnn_size*rnn_size_factor)\n",
    "            cell = tf.nn.rnn_cell.DropoutWrapper(cell=cell, output_keep_prob=keep_prob)\n",
    "            \n",
    "            # Initialize cell to zero state\n",
    "            self.initial_state = cell.zero_state(batch_size, tf.float32)\n",
    "    \n",
    "            # LSTM time steps\n",
    "            # Back to dynamic_rnn for the moment to make sure the rest works\n",
    "            self.rnn_output, self.final_state = tf.nn.dynamic_rnn(cell, self.embeddings, initial_state=self.initial_state)\n",
    "\n",
    "#             outputs = []\n",
    "#             for i in range(n_steps-1):\n",
    "#                 output, state = cell.(self.embeddings[:, i, :], state)\n",
    "#                 outputs.append(output)\n",
    "#             self.rnn_output, self.final_state = cell(tf.cast(self.targets, tf.float32), state)\n",
    "            \n",
    "            # to keep only last output would be:\n",
    "            # self.rnn_output = self.rnn_output[:, -1, :]\n",
    "        \n",
    "            # Reshape hidden layer output: one row per input and step, i.e. ((batch_size*n_steps), rnn_size)            \n",
    "            self.rnn_output = tf.reshape(self.rnn_output, [-1, rnn_size*rnn_size_factor])\n",
    "            \n",
    "            # If hidden layer increased by factor [1.1C], project down\n",
    "            if (rnn_size_factor > 1):\n",
    "                W_p = tf.get_variable(name='downprojection_weight', shape=[rnn_size*rnn_size_factor,\n",
    "                                                                          rnn_size],\n",
    "                                      initializer=xavi)\n",
    "                b_p = tf.get_variable(name='downprojection_bias', shape=[rnn_size,],\n",
    "                                      initializer=zeros)\n",
    "                \n",
    "                self.rnn_output = tf.nn.xw_plus_b(self.rnn_output, W_p, b_p)\n",
    "                \n",
    "                variable_summaries(W_p)\n",
    "                variable_summaries(b_p)\n",
    "                \n",
    "        # Softmax output layer\n",
    "        with tf.name_scope('softmax_layer'):\n",
    "            # Hook up RNN outputs to softmax layer:\n",
    "            W_softmax = tf.get_variable(name=\"softmax_weight\", shape=[rnn_size, out_size],\n",
    "                                        initializer=xavi)\n",
    "            b_softmax = tf.get_variable(name=\"softmax_bias\", shape=[out_size],\n",
    "                                        initializer=zeros)\n",
    "            \n",
    "            variable_summaries(W_softmax)\n",
    "            variable_summaries(b_softmax)\n",
    "            \n",
    "            # Calculate logits from softmax layer\n",
    "            self.logits = tf.nn.xw_plus_b(self.rnn_output, W_softmax, b_softmax, name='logits')\n",
    "            \n",
    "            tf.summary.histogram('logits', self.logits)\n",
    "            \n",
    "            # Finally, get word probabilities from logits\n",
    "            self.predictions = tf.nn.softmax(self.logits, name='predictions')\n",
    "            \n",
    "            tf.summary.histogram('predictions', self.predictions)\n",
    "        \n",
    "        # Loss and accuracy\n",
    "        with tf.name_scope('loss_accuracy'):\n",
    "            # One-hot encode targets:\n",
    "            y_one_hot = tf.one_hot(self.targets, out_size)\n",
    "            \n",
    "            # Reshape encoded targets to fit logits\n",
    "            y = tf.reshape(y_one_hot, self.logits.get_shape())\n",
    "\n",
    "            # Softmax cross entropy loss\n",
    "            self.loss = tf.reduce_mean(tf.nn.softmax_cross_entropy_with_logits(logits=self.logits,\n",
    "                                                                               labels=y))\n",
    "            \n",
    "            tf.summary.scalar('loss', self.loss)\n",
    "\n",
    "            # Best prediction\n",
    "            self.best_prediction = tf.argmax(self.predictions, 1, name='best_prediction')\n",
    "            \n",
    "            # Accuracy\n",
    "            correct_prediction = tf.equal(self.best_prediction, tf.argmax(y, 1))\n",
    "            self.accuracy = tf.reduce_mean(tf.cast(correct_prediction, tf.float32))\n",
    "            \n",
    "            tf.summary.scalar('accuracy', self.accuracy)\n",
    "\n",
    "        # Optimizer\n",
    "        with tf.name_scope('optimizer'):\n",
    "            tvars = tf.trainable_variables()\n",
    "            grads, _ = tf.clip_by_global_norm(tf.gradients(self.loss, tvars), grad_clip)\n",
    "            train_op = tf.train.AdamOptimizer(learning_rate)\n",
    "            self.optimizer = train_op.apply_gradients(zip(grads, tvars))      \n",
    "\n",
    "        # Merge summaries for TensorBoard    \n",
    "        self.merged = tf.summary.merge_all()"
   ]
  },
  {
   "cell_type": "code",
   "execution_count": 9,
   "metadata": {
    "ExecuteTime": {
     "end_time": "2018-04-07T19:45:59.148758Z",
     "start_time": "2018-04-07T19:45:59.132641Z"
    },
    "code_folding": [
     0
    ]
   },
   "outputs": [],
   "source": [
    "class RNNConfig(object):\n",
    "    '''Class holding all configuration vars for training the RNN\n",
    "    \n",
    "    '''\n",
    "    \n",
    "    def __init__(self,\n",
    "                 train_data__path='./data/sentences.train',\n",
    "                 eval_data__path='./data/sentences.eval',\n",
    "                 validation_split=.1,\n",
    "                 vocab_length=20000,\n",
    "                 embedding_size=100,\n",
    "                 rnn_size=512,\n",
    "                 rnn_size_factor=1,\n",
    "                 rnn_layers=1,\n",
    "                 n_steps=10,\n",
    "                 learning_rate=0.001,\n",
    "                 keep_prob=0.5,\n",
    "                 grad_clip=5.0,\n",
    "                 batch_size=64,\n",
    "                 num_epochs=10,\n",
    "                 save_every_n=500,\n",
    "                 validate_every_n=500,\n",
    "                 report_every_n=100,\n",
    "                 summary_every_n=10,\n",
    "                 max_to_keep=5,\n",
    "                 past_words=5):\n",
    "        \n",
    "        # Path to the training data \n",
    "        self.train_data__path = train_data__path\n",
    "        \n",
    "        # Path to the evaluation data \n",
    "        self.eval_data__path = eval_data__path\n",
    "        \n",
    "        # Percentage of the training data used for validation (default: 10%)\n",
    "        self.validation_split = validation_split\n",
    "        \n",
    "        # Size of the vocabulary (default: 20k)\n",
    "        self.vocab_length = vocab_length\n",
    "        \n",
    "        # Dimensionality of word embedding layer (default: 100)\n",
    "        self.embedding_size = embedding_size\n",
    "        \n",
    "        # Dimensionality of RNN (i.e. hidden) layer (default: 512)\n",
    "        self.rnn_size = rnn_size\n",
    "        \n",
    "        # Integer to factor the size of the hidden layer [Task 1.1C] (default: 1)\n",
    "        self.rnn_size_factor = rnn_size_factor\n",
    "        \n",
    "        # Number of RNN layers (default: 1)\n",
    "        self.rnn_layers = rnn_layers\n",
    "        \n",
    "        # Number of time steps for RNN (default: 30)\n",
    "        self.n_steps = n_steps\n",
    "        \n",
    "        # Size of softmax output (default: vocab_length)\n",
    "        self.out_size = self.vocab_length\n",
    "        \n",
    "        # Learning rate (default: 0.001)\n",
    "        self.learning_rate = learning_rate\n",
    "        \n",
    "        # Dropout rate (default: 0.5)\n",
    "        self.keep_prob = keep_prob\n",
    "        \n",
    "        # Gradient clipping treshold (default: 5.0)\n",
    "        self.grad_clip = grad_clip\n",
    "        \n",
    "        # Batch Size (default: 64)\n",
    "        self.batch_size = batch_size\n",
    "        \n",
    "        # Number of training epochs (default: 10)\n",
    "        self.num_epochs = num_epochs\n",
    "        \n",
    "        # Save model after this many steps (default: 500)\n",
    "        self.save_every_n = save_every_n\n",
    "        \n",
    "        # Validate after this many steps (default: 500)\n",
    "        self.validate_every_n = validate_every_n\n",
    "        \n",
    "        # Print report after this many steps (default: 100)\n",
    "        self.report_every_n = report_every_n\n",
    "        \n",
    "        # Record summary after this many steps (default: 10)\n",
    "        self.summary_every_n = summary_every_n\n",
    "        \n",
    "        # Number of checkpoints to save (default: 5)\n",
    "        self.max_to_keep = max_to_keep\n",
    "        \n",
    "        # How many previous words are used for prediction (default: 5)\n",
    "        self.past_words = past_words"
   ]
  },
  {
   "cell_type": "code",
   "execution_count": 10,
   "metadata": {
    "ExecuteTime": {
     "end_time": "2018-04-07T19:23:34.686040Z",
     "start_time": "2018-04-07T19:23:34.673850Z"
    }
   },
   "outputs": [],
   "source": [
    "# Build batch generator for training    \n",
    "def get_batches(source_arr, batch_size, n_steps):\n",
    "    '''Generator which returns features x and targets y\n",
    "    \n",
    "    Inputs\n",
    "    ------\n",
    "    source_arr: A np.ndarray of sentences in rows to generate features and targets from\n",
    "    batch_size: An int number of sequences required per batch\n",
    "    n_steps: Number of time steps for RNN to consider; defines sequence length\n",
    "    \n",
    "    Outputs\n",
    "    -------\n",
    "    x: A np.ndarray of feature sequences according to parameters above\n",
    "    y: A np.ndarray of target sequences according to paramteres above.\n",
    "    '''\n",
    "    \n",
    "    source_rows = source_arr.shape[0]\n",
    "    source_cols = source_arr.shape[1]\n",
    "    \n",
    "    # Make sure time steps doesn't exceed available information in sentence\n",
    "    assert (n_steps <  source_cols), \"Can't look further back than sentence length\"\n",
    "    \n",
    "    # How many sequences we can get from an input sentence (row)\n",
    "    n_seq_per_row = source_cols - n_steps \n",
    "        \n",
    "    # How many 'batch blocks' we can get\n",
    "    n_blocks = source_rows // batch_size\n",
    "   \n",
    "    # Shuffle rows of sequences to improve training\n",
    "    np.random.shuffle(source_arr)\n",
    "    \n",
    "    # Crop array to only produce full batches\n",
    "    source_arr = source_arr[:n_blocks*batch_size, :]\n",
    "\n",
    "    # Reshape source_arr for easier batch generation\n",
    "    source_arr = source_arr.reshape((batch_size, -1))\n",
    "    \n",
    "    # Generate batches\n",
    "    for j in range(0, source_arr.shape[1], source_cols):\n",
    "        for jj in range(n_seq_per_row):\n",
    "            # Feature sequence:\n",
    "            x = source_arr[:, j+jj  :j+jj+n_steps  ]\n",
    "            # Target:\n",
    "            y = source_arr[:, j+jj+1:j+jj+n_steps+1]\n",
    "            yield x, y"
   ]
  },
  {
   "cell_type": "code",
   "execution_count": null,
   "metadata": {
    "ExecuteTime": {
     "end_time": "2018-04-07T19:29:55.989727Z",
     "start_time": "2018-04-07T19:29:52.424552Z"
    }
   },
   "outputs": [],
   "source": [
    "# Development only: playing around with batches\n",
    "\n",
    "shuffled_rows_ind = np.random.permutation(len(train_encoded))\n",
    "validation_split_ind = int(0.1 * len(train_encoded))\n",
    "source_train = train_encoded[shuffled_rows_ind[validation_split_ind:]]\n",
    "batches = get_batches(source_train, 3, 8)\n",
    "\n",
    "x, y = next(batches)\n",
    "print('x\\n',x.shape,'\\n', x)\n",
    "print('y\\n',y.shape,'\\n', y)\n",
    "for i in range(x.shape[0]):\n",
    "        print([int_to_vocab[x[i,j]] for j in range(x[i].shape[0])], ' -> ', [int_to_vocab[y[i,j]] for j in range(y[i].shape[0])])"
   ]
  },
  {
   "cell_type": "markdown",
   "metadata": {},
   "source": [
    "#### Training"
   ]
  },
  {
   "cell_type": "code",
   "execution_count": null,
   "metadata": {
    "ExecuteTime": {
     "end_time": "2018-04-07T19:47:20.169115Z",
     "start_time": "2018-04-07T19:46:16.478198Z"
    }
   },
   "outputs": [],
   "source": [
    "# Define shorthands for common initializers\n",
    "ones = tf.ones_initializer\n",
    "unif = tf.random_uniform_initializer(-1, 1)\n",
    "xavi = tf.contrib.layers.xavier_initializer()\n",
    "zeros = tf.zeros_initializer()\n",
    "\n",
    "# Set configuration for training\n",
    "CONFIG = RNNConfig(num_epochs=1 , report_every_n=50, validate_every_n=100, rnn_size_factor=1, n_steps=15)\n",
    "\n",
    "# Check data preparation complete\n",
    "assert data_ready == True, 'Need to run data preparation first'\n",
    "\n",
    "# Split training/validation data\n",
    "np.random.seed(42)\n",
    "shuffled_rows_ind = np.random.permutation(len(train_encoded))\n",
    "validation_split_ind = int(CONFIG.validation_split * len(train_encoded))\n",
    "source_train = train_encoded[shuffled_rows_ind[validation_split_ind:]]\n",
    "source_validation = train_encoded[shuffled_rows_ind[:validation_split_ind]]\n",
    "\n",
    "# Set training loop variables\n",
    "num_epochs = CONFIG.num_epochs\n",
    "save_every_n = CONFIG.save_every_n\n",
    "validate_every_n = CONFIG.validate_every_n\n",
    "report_every_n = CONFIG.report_every_n\n",
    "summary_every_n = CONFIG.summary_every_n\n",
    "keep_prob = CONFIG.keep_prob\n",
    "\n",
    "# Create model instance\n",
    "model = RNNLanguageModel(out_size=CONFIG.out_size,\n",
    "                         batch_size=CONFIG.batch_size,\n",
    "                         n_steps=CONFIG.n_steps,\n",
    "                         rnn_size=CONFIG.rnn_size,\n",
    "                         rnn_size_factor=CONFIG.rnn_size_factor,\n",
    "                         rnn_layers=CONFIG.rnn_layers,\n",
    "                         learning_rate=CONFIG.learning_rate,\n",
    "                         grad_clip=CONFIG.grad_clip,\n",
    "                         embedding_size=CONFIG.embedding_size)\n",
    "\n",
    "# Setup TensorBoard logging\n",
    "now = time.strftime('%y-%m-%d-%H-%M-%S')\n",
    "log_dir = './runs'\n",
    "log_subdir = '{}/run-{}/'.format(log_dir, now)\n",
    "writer = tf.summary.FileWriter(log_subdir, tf.get_default_graph())\n",
    "\n",
    "# Setup model saving\n",
    "save_dir = './checkpoints'\n",
    "saver = tf.train.Saver(max_to_keep=CONFIG.max_to_keep)\n",
    "\n",
    "# Run training\n",
    "with tf.Session() as sess:\n",
    "    sess.run(tf.global_variables_initializer())\n",
    "    \n",
    "    counter = 0\n",
    "    \n",
    "    for ep in range(num_epochs):\n",
    "        new_state = sess.run(model.initial_state)\n",
    "        loss = 0\n",
    "        \n",
    "        validation_batches = get_batches(source_validation, batch_size=CONFIG.batch_size,\n",
    "                                n_steps=CONFIG.n_steps)\n",
    "        \n",
    "        for x_train, y_train in get_batches(source_train, batch_size=CONFIG.batch_size,\n",
    "                                n_steps=CONFIG.n_steps):\n",
    "            counter += 1\n",
    "            start = time.time()\n",
    "            \n",
    "            feed_dict = {model.inputs: x_train,\n",
    "                         model.targets: y_train,\n",
    "                         model.keep_prob: keep_prob,\n",
    "                         model.initial_state: new_state}\n",
    "            \n",
    "            loss, accuracy, best_prediction, new_state, _ = \\\n",
    "            sess.run([model.loss, model.accuracy, model.best_prediction, model.final_state,\n",
    "                      model.optimizer], feed_dict=feed_dict)\n",
    "            \n",
    "            batch_time = time.time() - start\n",
    "            \n",
    "            if (counter % summary_every_n == 0):\n",
    "                writer.add_summary(sess.run(model.merged, feed_dict=feed_dict), counter)\n",
    "            \n",
    "            if (counter % report_every_n == 0):\n",
    "                print('Epoch: {}/{}\\t'.format(ep+1, num_epochs),\n",
    "                      'Training step: {}\\t'.format(counter),\n",
    "                      'Batch loss: {:.4f}\\t'.format(loss),\n",
    "                      'Batch accuracy: {:.1%}\\t'.format(accuracy),\n",
    "                      '{:4f} sec/batch'.format(batch_time))\n",
    "                print(' '.join([int_to_vocab[x_train[0,j]] for j in range(x_train[0].shape[0])]),\n",
    "                      ' -> ', int_to_vocab[best_prediction[0]] , ' vs. ', int_to_vocab[y_train[0, -1]])\n",
    "            \n",
    "            if (counter % save_every_n == 0):\n",
    "                saver.save(sess, '{}/run-{}_i{}_s{}.ckpt'.format(save_dir, now,\n",
    "                                                                 counter, CONFIG.rnn_size))\n",
    "            if (counter % validate_every_n == 0):\n",
    "                x_validation, y_validation = next(validation_batches)\n",
    "                feed_dict = {model.inputs: x_validation,\n",
    "                             model.targets: y_validation,\n",
    "                             model.keep_prob: 1.0,\n",
    "                             model.initial_state: new_state}\n",
    "                \n",
    "                loss, accuracy = sess.run([model.loss, model.accuracy], feed_dict=feed_dict)\n",
    "                print('Epoch: {}/{}\\t'.format(ep+1, num_epochs),\n",
    "                      '*** Validation ***\\t',\n",
    "                      'Loss: {:.4f}'.format(loss),\n",
    "                      'Accuracy: {:.1%}\\t'.format(accuracy))\n",
    "                \n",
    "    writer.close()\n",
    "    saver.save(sess, '{}/run-{}_i{}_s{}.ckpt'.format(save_dir, now, counter, CONFIG.rnn_size))"
   ]
  },
  {
   "cell_type": "code",
   "execution_count": 16,
   "metadata": {
    "ExecuteTime": {
     "end_time": "2018-04-07T18:42:03.300037Z",
     "start_time": "2018-04-07T18:42:03.273924Z"
    }
   },
   "outputs": [
    {
     "data": {
      "text/plain": [
       "[<tf.Variable 'embedding_matrix:0' shape=(20000, 100) dtype=float32_ref>,\n",
       " <tf.Variable 'rnn/basic_lstm_cell/kernel:0' shape=(612, 2048) dtype=float32_ref>,\n",
       " <tf.Variable 'rnn/basic_lstm_cell/bias:0' shape=(2048,) dtype=float32_ref>,\n",
       " <tf.Variable 'softmax_weight:0' shape=(512, 20000) dtype=float32_ref>,\n",
       " <tf.Variable 'softmax_bias:0' shape=(20000,) dtype=float32_ref>]"
      ]
     },
     "execution_count": 16,
     "metadata": {},
     "output_type": "execute_result"
    }
   ],
   "source": [
    "# Development only: Check trainable variables\n",
    "\n",
    "tf.trainable_variables()"
   ]
  },
  {
   "cell_type": "markdown",
   "metadata": {},
   "source": [
    "#### Sample and test"
   ]
  },
  {
   "cell_type": "code",
   "execution_count": 12,
   "metadata": {
    "ExecuteTime": {
     "end_time": "2018-04-07T19:05:37.991732Z",
     "start_time": "2018-04-07T19:05:37.982275Z"
    }
   },
   "outputs": [],
   "source": [
    "def generate_samples(checkpoint, n_samples, primer):\n",
    "    samples = [w for w in primer.split()]\n",
    "    primer_feed = [vocab_to_int['<bos>']]\n",
    "    [primer_feed.append(vocab_to_int[word]) for word in samples]\n",
    "    model = RNNLanguageModel(out_size=CONFIG.out_size,\n",
    "                             batch_size=CONFIG.batch_size,\n",
    "                             n_steps=CONFIG.n_steps,\n",
    "                             rnn_size=CONFIG.rnn_size,\n",
    "                             rnn_size_factor=CONFIG.rnn_size_factor,\n",
    "                             rnn_layers=CONFIG.rnn_layers,\n",
    "                             learning_rate=CONFIG.learning_rate,\n",
    "                             grad_clip=CONFIG.grad_clip,\n",
    "                             embedding_size=CONFIG.embedding_size,\n",
    "                             sampling=True)\n",
    "    \n",
    "    saver = tf.train.Saver()\n",
    "    with tf.Session() as sess:\n",
    "        saver.restore(sess, checkpoint)\n",
    "        new_state = sess.run(model.initial_state)\n",
    "        for i in primer_feed:\n",
    "            x = np.zeros((1,1))\n",
    "            x[0, 0] = i\n",
    "            feed_dict = {model.inputs: x,\n",
    "                         model.keep_prob: 1.0,\n",
    "                         model.initial_state: new_state}\n",
    "            best_prediction, new_state = \\\n",
    "            sess.run([model.best_prediction, model.final_state], feed_dict=feed_dict)\n",
    "            \n",
    "        samples.append(int_to_vocab[best_prediction[0]])\n",
    "        for j in range(n_samples):\n",
    "            x[0, 0] = best_prediction\n",
    "            feed_dict = {model.inputs: x,\n",
    "                         model.keep_prob: 1.0,\n",
    "                         model.initial_state: new_state}\n",
    "            best_prediction, new_state = \\\n",
    "            sess.run([model.best_prediction, model.final_state], feed_dict=feed_dict)\n",
    "            samples.append(int_to_vocab[best_prediction[0]])\n",
    "            if (samples[-1] == '<eos>'):\n",
    "                break\n",
    "    return ' '.join(samples)"
   ]
  },
  {
   "cell_type": "code",
   "execution_count": 13,
   "metadata": {
    "ExecuteTime": {
     "end_time": "2018-04-07T19:10:58.429492Z",
     "start_time": "2018-04-07T19:10:18.612369Z"
    }
   },
   "outputs": [
    {
     "name": "stdout",
     "output_type": "stream",
     "text": [
      "INFO:tensorflow:Restoring parameters from ./checkpoints\\run-18-04-07-21-52-52_i2500_s512.ckpt\n",
      "i felt that hot  ->  i felt that hot , but i was n't know the <unk> , but i was n't a few . <eos>\n",
      "INFO:tensorflow:Restoring parameters from ./checkpoints\\run-18-04-07-21-52-52_i2500_s512.ckpt\n",
      "`` what do  ->  `` what do n't know you ? '' <eos>\n",
      "INFO:tensorflow:Restoring parameters from ./checkpoints\\run-18-04-07-21-52-52_i2500_s512.ckpt\n",
      "`` i have a  ->  `` i have a few seats . <eos>\n",
      "INFO:tensorflow:Restoring parameters from ./checkpoints\\run-18-04-07-21-52-52_i2500_s512.ckpt\n",
      "thats where  ->  thats where i was n't been been a <unk> . <eos>\n",
      "INFO:tensorflow:Restoring parameters from ./checkpoints\\run-18-04-07-21-52-52_i2500_s512.ckpt\n",
      "``  ->  `` you was going to make the <unk> , but i was n't been to me . <eos>\n",
      "INFO:tensorflow:Restoring parameters from ./checkpoints\\run-18-04-07-21-52-52_i2500_s512.ckpt\n",
      "`` good luck  ->  `` good luck to you . <eos>\n",
      "INFO:tensorflow:Restoring parameters from ./checkpoints\\run-18-04-07-21-52-52_i2500_s512.ckpt\n",
      "maybe you want  ->  maybe you want to the <unk> , but i was n't be a <unk> , but i was n't n't be . <eos>\n",
      "INFO:tensorflow:Restoring parameters from ./checkpoints\\run-18-04-07-21-52-52_i2500_s512.ckpt\n",
      "the third ,  ->  the third , and i was n't a <unk> . <eos>\n",
      "INFO:tensorflow:Restoring parameters from ./checkpoints\\run-18-04-07-21-52-52_i2500_s512.ckpt\n",
      "her head  ->  her head was n't have a <unk> . <eos>\n",
      "INFO:tensorflow:Restoring parameters from ./checkpoints\\run-18-04-07-21-52-52_i2500_s512.ckpt\n",
      "her word was going  ->  her word was going to hide to stay with the <unk> . <eos>\n",
      "INFO:tensorflow:Restoring parameters from ./checkpoints\\run-18-04-07-21-52-52_i2500_s512.ckpt\n",
      "channing  ->  channing , '' he said , she said . <eos>\n",
      "INFO:tensorflow:Restoring parameters from ./checkpoints\\run-18-04-07-21-52-52_i2500_s512.ckpt\n",
      "i  ->  i lived to the <unk> , and i was n't been a few , but i was n't been a few .\n",
      "INFO:tensorflow:Restoring parameters from ./checkpoints\\run-18-04-07-21-52-52_i2500_s512.ckpt\n",
      "cassie , tell  ->  cassie , tell , she was a few of the <unk> , and i was n't have to see the <unk> , '' he\n",
      "INFO:tensorflow:Restoring parameters from ./checkpoints\\run-18-04-07-21-52-52_i2500_s512.ckpt\n",
      "i  ->  i 'm n't going to me to hide the <unk> , but i was n't been a few , i was n't\n",
      "INFO:tensorflow:Restoring parameters from ./checkpoints\\run-18-04-07-21-52-52_i2500_s512.ckpt\n",
      "eric  ->  eric was n't going to hide the <unk> , but i was n't been a little <unk> . <eos>\n",
      "INFO:tensorflow:Restoring parameters from ./checkpoints\\run-18-04-07-21-52-52_i2500_s512.ckpt\n",
      "this is a  ->  this is a <unk> of <unk> . <eos>\n",
      "INFO:tensorflow:Restoring parameters from ./checkpoints\\run-18-04-07-21-52-52_i2500_s512.ckpt\n",
      "as  ->  as he was a few <unk> , but he was a few <unk> , '' he said . <eos>\n",
      "INFO:tensorflow:Restoring parameters from ./checkpoints\\run-18-04-07-21-52-52_i2500_s512.ckpt\n",
      "`` yeah  ->  `` yeah , but i do n't know . <eos>\n",
      "INFO:tensorflow:Restoring parameters from ./checkpoints\\run-18-04-07-21-52-52_i2500_s512.ckpt\n",
      "`` you  ->  `` you 're n't know the <unk> , '' i said . <eos>\n",
      "INFO:tensorflow:Restoring parameters from ./checkpoints\\run-18-04-07-21-52-52_i2500_s512.ckpt\n",
      "she no longer wanted  ->  she no longer wanted to the <unk> . <eos>\n",
      "INFO:tensorflow:Restoring parameters from ./checkpoints\\run-18-04-07-21-52-52_i2500_s512.ckpt\n",
      "he sat  ->  he sat down the ground , she said , but she was a few inches , '' he said , she said ,\n",
      "INFO:tensorflow:Restoring parameters from ./checkpoints\\run-18-04-07-21-52-52_i2500_s512.ckpt\n",
      "she  ->  she was n't been a few <unk> . <eos>\n",
      "INFO:tensorflow:Restoring parameters from ./checkpoints\\run-18-04-07-21-52-52_i2500_s512.ckpt\n",
      "the second  ->  the second was n't be a few <unk> , '' he said . <eos>\n",
      "INFO:tensorflow:Restoring parameters from ./checkpoints\\run-18-04-07-21-52-52_i2500_s512.ckpt\n",
      "my balls  ->  my balls , she said , she was n't going to stay the <unk> , but he was a <unk> . <eos>\n",
      "INFO:tensorflow:Restoring parameters from ./checkpoints\\run-18-04-07-21-52-52_i2500_s512.ckpt\n",
      "``  ->  `` i was n't have to me , '' he said . <eos>\n",
      "INFO:tensorflow:Restoring parameters from ./checkpoints\\run-18-04-07-21-52-52_i2500_s512.ckpt\n",
      "over his shoulder  ->  over his shoulder and she said , but he was a few <unk> , but i was n't been a few guy , but\n",
      "INFO:tensorflow:Restoring parameters from ./checkpoints\\run-18-04-07-21-52-52_i2500_s512.ckpt\n",
      "ill have to give  ->  ill have to give the <unk> , but i was n't a few <unk> . <eos>\n",
      "INFO:tensorflow:Restoring parameters from ./checkpoints\\run-18-04-07-21-52-52_i2500_s512.ckpt\n",
      "her knees trembled  ->  her knees trembled , '' he said . <eos>\n",
      "INFO:tensorflow:Restoring parameters from ./checkpoints\\run-18-04-07-21-52-52_i2500_s512.ckpt\n",
      "you are  ->  you are n't been a few <unk> . <eos>\n",
      "INFO:tensorflow:Restoring parameters from ./checkpoints\\run-18-04-07-21-52-52_i2500_s512.ckpt\n",
      "`` roses  ->  `` roses , she was a few seats , she was n't a <unk> . <eos>\n",
      "INFO:tensorflow:Restoring parameters from ./checkpoints\\run-18-04-07-21-52-52_i2500_s512.ckpt\n",
      "the  ->  the <unk> , and i said the <unk> , and i was n't a <unk> . <eos>\n",
      "INFO:tensorflow:Restoring parameters from ./checkpoints\\run-18-04-07-21-52-52_i2500_s512.ckpt\n",
      "`` nope  ->  `` nope you 're , but i was n't know to me , but i was n't know to hide you . <eos>\n",
      "INFO:tensorflow:Restoring parameters from ./checkpoints\\run-18-04-07-21-52-52_i2500_s512.ckpt\n",
      "its not  ->  its not been a <unk> of the <unk> . <eos>\n",
      "INFO:tensorflow:Restoring parameters from ./checkpoints\\run-18-04-07-21-52-52_i2500_s512.ckpt\n",
      "ye shall  ->  ye shall , she was n't have a few . <eos>\n",
      "INFO:tensorflow:Restoring parameters from ./checkpoints\\run-18-04-07-21-52-52_i2500_s512.ckpt\n",
      "she raised the rifle  ->  she raised the rifle of the <unk> , and he 'd n't have a few <unk> , but she was a few <unk> . <eos>\n",
      "INFO:tensorflow:Restoring parameters from ./checkpoints\\run-18-04-07-21-52-52_i2500_s512.ckpt\n",
      "what would  ->  what would n't been a few of a few <unk> , but he was a few inches . <eos>\n",
      "INFO:tensorflow:Restoring parameters from ./checkpoints\\run-18-04-07-21-52-52_i2500_s512.ckpt\n",
      "`` are  ->  `` are n't been a few . <eos>\n"
     ]
    }
   ],
   "source": [
    "# Get latest checkpoint\n",
    "checkpoint = tf.train.latest_checkpoint(save_dir)\n",
    "# checkpoint = './checkpoints/run-18-04-07-18-21-43_i19000_s512.ckpt'\n",
    "\n",
    "# Sentence generation length limit\n",
    "max_generate_n = 20\n",
    "\n",
    "# Generate some text\n",
    "for i in range(10, 1000, 27):\n",
    "    output = generate_samples(checkpoint, max_generate_n, continuation_sentences[i])\n",
    "    print(continuation_sentences[i], ' -> ', output)"
   ]
  }
 ],
 "metadata": {
  "kernelspec": {
   "display_name": "Python 3",
   "language": "python",
   "name": "python3"
  },
  "language_info": {
   "codemirror_mode": {
    "name": "ipython",
    "version": 3
   },
   "file_extension": ".py",
   "mimetype": "text/x-python",
   "name": "python",
   "nbconvert_exporter": "python",
   "pygments_lexer": "ipython3",
   "version": "3.6.4"
  },
  "latex_envs": {
   "LaTeX_envs_menu_present": true,
   "autoclose": false,
   "autocomplete": true,
   "bibliofile": "biblio.bib",
   "cite_by": "apalike",
   "current_citInitial": 1,
   "eqLabelWithNumbers": true,
   "eqNumInitial": 1,
   "hotkeys": {
    "equation": "Ctrl-E",
    "itemize": "Ctrl-I"
   },
   "labels_anchors": false,
   "latex_user_defs": false,
   "report_style_numbering": false,
   "user_envs_cfg": false
  },
  "toc": {
   "nav_menu": {},
   "number_sections": true,
   "sideBar": true,
   "skip_h1_title": true,
   "title_cell": "Table of Contents",
   "title_sidebar": "Contents",
   "toc_cell": true,
   "toc_position": {
    "height": "calc(100% - 180px)",
    "left": "10px",
    "top": "150px",
    "width": "165px"
   },
   "toc_section_display": true,
   "toc_window_display": true
  },
  "varInspector": {
   "cols": {
    "lenName": 16,
    "lenType": 16,
    "lenVar": 40
   },
   "kernels_config": {
    "python": {
     "delete_cmd_postfix": "",
     "delete_cmd_prefix": "del ",
     "library": "var_list.py",
     "varRefreshCmd": "print(var_dic_list())"
    },
    "r": {
     "delete_cmd_postfix": ") ",
     "delete_cmd_prefix": "rm(",
     "library": "var_list.r",
     "varRefreshCmd": "cat(var_dic_list()) "
    }
   },
   "types_to_exclude": [
    "module",
    "function",
    "builtin_function_or_method",
    "instance",
    "_Feature"
   ],
   "window_display": false
  }
 },
 "nbformat": 4,
 "nbformat_minor": 2
}
