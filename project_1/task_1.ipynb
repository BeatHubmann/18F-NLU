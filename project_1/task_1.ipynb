{
 "cells": [
  {
   "cell_type": "markdown",
   "metadata": {
    "toc": true
   },
   "source": [
    "<h1>Table of Contents<span class=\"tocSkip\"></span></h1>\n",
    "<div class=\"toc\"><ul class=\"toc-item\"><li><span><a href=\"#Description-Task-1:-RNN-Language-Modelling-(30-+10-Points)\" data-toc-modified-id=\"Description-Task-1:-RNN-Language-Modelling-(30-+10-Points)-1\"><span class=\"toc-item-num\">1&nbsp;&nbsp;</span>Description Task 1: RNN Language Modelling (30 +10 Points)</a></span><ul class=\"toc-item\"><li><span><a href=\"#1a)-Language-Modelling-(30-Points)\" data-toc-modified-id=\"1a)-Language-Modelling-(30-Points)-1.1\"><span class=\"toc-item-num\">1.1&nbsp;&nbsp;</span>1a) Language Modelling (30 Points)</a></span></li><li><span><a href=\"#Conditional-Generation-(10-Points)\" data-toc-modified-id=\"Conditional-Generation-(10-Points)-1.2\"><span class=\"toc-item-num\">1.2&nbsp;&nbsp;</span>Conditional Generation (10 Points)</a></span></li></ul></li><li><span><a href=\"#Code-for-Task-1\" data-toc-modified-id=\"Code-for-Task-1-2\"><span class=\"toc-item-num\">2&nbsp;&nbsp;</span>Code for Task 1</a></span><ul class=\"toc-item\"><li><span><a href=\"#Setup-and-preparation\" data-toc-modified-id=\"Setup-and-preparation-2.1\"><span class=\"toc-item-num\">2.1&nbsp;&nbsp;</span>Setup and preparation</a></span><ul class=\"toc-item\"><li><span><a href=\"#Data-preprocessing\" data-toc-modified-id=\"Data-preprocessing-2.1.1\"><span class=\"toc-item-num\">2.1.1&nbsp;&nbsp;</span>Data preprocessing</a></span></li></ul></li><li><span><a href=\"#RNN\" data-toc-modified-id=\"RNN-2.2\"><span class=\"toc-item-num\">2.2&nbsp;&nbsp;</span>RNN</a></span></li><li><span><a href=\"#Training\" data-toc-modified-id=\"Training-2.3\"><span class=\"toc-item-num\">2.3&nbsp;&nbsp;</span>Training</a></span></li><li><span><a href=\"#Evaluation\" data-toc-modified-id=\"Evaluation-2.4\"><span class=\"toc-item-num\">2.4&nbsp;&nbsp;</span>Evaluation</a></span></li><li><span><a href=\"#Conditional-Generation/Sampling-(Task-1.2)\" data-toc-modified-id=\"Conditional-Generation/Sampling-(Task-1.2)-2.5\"><span class=\"toc-item-num\">2.5&nbsp;&nbsp;</span>Conditional Generation/Sampling (Task 1.2)</a></span></li><li><span><a href=\"#Pulling-everything-together\" data-toc-modified-id=\"Pulling-everything-together-2.6\"><span class=\"toc-item-num\">2.6&nbsp;&nbsp;</span>Pulling everything together</a></span></li></ul></li></ul></div>"
   ]
  },
  {
   "cell_type": "markdown",
   "metadata": {},
   "source": [
    "# Natural Language Understanding: Project 1\n",
    "\n",
    "[__Natural Language Understanding, Spring 2018, ETHZ__](http://www.da.inf.ethz.ch/teaching/2018/NLU/)\n",
    "\n",
    "[__Project 1__ (ETHZ network)](http://www.da.inf.ethz.ch/teaching/2018/NLU/material/project.pdf)"
   ]
  },
  {
   "cell_type": "markdown",
   "metadata": {},
   "source": [
    "# Project to-do list:\n",
    "\n",
    "Somewhat in order of importance:\n",
    "\n",
    "- ~~change code to unroll RNN in time instead of using dynamic_rnn~~\n",
    "- ~~make sure the target data fed into the crossentropy metric is really in correct form~~\n",
    "- ~~try own implementation of basic RNN cell instead of TF-prefab RNN or LSTM cell~~\n",
    "- ~~change implementation to use the Xavier initializer instead of the uniform distribution currently used (see below)~~\n",
    "- ~~change all `tf.Variable` variable inits to the better practice form like `W = tf.get_variable(name='example', shape=[784, 256], initializer=tf.contrib.layers.xavier_initializer())` which also includes the proper weight init~~\n",
    "- ~~include dropout at input and/or RNN cell level for regularization~~\n",
    "- ~~clean up namespaces, tensor naming~~\n",
    "- ~~(Started 2.4.2018, but TBC)** build in all reporting for Tensorboard~~\n",
    "- ~~adapt code to allow for differently sized timesteps~~\n",
    "- ~~make arrangements to save trained model~~\n",
    "- ~~implement perplexity function~~\n",
    "- ~~Maybe needs rewrite to use stock LSTM cell again** implement sampling function for conditional text generation~~\n",
    "- ~~implement result output function~~\n",
    "- ~~adapt code to allow for use of pretrained word2vec embedding~~\n",
    "- ~~cleanup code~~\n",
    "- run actual experiments"
   ]
  },
  {
   "cell_type": "markdown",
   "metadata": {},
   "source": [
    "## Description Task 1: RNN Language Modelling (30 +10 Points)"
   ]
  },
  {
   "cell_type": "markdown",
   "metadata": {},
   "source": [
    "### 1a) Language Modelling (30 Points)\n",
    "Your task is to build a simple LSTM language model. To be precise, we assume that words are independent given the recurrent hidden state; we compute a new hidden state given the last hidden state and last word, and predict the next word given the hidden state:\n",
    "$$ P(w_1,\\dots,w_n) = 􏰀\\prod_{t=1}^{n}P(w_t|\\mathbf{h}_t)$$\n",
    "$$ P(w_t|\\mathbf{h}_t) = \\text{softmax}(\\mathbf{Wh}_t)$$\n",
    "$$ \\mathbf{h}_t = f(\\mathbf{h}_{t−1}, w_{t-1}^{*})$$\n",
    "\n",
    "where $f$ is the LSTM recurrent function, $\\mathbf{W} \\in \\mathbb{R}^{|V|×d}$ are softmax weights and $\\mathbf{h_0}$ is either an all-zero constant or a trainable parameter.\n",
    "You can use the tensorflow cell implementation __[1](https://www.tensorflow.org/api_docs/python/tf/nn/rnn_cell)__ to carry out the recurrent computation in $f$. However, you must construct the actual RNN yourself (e.g. don’t use tensorflow’s `static_rnn` or `dynamic_rnn` or any other RNN library). That means, you will need to use a python loop that sets up the unrolled graph. To make your life simpler, please follow these design choices:\n",
    "\n",
    "__Model and Data specification__\n",
    "\n",
    "- Use a special sentence-beginning symbol `<bos>` and a sentence-end symbol `<eos>` (please use exactly these, including brackets). The `<bos>` symbol is the input, when predicting the first word and the `<eos>` symbol you require your model to predict at the end of every sentence.\n",
    "- Use a maximum sentence length of 30 (including the `<bos>` and `<eos>` symbol). Ignore longer sentences during training and testing.\n",
    "- Use a special padding symbol `<pad>` (please use exactly this, including brackets) to fill up sentences of length shorter than 30. This way, all your input will have the same size.\n",
    "- Use a vocabulary consisting of the 20K most frequent words in the training set, including the symbols `<bos>`, `<eos>`, `<pad>` and `<unk>`. Replace out-of-vocabulary words with the `<unk>` symbol before feeding them into your network (don’t change the file content).\n",
    "- Provide the ground truth last word as input to the RNN, not the last word you predicted. This is common practice.\n",
    "- Language models are usually trained to minimize the cross-entropy. Use tensorflow’s `tf.nn.sparse_softmax_cross_entropy_with_logits` to compute the loss (*This operation fuses the computation of the soft-max and the cross entropy loss given the logits. For numerical stability, it’s very important to use this function.*). Use the AdamOptimizer with default parameters to minimize the loss. Use `tf.clip_by_global_norm` to clip the norm of the gradients to 5.\n",
    "- Use a batch size of 64.\n",
    "- Use the data at __[6](https://polybox.ethz.ch/index.php/s/qUc2NvUh2eONfEB)__. Don’t pre-process the input further. All the data is already white-space tokenized and\n",
    "lower-cased. One sentence per line.\n",
    "- To initialize your weight matrices, use the `tf.contrib.layers.xavier_initializer()` initializer introduced in __[5](http://jmlr.org/proceedings/papers/v9/glorot10a/glorot10a.pdf)__.\n",
    "\n",
    "__Experiments__\n",
    "All experiments should not run for longer than, say, four hours on the GPU. For this task, your\n",
    "grade won’t improve with performance.\n",
    "\n",
    "- __Experiment A__: Train your model with word-embedding dimensionality of 100 and a hidden state size of 512 and compute sentence perplexity on the evaluation set (see submission format below).\n",
    "- __Experiment B__: It is common practice, to pretrain word embeddings using e.g. `word2vec`. This should make your model train faster as words will come already with some useful representation. Use the code at __[3](http://da.inf.ethz.ch/teaching/2018/NLU/material/load_embeddings.py)__ to load these word embeddings __[4](https://polybox.ethz.ch/index.php/s/cpicEJeC2G4tq9U)__ trained on the same corpus. Train your model again and compute evaluation perplexity.\n",
    "- __Experiment C__: It is often desirable to make the LSTM more powerful, by increasing the hidden dimensionality. However, this will naturally increase the parameters $\\mathbf{W}$ of the softmax. As a compromise, one can use a larger hidden state, but down-project it before the softmax. Increase the hidden state dimensionality from 512 to 1024, but down-project $h_t$ to dimensionality 512 before predicting $w_t$ as in\n",
    "$$ \\mathbf{\\tilde{h}}_t = \\mathbf{W}_P\\mathbf{h}_t$$\n",
    "where $W_P$ are parameters. Train your model again and compute evaluation perplexity.\n",
    "\n",
    "__Submission and grading__\n",
    "- Grading scheme: 100% correctness.\n",
    "- Deadline April 20th, 23:59:59.\n",
    "- You are not allowed to copy-paste any larger code blocks from existing implementations.\n",
    "- Hand in\n",
    "    - Your python code\n",
    "    - __Three__ result files containing sentence-level perplexity numbers on the __test__ set (to be distributed) for\n",
    "all three experiments. Recall that perplexity of a sentence $S = ⟨w_1, \\dots , w_n⟩$ with respect to your model $p(w_t|w_1, \\dots, w_{t−1})$ is defined as\n",
    "$$ \\text{Perp} = 2^{-\\frac{1}{n} \\sum_{t=1}^{n}\\log_2 p(w_t|w_1,\\dots,w_{t−1})}$$\n",
    "The `<eos>` symbol is part of the sequence, while the `<pad>` symbols (if any) are not. Be sure to have the basis of the exponential and the logarithm match.<br>\n",
    "__Input format sentences.test__<br>\n",
    "One sentence (none of them is longer than 28 tokens) per line:<br>\n",
    "         ```beside her , jamie bounced on his seat .\n",
    "         i looked and saw claire montgomery looking up at me .\n",
    "         people might not know who alex was , but they knew to listen to him .```<br>\n",
    "__Required output format groupXX.perplexityY__<br>\n",
    "(where XX is your group __number__ and Y ∈ {A,B,C} is the experiment). One perplexity number per line:<br>\n",
    "         $10.232$<br>\n",
    "         $2.434$<br>\n",
    "         $5.232$<br>\n",
    "Make sure to have equally many lines in the output as there are in the input – otherwise your submission will be rejected automatically.\n",
    "    - You have to submit at https://cmt3.research.microsoft.com/NLUETHZ2018"
   ]
  },
  {
   "cell_type": "markdown",
   "metadata": {},
   "source": [
    "### Conditional Generation (10 Points)\n",
    "Let’s use your trained language model from above to generate sentences. Given an initial sequence of words, your are asked to __greedily__ generate words until either your model decides to finish the sentence (it generated `<eos>`) or a given maximum length has been reached. Note, that this task does not involve any training. Please see the tensorflow documentation on how to save and restore your model from above.\n",
    "There are several ways how to implement the generation. For example, you can define a graph that computes just one step of the RNN given the last input and the last state (both from a new placeholder).\n",
    "$$ \\text{state}_t, p_t = f(\\text{state}_{t−1},w_{t−1}) $$\n",
    "That means, for a prefix of size $m$ and a desired length of $n$, you run this graph $n$ times. The first $m + 1$ times you take the input form the prefix. For the rest of the sequence, you take the most likely2 word $w^{t−1} = \\text{argmax}_w p_{t−1}(w)$ from the last step.\n",
    "\n",
    "- Grading scheme: 100% correctness.\n",
    "- Deadline April 20th, 23:59:59.\n",
    "- You are not allowed to copy-paste any larger code blocks from existing implementations.\n",
    "- Hand in\n",
    "    - Your python code\n",
    "    - Your continued sentences of length up to 20. Use your trained model from experiment __C__ in task 1.1.\n",
    "    __Input format sentences.continuation__ One sentence (of length less than 20) per line:<br>\n",
    "         ```beside her ,\n",
    "         i\n",
    "         people might not know```<br>\n",
    "    The `<bos>` symbol is not explicitly in the file, but you should still use it as the first input.<br>\n",
    "    __Required output format groupXX.continuation__ (where XX is your __group number__)<br>\n",
    "         ```beside her , something happened ! <eos>\n",
    "         i do n’t recall making a noise , but i must have , because bob just looked up from his\n",
    "         people might not know the answer . <eos>```\n",
    "    - You have to submit at https://cmt3.research.microsoft.com/NLUETHZ2018\n"
   ]
  },
  {
   "cell_type": "markdown",
   "metadata": {
    "ExecuteTime": {
     "end_time": "2018-03-18T06:26:00.314606Z",
     "start_time": "2018-03-18T06:26:00.303743Z"
    }
   },
   "source": [
    "__Infrastructure__\n",
    "\n",
    "You must use Tensorflow, but any programming language is allowed. However, we strongly recommend `python3`. You have access to two compute resources: Unlimited CPU usage on Euler and GPU usage on Leonhard. Note that the difference in speed is typically a factor between 10 and 100."
   ]
  },
  {
   "cell_type": "markdown",
   "metadata": {},
   "source": [
    "## Code for Task 1\n"
   ]
  },
  {
   "cell_type": "markdown",
   "metadata": {
    "ExecuteTime": {
     "end_time": "2018-03-18T08:22:42.147335Z",
     "start_time": "2018-03-18T08:22:42.144046Z"
    }
   },
   "source": [
    "### Setup and preparation"
   ]
  },
  {
   "cell_type": "markdown",
   "metadata": {
    "ExecuteTime": {
     "end_time": "2018-03-18T07:22:12.364855Z",
     "start_time": "2018-03-18T07:22:12.360292Z"
    }
   },
   "source": [
    "Make sure you have done the following:\n",
    "\n",
    "- Download data from https://polybox.ethz.ch/index.php/s/qUc2NvUh2eONfEB and unpack into `./data/` subdirectory\n",
    "- Download embeddings from https://polybox.ethz.ch/index.php/s/cpicEJeC2G4tq9U and unpack into `./data/` subdirectory\n",
    "- Download helper function from http://da.inf.ethz.ch/teaching/2018/NLU/material/load_embeddings.py and put into `./helpers/` subdirectory"
   ]
  },
  {
   "cell_type": "code",
   "execution_count": 1,
   "metadata": {
    "ExecuteTime": {
     "end_time": "2018-04-11T13:01:53.400306Z",
     "start_time": "2018-04-11T13:01:53.392573Z"
    }
   },
   "outputs": [
    {
     "name": "stderr",
     "output_type": "stream",
     "text": [
      "c:\\program files\\python36\\lib\\site-packages\\gensim\\utils.py:1197: UserWarning: detected Windows; aliasing chunkize to chunkize_serial\n",
      "  warnings.warn(\"detected Windows; aliasing chunkize to chunkize_serial\")\n"
     ]
    }
   ],
   "source": [
    "import os\n",
    "os.environ['TF_CPP_MIN_LOG_LEVEL'] = '2' # 0: ANY, 1: filter INFO, 2: filter WARNINGS, 3: filter ERROR\n",
    "import time\n",
    "\n",
    "import tensorflow as tf\n",
    "import numpy as np\n",
    "\n",
    "from collections import Counter\n",
    "from gensim import models\n",
    "from tqdm import tqdm\n",
    "\n",
    "%matplotlib inline"
   ]
  },
  {
   "cell_type": "code",
   "execution_count": 2,
   "metadata": {
    "ExecuteTime": {
     "end_time": "2018-04-11T13:01:54.869691Z",
     "start_time": "2018-04-11T13:01:54.852417Z"
    },
    "code_folding": [
     0,
     5
    ]
   },
   "outputs": [],
   "source": [
    "class RNNConfig():\n",
    "    '''Class holding all configuration vars for training the RNN\n",
    "    \n",
    "    '''\n",
    "    \n",
    "    def __init__(self,\n",
    "                 data_dir='./data',\n",
    "                 out_dir='./outputs',\n",
    "                 save_dir='./{}-checkpoints',\n",
    "                 validation_split=.1,\n",
    "                 max_sentence_length=30,\n",
    "                 vocab_length=20000,\n",
    "                 embedding_size=100,\n",
    "                 external_embedding=False,\n",
    "                 rnn_size=512,\n",
    "                 rnn_size_factor=1,\n",
    "                 n_steps=30,\n",
    "                 learning_rate=0.001,\n",
    "                 keep_prob=0.5,\n",
    "                 grad_clip=5,\n",
    "                 batch_size=64,\n",
    "                 num_epochs=1,\n",
    "                 save_every_n=500,\n",
    "                 validate_every_n=250,\n",
    "                 report_every_n=20,\n",
    "                 summary_every_n=10,\n",
    "                 max_to_keep=5,\n",
    "                 init_scale=.1):\n",
    "        \n",
    "        # Data directory \n",
    "        self.data_dir = data_dir\n",
    "        \n",
    "        # Output directory \n",
    "        self.out_dir = out_dir\n",
    "        \n",
    "        # Save directory\n",
    "        self.save_dir = save_dir\n",
    "        \n",
    "        # Percentage of the training data used for validation (default: 10%)\n",
    "        self.validation_split = validation_split\n",
    "        \n",
    "        # Maximum source sentence length as given by task description (default: 30)\n",
    "        self.max_sentence_length = max_sentence_length\n",
    "        \n",
    "        # Size of the vocabulary (default: 20k)\n",
    "        self.vocab_length = vocab_length\n",
    "        \n",
    "        # Dimensionality of word embedding layer (default: 100)\n",
    "        self.embedding_size = embedding_size\n",
    "        \n",
    "        # Whether to use externally fed embedding (default: False)\n",
    "        self.external_embedding = external_embedding\n",
    "        \n",
    "        # Dimensionality of RNN (i.e. hidden) layer (default: 512)\n",
    "        self.rnn_size = rnn_size\n",
    "        \n",
    "        # Integer to factor the size of the hidden layer [Task 1.1C] (default: 1)\n",
    "        self.rnn_size_factor = rnn_size_factor\n",
    "        \n",
    "        # Number of time steps for RNN (default: 30)\n",
    "        self.n_steps = n_steps\n",
    "        \n",
    "        # Learning rate (default: 0.001)\n",
    "        self.learning_rate = learning_rate\n",
    "        \n",
    "        # Dropout rate (default: 0.5)\n",
    "        self.keep_prob = keep_prob\n",
    "        \n",
    "        # Gradient clipping treshold (default: 5.0)\n",
    "        self.grad_clip = grad_clip\n",
    "        \n",
    "        # Batch Size (default: 64)\n",
    "        self.batch_size = batch_size\n",
    "        \n",
    "        # Number of training epochs (default: 10)\n",
    "        self.num_epochs = num_epochs\n",
    "        \n",
    "        # Save model after this many steps (default: 500)\n",
    "        self.save_every_n = save_every_n\n",
    "        \n",
    "        # Validate after this many steps (default: 250)\n",
    "        self.validate_every_n = validate_every_n\n",
    "        \n",
    "        # Print report after this many steps (default: 20)\n",
    "        self.report_every_n = report_every_n\n",
    "        \n",
    "        # Record summary after this many steps (default: 10)\n",
    "        self.summary_every_n = summary_every_n\n",
    "        \n",
    "        # Number of checkpoints to save (default: 5)\n",
    "        self.max_to_keep = max_to_keep\n",
    "        \n",
    "        # Scale range for uniform variable inits (default: 0.1)\n",
    "        self.init_scale = init_scale"
   ]
  },
  {
   "cell_type": "code",
   "execution_count": 3,
   "metadata": {
    "ExecuteTime": {
     "end_time": "2018-04-11T13:01:57.622359Z",
     "start_time": "2018-04-11T13:01:57.348211Z"
    }
   },
   "outputs": [
    {
     "name": "stdout",
     "output_type": "stream",
     "text": [
      "WARNING:tensorflow:From c:\\program files\\python36\\lib\\site-packages\\tensorflow\\contrib\\learn\\python\\learn\\datasets\\base.py:198: retry (from tensorflow.contrib.learn.python.learn.datasets.base) is deprecated and will be removed in a future version.\n",
      "Instructions for updating:\n",
      "Use the retry module or similar alternatives.\n"
     ]
    }
   ],
   "source": [
    "# Initialize config variables to defaults\n",
    "CONFIG = RNNConfig()\n",
    "\n",
    "# Define shorthands for common initializers used all over code\n",
    "ones = tf.ones_initializer()\n",
    "unif = tf.random_uniform_initializer(-CONFIG.init_scale, CONFIG.init_scale)\n",
    "xavi = tf.contrib.layers.xavier_initializer()\n",
    "zeros = tf.zeros_initializer()\n",
    "\n",
    "# Read all data from files\n",
    "data_dir = CONFIG.data_dir\n",
    "\n",
    "with open(data_dir+'/sentences.train', 'r') as f:\n",
    "    train_data = f.read()\n",
    "    \n",
    "with open(data_dir+'/sentences.eval', 'r') as f:\n",
    "    eval_data = f.read()\n",
    "    \n",
    "with open(data_dir+'/sentences.continuation', 'r') as f:\n",
    "    continuation_data = f.read()    "
   ]
  },
  {
   "cell_type": "code",
   "execution_count": 4,
   "metadata": {
    "ExecuteTime": {
     "end_time": "2018-04-11T13:01:58.765030Z",
     "start_time": "2018-04-11T13:01:58.755795Z"
    }
   },
   "outputs": [
    {
     "name": "stdout",
     "output_type": "stream",
     "text": [
      "Training data sample:\n",
      " ====================\n",
      "`` i 've never had any ice-cream for myself , my father never let me have any . ''\n",
      "`` and even if sh \n",
      " ................................................................................\n",
      "\n",
      " Evaluation data sample:\n",
      " ====================\n",
      "he took my face in his hands and held my face where he wanted it as he kissed me senseless .\n",
      "`` on t \n",
      " ................................................................................\n",
      "\n",
      " Continuation data sample:\n",
      " ====================\n",
      "`` no ,\n",
      "correct ...\n",
      "`` i\n",
      "peter\n",
      "what was i\n",
      "when he\n",
      "take some of\n",
      "id told\n",
      "throw\n",
      "we have no place\n",
      "i felt \n",
      " ................................................................................\n"
     ]
    }
   ],
   "source": [
    "# Have a peek at the given raw data\n",
    "\n",
    "print('Training data sample:\\n', 20*'=')\n",
    "print(train_data[:100], '\\n', 80*'.')\n",
    "\n",
    "print('\\n Evaluation data sample:\\n', 20*'=')\n",
    "print(eval_data[:100], '\\n', 80*'.')\n",
    "\n",
    "print('\\n Continuation data sample:\\n', 20*'=')\n",
    "print(continuation_data[:100], '\\n', 80*'.')"
   ]
  },
  {
   "cell_type": "markdown",
   "metadata": {},
   "source": [
    "### Data preprocessing"
   ]
  },
  {
   "cell_type": "code",
   "execution_count": 5,
   "metadata": {
    "ExecuteTime": {
     "end_time": "2018-04-11T13:02:12.539008Z",
     "start_time": "2018-04-11T13:02:02.427761Z"
    }
   },
   "outputs": [
    {
     "name": "stdout",
     "output_type": "stream",
     "text": [
      "Sample training sentences:\n",
      " [\"`` i 've never had any ice-cream for myself , my father never let me have any . ''\", \"`` and even if she was , the gargoyle could hardly halt me from harming her . ''\", 'pigafetta repeated the threat , which had no apparent effect .', \"best to barricade oneself , no ? ''\", \"`` why would he lie ? ''\"] \n",
      "\n",
      "Sample words:\n",
      " ['``', 'i', \"'ve\", 'never', 'had', 'any', 'ice-cream', 'for', 'myself', ',', 'my', 'father', 'never', 'let', 'me', 'have', 'any', '.', \"''\", '``'] \n",
      "\n",
      "Top frequency words:\n",
      " ['.', ',', 'the', 'i', 'to', 'and', '``', \"''\", 'a', 'he', 'of', 'you', 'was', 'her', 'it', 'she', 'in', 'his', 'that', '?'] \n",
      "\n"
     ]
    }
   ],
   "source": [
    "# Splitting data into sentences\n",
    "def split_data2sentences(data):\n",
    "    text = ''.join(data)\n",
    "    sentences = text.split('\\n')\n",
    "    return sentences\n",
    "\n",
    "train_sentences = split_data2sentences(train_data)\n",
    "eval_sentences = split_data2sentences(eval_data)\n",
    "continuation_sentences = split_data2sentences(continuation_data)\n",
    "\n",
    "# Get sentences from training data and look at sample\n",
    "print('Sample training sentences:\\n', train_sentences[:5], '\\n')\n",
    "\n",
    "# Make text contiguous again, break into words for vocabulary and look at sample\n",
    "words = ' '.join(train_sentences).split()\n",
    "print('Sample words:\\n', words[:20], '\\n')\n",
    "\n",
    "## Generate the dictionary from the training data\n",
    "# Make a word counter and show top frequency words\n",
    "counts = Counter(words)\n",
    "vocab = sorted(counts, key=counts.get, reverse=True)\n",
    "print('Top frequency words:\\n', vocab[:20], '\\n')\n",
    "\n",
    "# Clip word counter to defined length and append special symbol words\n",
    "symbols = ['<bos>', '<eos>', '<pad>', '<unk>']\n",
    "vocab = vocab[:CONFIG.vocab_length-len(symbols)] # Limit to CONFIG.vocab_length minus the last 4 to replace w/ symbols\n",
    "for each in symbols:\n",
    "    vocab.append(each)\n",
    "    \n",
    "# Make a vocabulary to convert words to integers\n",
    "vocab_to_int = {word: i for i, word in enumerate(vocab, 0)} # consider starting with 1 if 0 gives dead cells\n",
    "\n",
    "# Make a vocabulary to get words from integers at the end\n",
    "int_to_vocab = dict(enumerate(vocab))"
   ]
  },
  {
   "cell_type": "code",
   "execution_count": 6,
   "metadata": {
    "ExecuteTime": {
     "end_time": "2018-04-11T13:02:48.922323Z",
     "start_time": "2018-04-11T13:02:16.300742Z"
    },
    "scrolled": true
   },
   "outputs": [
    {
     "name": "stderr",
     "output_type": "stream",
     "text": [
      "100%|██████████████████████████████████████████████████████████████████████████████████████████████████| 2000001/2000001 [00:17<00:00, 111489.51it/s]\n",
      "100%|██████████████████████████████████████████████████████████████████████████████████████████████████████| 10001/10001 [00:00<00:00, 146131.64it/s]\n"
     ]
    }
   ],
   "source": [
    "# Encode sentences to integers and insert symbol words where necessary\n",
    "\n",
    "### ATTN: Remove next line after finishing, keeping data set small for speedup\n",
    "# train_sentences = train_sentences[:2000]\n",
    "\n",
    "def encode_sentences(sentences):\n",
    "    max_sentence_length = CONFIG.max_sentence_length # Given by task description\n",
    "    sentences_ints = [] # List to hold converted-to-int sentences\n",
    "    for each in tqdm(sentences):\n",
    "        sentence = each.split()\n",
    "        if len(sentence) < max_sentence_length-2: # -2 to allow for <bos>, <eos> \\\n",
    "                                                  # only use sentences w/ lenght <=30 as mandated\n",
    "            sentence_int = [vocab_to_int['<bos>']] # Start sentence list w/ <bos>\n",
    "#             sentence_int += [vocab_to_int[word] if word in vocab_to_int\\\n",
    "#                                  else vocab_to_int['<unk>'] for word in sentence] # Append remaining words\n",
    "            sentence_int += [vocab_to_int.get(word, vocab_to_int['<unk>']) for word in sentence]            \n",
    "            sentence_int.append(vocab_to_int['<eos>']) # End sentence w/ <eos>\n",
    "            while len(sentence_int) < max_sentence_length: # Pad length if necessary\n",
    "                sentence_int.append(vocab_to_int['<pad>'])\n",
    "            sentences_ints.append(sentence_int) \n",
    "    encoded = np.array(sentences_ints) # Convert list of sentences to np array\n",
    "    return encoded\n",
    "\n",
    "train_encoded = encode_sentences(train_sentences)\n",
    "eval_encoded = encode_sentences(eval_sentences)\n",
    "# Not needed with current procedure for continuation (see below):\n",
    "# continuation_encoded = encode_sentences(continuation_sentences)\n",
    "\n",
    "# Set data preparation complete flag\n",
    "data_ready = True"
   ]
  },
  {
   "cell_type": "code",
   "execution_count": 7,
   "metadata": {
    "ExecuteTime": {
     "end_time": "2018-04-11T13:02:52.890018Z",
     "start_time": "2018-04-11T13:02:52.869500Z"
    }
   },
   "outputs": [],
   "source": [
    "# Modified load_embedding code not to mess with own session handling code\n",
    "\n",
    "def load_embedding(vocab, path, dim_embedding, vocab_size):\n",
    "    '''\n",
    "      vocab          A dictionary mapping token strings to vocabulary IDs\n",
    "      path           Path to embedding file\n",
    "      dim_embedding  Dimensionality of the external embedding.\n",
    "      vocab_size     Size of the vocabulary to be embedded\n",
    "      Returns np.ndarray of size (vocab_size, dim_embedding) containing pretrained embedding\n",
    "    '''\n",
    "\n",
    "    print(\"Loading external embeddings from %s\" % path)\n",
    "\n",
    "    model = models.KeyedVectors.load_word2vec_format(path, binary=False)  \n",
    "    external_embedding = np.zeros(shape=(vocab_size, dim_embedding))\n",
    "    matches = 0\n",
    "\n",
    "    for tok, idx in vocab.items():\n",
    "        if tok in model.vocab:\n",
    "            external_embedding[idx] = model[tok]\n",
    "            matches += 1\n",
    "        else:\n",
    "            print(\"%s not in embedding file\" % tok)\n",
    "            external_embedding[idx] = np.random.uniform(low=-0.25, high=0.25, size=dim_embedding)\n",
    "        \n",
    "    print(\"%d words out of %d could be loaded\" % (matches, vocab_size))\n",
    "    return external_embedding\n"
   ]
  },
  {
   "cell_type": "code",
   "execution_count": 8,
   "metadata": {
    "ExecuteTime": {
     "end_time": "2018-04-11T13:03:14.623482Z",
     "start_time": "2018-04-11T13:02:57.101103Z"
    }
   },
   "outputs": [
    {
     "name": "stdout",
     "output_type": "stream",
     "text": [
      "Loading external embeddings from ./data/wordembeddings-dim100.word2vec\n",
      "<bos> not in embedding file\n",
      "<eos> not in embedding file\n",
      "<pad> not in embedding file\n",
      "<unk> not in embedding file\n",
      "19996 words out of 20000 could be loaded\n"
     ]
    }
   ],
   "source": [
    "# Load external embedding\n",
    "filename = 'wordembeddings-dim100.word2vec'\n",
    "external_embedding = load_embedding(vocab_to_int, data_dir+'/'+filename, CONFIG.embedding_size, CONFIG.vocab_length)\n",
    "\n",
    "# Set external embeddingready flag\n",
    "external_emb_ready = True"
   ]
  },
  {
   "cell_type": "markdown",
   "metadata": {},
   "source": [
    "### RNN "
   ]
  },
  {
   "cell_type": "code",
   "execution_count": 9,
   "metadata": {
    "ExecuteTime": {
     "end_time": "2018-04-11T13:03:19.058271Z",
     "start_time": "2018-04-11T13:03:19.051520Z"
    }
   },
   "outputs": [],
   "source": [
    "def variable_summaries(var):\n",
    "    '''Attach a lot of summaries to a Tensor (for TensorBoard visualization).\n",
    "    \n",
    "        From TensorBoard documentation\n",
    "    '''\n",
    "    with tf.name_scope('summaries'):\n",
    "        mean = tf.reduce_mean(var)\n",
    "        tf.summary.scalar('mean', mean)\n",
    "    with tf.name_scope('stddev'):\n",
    "        stddev = tf.sqrt(tf.reduce_mean(tf.square(var - mean)))\n",
    "    tf.summary.scalar('stddev', stddev)\n",
    "    tf.summary.scalar('max', tf.reduce_max(var))\n",
    "    tf.summary.scalar('min', tf.reduce_min(var))\n",
    "    tf.summary.histogram('histogram', var)"
   ]
  },
  {
   "cell_type": "code",
   "execution_count": null,
   "metadata": {
    "ExecuteTime": {
     "end_time": "2018-04-11T13:25:04.831721Z",
     "start_time": "2018-04-11T13:25:04.794700Z"
    }
   },
   "outputs": [],
   "source": [
    "class RNNLanguageModel:\n",
    "    '''Main element: Class representing the complete RNN language model\n",
    "    \n",
    "    TBC\n",
    "    '''\n",
    "    \n",
    "    def __init__(self,\n",
    "                 vocab_length,\n",
    "                 batch_size,\n",
    "                 n_steps,\n",
    "                 rnn_size,\n",
    "                 rnn_size_factor,\n",
    "                 learning_rate,\n",
    "                 grad_clip,\n",
    "                 embedding_size,\n",
    "                 external_embedding):\n",
    "        \n",
    "        # Reset tensorflow graph for clean slate\n",
    "        tf.reset_default_graph()\n",
    "        \n",
    "        # TF Placeholders:\n",
    "        with tf.name_scope('input_layer'):\n",
    "            self.inputs = tf.placeholder(tf.int32, [batch_size, n_steps], name='inputs')\n",
    "            self.targets = tf.placeholder(tf.int64, [batch_size, n_steps], name='targets')\n",
    "            self.target_weights = tf.placeholder(tf.float32, [batch_size, n_steps],\n",
    "                                                 name='target_weights')\n",
    "\n",
    "            self.ext_embedding_matrix = tf.placeholder(tf.float32, [vocab_length, embedding_size],\n",
    "                                                       name='ext_embedding_matrix')\n",
    "\n",
    "            self.keep_prob = tf.placeholder(tf.float32, name='keep_prob')\n",
    "\n",
    "        # Embedding layer\n",
    "        with tf.name_scope('embedding_layer'):\n",
    "            # Create embedding matrix\n",
    "            embedding_matrix = tf.get_variable(name='embedding_matrix',\n",
    "                                           shape=[vocab_length, embedding_size],\n",
    "                                           initializer=unif)\n",
    "\n",
    "            # If we're using the pretrained embedding\n",
    "            if (external_embedding == True):\n",
    "                embedding_matrix.assign(self.ext_embedding_matrix)\n",
    "\n",
    "            # Lookup inputs in embedding matrix\n",
    "            self.embeddings = tf.nn.embedding_lookup(embedding_matrix, self.inputs,\n",
    "                                                         name='embeddings')\n",
    "\n",
    "            tf.summary.histogram('embeddings', self.embeddings)\n",
    "\n",
    "            # Embedding layer dropout (use during training)\n",
    "            self.embeddings = tf.nn.dropout(self.embeddings, self.keep_prob, name='embeddings_dropout')\n",
    "            \n",
    "           # if (self.keep_prob < 1):\n",
    "           #     self.embeddings = tf.nn.dropout(self.embeddings, keep_prob, name='embeddings_dropout')\n",
    "\n",
    "        # RNN layer\n",
    "        with tf.name_scope('hidden_layer'):\n",
    "\n",
    "            # Vanilla LSTM cell\n",
    "            cell = tf.nn.rnn_cell.BasicLSTMCell(rnn_size*rnn_size_factor)\n",
    "\n",
    "            # Dropout wrapper (use during training)\n",
    "            cell = tf.nn.rnn_cell.DropoutWrapper(cell=cell, output_keep_prob=self.keep_prob)\n",
    "            \n",
    "            # Initialize cell to zero state\n",
    "            self.initial_state = cell.zero_state(batch_size, tf.float32)\n",
    "\n",
    "            # Unroll RNN through time\n",
    "            # dynamic_rnn solution would be:\n",
    "            # self.rnn_output, self.final_state = tf.nn.dynamic_rnn(cell, self.embeddings, initial_state=self.initial_state)\n",
    "\n",
    "            state = self.initial_state \n",
    "            outputs = []\n",
    "            with tf.variable_scope('RNN'):\n",
    "                for i in range(n_steps):\n",
    "                    if i > 0:\n",
    "                        tf.get_variable_scope().reuse_variables()\n",
    "                    output, state = cell(self.embeddings[:, i, :], state)\n",
    "                    outputs.append(output)\n",
    "            self.rnn_output, self.final_state = tf.stack(outputs, axis=1), state\n",
    "\n",
    "            # to keep only last output would be:\n",
    "            # self.rnn_output = self.rnn_output[:, -1, :]\n",
    "\n",
    "            # Reshape hidden layer output: one row per input and step, i.e. ((batch_size*n_steps), rnn_size)            \n",
    "            self.rnn_output = tf.reshape(self.rnn_output, [-1, rnn_size*rnn_size_factor])\n",
    "\n",
    "            variable_summaries(self.rnn_output)    \n",
    "\n",
    "            # If hidden layer increased by factor [1.1C], project down\n",
    "            if (rnn_size_factor > 1):\n",
    "                W_p = tf.get_variable(name='downprojection_weight', shape=[rnn_size*rnn_size_factor,\n",
    "                                                                          rnn_size],\n",
    "                                      initializer=xavi)\n",
    "                b_p = tf.get_variable(name='downprojection_bias', shape=[rnn_size,],\n",
    "                                      initializer=zeros)\n",
    "\n",
    "                self.rnn_output = tf.nn.xw_plus_b(self.rnn_output, W_p, b_p)\n",
    "\n",
    "                variable_summaries(W_p)\n",
    "                variable_summaries(b_p)\n",
    "\n",
    "        # Softmax output layer\n",
    "        with tf.name_scope('softmax_layer'):\n",
    "\n",
    "            # out_size is vocab_length\n",
    "            out_size = vocab_length\n",
    "\n",
    "            # RNN outputs to softmax layer:\n",
    "            W_softmax = tf.get_variable(name=\"softmax_weight\", shape=[rnn_size, out_size],\n",
    "                                        initializer=xavi)\n",
    "            b_softmax = tf.get_variable(name=\"softmax_bias\", shape=[out_size],\n",
    "                                        initializer=zeros)\n",
    "\n",
    "            variable_summaries(W_softmax)\n",
    "            variable_summaries(b_softmax)\n",
    "\n",
    "            # Calculate logits from softmax layer\n",
    "            self.logits = tf.nn.xw_plus_b(self.rnn_output, W_softmax, b_softmax, name='logits')\n",
    "            \n",
    "            variable_summaries(self.logits)\n",
    "            \n",
    "            # Finally, get word probabilities from logits\n",
    "            self.predictions = tf.nn.softmax(self.logits, name='predictions')\n",
    "\n",
    "        # Metrics\n",
    "        with tf.name_scope('metrics'):\n",
    "\n",
    "            # Reshape targets and their weights from (batch_size, n_steps) to 1D\n",
    "            y = tf.reshape(self.targets, [-1])\n",
    "            y_weights = tf.reshape(self.target_weights, [-1])\n",
    "\n",
    "            # Calculate crossentropy: Use sparse routine for numerical stability\n",
    "            # and also to avoid having to one-hot encode the targets\n",
    "            crossent = tf.nn.sparse_softmax_cross_entropy_with_logits(labels=y,\n",
    "                                                                      logits=self.logits)\n",
    "\n",
    "            # Multiply crossentropy vector by 1D-reshaped weights to nullify effect of <pad>\n",
    "            crossent *= y_weights\n",
    "\n",
    "            # Get scalar crossentropy: With aim to average over both n_steps and batch_size\n",
    "            crossent = tf.reduce_sum(crossent)\n",
    "\n",
    "            # Calculate total weight and make sure it doesn't equal zero for the division below\n",
    "            total_weight = tf.reduce_sum(y_weights)\n",
    "            total_weight += 1e-12\n",
    "\n",
    "            # Calculate total loss (across batch_size AND n_steps): Divide summed crossentropy by total weight\n",
    "            self.loss = crossent / total_weight\n",
    "\n",
    "            tf.summary.scalar('loss', self.loss)\n",
    "\n",
    "            # Calculate perplexity: Uses natural logarithm as does sparse_softmax_cross_entropy_with_logits\n",
    "            self.perplexity = tf.exp(self.loss)\n",
    "\n",
    "            tf.summary.scalar('perplexity', self.perplexity)\n",
    "\n",
    "            # Best prediction\n",
    "            self.best_prediction = tf.argmax(self.predictions, 1, name='best_prediction')\n",
    "\n",
    "            # Accuracy\n",
    "            correct_predictions = tf.cast(tf.equal(self.best_prediction, y), tf.float32)\n",
    "            correct_predictions *= y_weights      \n",
    "            correct_predictions = tf.reduce_sum(correct_predictions)\n",
    "            self.accuracy = correct_predictions / total_weight\n",
    "\n",
    "            tf.summary.scalar('accuracy', self.accuracy)\n",
    "\n",
    "        # Optimizer\n",
    "        with tf.name_scope('optimizer'):\n",
    "            tvars = tf.trainable_variables()\n",
    "            grads, _ = tf.clip_by_global_norm(tf.gradients(self.loss, tvars), grad_clip)\n",
    "            train_op = tf.train.AdamOptimizer(learning_rate)\n",
    "            self.optimizer = train_op.apply_gradients(zip(grads, tvars))      \n",
    "\n",
    "        # Merge summaries for TensorBoard    \n",
    "        self.merged = tf.summary.merge_all()"
   ]
  },
  {
   "cell_type": "code",
   "execution_count": 11,
   "metadata": {
    "ExecuteTime": {
     "end_time": "2018-04-11T13:03:28.751315Z",
     "start_time": "2018-04-11T13:03:28.734690Z"
    }
   },
   "outputs": [],
   "source": [
    "# Build batch generator for training    \n",
    "def get_batches(source_arr, batch_size, n_steps):\n",
    "    '''Generator which returns features x and targets y\n",
    "    \n",
    "    Inputs\n",
    "    ------\n",
    "    source_arr: A np.ndarray of sentences in rows to generate features and targets from\n",
    "    batch_size: An int number of sequences required per batch\n",
    "    n_steps: Number of time steps for RNN to consider; defines sequence length\n",
    "    \n",
    "    Outputs\n",
    "    -------\n",
    "    x: A np.ndarray of feature sequences according to parameters above\n",
    "    y: A np.ndarray of target sequences according to parameters above\n",
    "    y_weights: A np.ndarray of floats: 0.0 were target sequence element = <pad>, 1.0 else\n",
    "    '''\n",
    "    \n",
    "    source_rows = source_arr.shape[0]\n",
    "    source_cols = source_arr.shape[1]\n",
    "    \n",
    "    # Wrap around source col 0 to end so we can use full source length (in which case '<eos>' -> '<bos>')\n",
    "    source_arr = np.hstack((source_arr, source_arr[:, 0].reshape((-1, 1))))\n",
    "    \n",
    "    # Make sure time steps doesn't exceed available information in sentence (+1 is the wraparound)\n",
    "    assert (n_steps <  source_cols+1), \"No point in looking further back than source is long\"\n",
    "    \n",
    "    # How many sequences we can get from an input sentence (row)\n",
    "    n_seq_per_row = source_cols+1 - n_steps \n",
    "        \n",
    "    # How many 'batch blocks' we can get\n",
    "    n_blocks = source_rows // batch_size\n",
    "   \n",
    "    # Shuffle rows of sequences to improve training\n",
    "    np.random.shuffle(source_arr)\n",
    "    \n",
    "    # Crop array to only produce full batches\n",
    "    source_arr = source_arr[:n_blocks*batch_size, :]\n",
    "\n",
    "    # Reshape source_arr for easier batch generation\n",
    "    source_arr = source_arr.reshape((batch_size, -1))\n",
    "\n",
    "    # Generate batches\n",
    "    for j in range(0, source_arr.shape[1], source_cols+1):\n",
    "        for jj in range(n_seq_per_row):\n",
    "            # Feature sequence:\n",
    "            x = source_arr[:, j+jj : j+jj+n_steps]\n",
    "            # Target:\n",
    "            y = source_arr[:, j+jj+1:j+jj+n_steps+1]\n",
    "            # Target weights:\n",
    "            y_weights = np.array([[0. if (int_to_vocab[j] == '<pad>') else 1. for j in i] for i in y])\n",
    "            yield x, y, y_weights"
   ]
  },
  {
   "cell_type": "code",
   "execution_count": null,
   "metadata": {
    "code_folding": [
     0
    ]
   },
   "outputs": [],
   "source": [
    "# Development only: playing around with batches\n",
    "\n",
    "shuffled_rows_ind = np.random.permutation(len(train_encoded))\n",
    "validation_split_ind = int(0.1 * len(train_encoded))\n",
    "source_train = train_encoded[shuffled_rows_ind[validation_split_ind:]]\n",
    "batches = get_batches(source_train, 64, 28)\n",
    "\n",
    "x, y, y_weights = next(batches)\n",
    "print('x\\n',x.shape,'\\n', x, '\\n')\n",
    "print('y\\n',y.shape,'\\n', y, '\\n')\n",
    "print('y_weights\\n',y_weights.shape,'\\n', y_weights, '\\n')\n",
    "for i in range(x.shape[0]):\n",
    "        print([int_to_vocab[x[i,j]] for j in range(x[i].shape[0])], ' -> ', [int_to_vocab[y[i,j]] for j in range(y[i].shape[0])])"
   ]
  },
  {
   "cell_type": "markdown",
   "metadata": {},
   "source": [
    "### Training"
   ]
  },
  {
   "cell_type": "code",
   "execution_count": null,
   "metadata": {
    "ExecuteTime": {
     "end_time": "2018-04-11T13:30:37.790919Z",
     "start_time": "2018-04-11T13:30:37.747005Z"
    }
   },
   "outputs": [],
   "source": [
    "# Run training on exp for epochs with rnn_size_factor factor and external_embedding emb and save to save_dir\n",
    "def train(exp, CONFIG):\n",
    "    # Check data preparation complete, external embedding ready\n",
    "    assert data_ready == True, 'Need to run data preparation first'\n",
    "    assert external_emb_ready == True, 'Need to import external embedding first'\n",
    "\n",
    "    # Split training/validation data\n",
    "    np.random.seed(42)\n",
    "    shuffled_rows_ind = np.random.permutation(len(train_encoded))\n",
    "    validation_split_ind = int(CONFIG.validation_split * len(train_encoded))\n",
    "    source_train = train_encoded[shuffled_rows_ind[validation_split_ind:]]\n",
    "    source_validation = train_encoded[shuffled_rows_ind[:validation_split_ind]]\n",
    "\n",
    "    # Set shorter handles for training loop variables\n",
    "    save_every_n = CONFIG.save_every_n\n",
    "    validate_every_n = CONFIG.validate_every_n\n",
    "    report_every_n = CONFIG.report_every_n\n",
    "    summary_every_n = CONFIG.summary_every_n\n",
    "    keep_prob = CONFIG.keep_prob\n",
    "    epochs = CONFIG.num_epochs\n",
    "    save_dir = CONFIG.save_dir.format(exp)\n",
    "    \n",
    "    # Set some helper variables\n",
    "    num_training_steps = len(source_train) // CONFIG.batch_size \\\n",
    "                         * (source_train.shape[1]+1 - CONFIG.n_steps)\n",
    "    report_detail = False\n",
    "    if CONFIG.n_steps < 15: # This is just to keep the screen from overflowing\n",
    "        report_detail = True # Only eye-candy anyway\n",
    "    def str_hms(delta_time):\n",
    "        h, rem = divmod(delta_time, 3600)\n",
    "        m, s = divmod(rem, 60)\n",
    "        return '{:0>2}:{:0>2}:{:05.2f}'.format(int(h),int(m),s)\n",
    "\n",
    "    # Create model instance\n",
    "    model = RNNLanguageModel(vocab_length=CONFIG.vocab_length,\n",
    "                             batch_size=CONFIG.batch_size,\n",
    "                             n_steps=CONFIG.n_steps,\n",
    "                             rnn_size=CONFIG.rnn_size,\n",
    "                             rnn_size_factor=CONFIG.rnn_size_factor,\n",
    "                             learning_rate=CONFIG.learning_rate,\n",
    "                             grad_clip=CONFIG.grad_clip,\n",
    "                             embedding_size=CONFIG.embedding_size,\n",
    "                             external_embedding=CONFIG.external_embedding)\n",
    "\n",
    "    # Setup TensorBoard logging\n",
    "    # Run in project directory to view: \"tensorboard --logdir ./runs\"\n",
    "    now = time.strftime('%y-%m-%d-%H-%M-%S')\n",
    "    log_dir = './runs'\n",
    "    log_subdir = '{}/{}-run-{}/'.format(log_dir, exp, now)\n",
    "    writer = tf.summary.FileWriter(log_subdir, tf.get_default_graph())\n",
    "    \n",
    "    # Setup model saving\n",
    "    saver = tf.train.Saver(max_to_keep=CONFIG.max_to_keep)\n",
    "\n",
    "    # Run training\n",
    "    print('Starting training on experiment {}:'.format(exp))\n",
    "    print('Run \"tensorboard --logdir {}\" in project dir, current run in {}'.format(log_dir, log_subdir))\n",
    "    print('Batch size: {}\\t Time steps {}\\t RNN layer size {}\\t External embedding {}'.format(CONFIG.batch_size,\n",
    "                                                                                           CONFIG.n_steps,\n",
    "                                                                                           CONFIG.rnn_size*CONFIG.rnn_size_factor,\n",
    "                                                                                           CONFIG.external_embedding))\n",
    "    with tf.Session() as sess:\n",
    "        sess.run(tf.global_variables_initializer())\n",
    "\n",
    "        train_start = time.time()\n",
    "        counter = 1\n",
    "\n",
    "        for ep in range(epochs):\n",
    "            new_state = sess.run(model.initial_state)\n",
    "            loss = 0.\n",
    "\n",
    "            validation_batches = get_batches(source_validation, batch_size=CONFIG.batch_size,\n",
    "                                    n_steps=CONFIG.n_steps)\n",
    "\n",
    "            for x_train, y_train, y_train_weights in get_batches(source_train, batch_size=CONFIG.batch_size,\n",
    "                                    n_steps=CONFIG.n_steps):\n",
    "                \n",
    "                start = time.time()\n",
    "\n",
    "                feed_dict = {model.inputs: x_train,\n",
    "                             model.targets: y_train,\n",
    "                             model.target_weights: y_train_weights,\n",
    "                             model.keep_prob: keep_prob,\n",
    "                             model.ext_embedding_matrix: external_embedding,\n",
    "                             model.initial_state: new_state}\n",
    "\n",
    "                loss, perplexity, accuracy, best_prediction, new_state, _ = \\\n",
    "                sess.run([model.loss, model.perplexity, model.accuracy, model.best_prediction,\n",
    "                          model.final_state, model.optimizer], feed_dict=feed_dict)\n",
    "\n",
    "                batch_time = time.time() - start\n",
    "\n",
    "                if (counter % summary_every_n == 0):\n",
    "                    writer.add_summary(sess.run(model.merged, feed_dict=feed_dict), counter)\n",
    "\n",
    "                if (counter % report_every_n == 0):\n",
    "                    print('Epoch: {}/{}\\t'.format(ep+1, epochs),\n",
    "                          'Train step: {}/{}\\t'.format(counter, num_training_steps-1),\n",
    "                          'Batch loss: {:.3f}\\t'.format(loss),\n",
    "                          'Batch perplexity: {:.3f}\\t'.format(perplexity),\n",
    "                          'Batch accuracy: {:.1%}\\t'.format(accuracy),\n",
    "                          '{:.2f}s/batch'.format(batch_time))\n",
    "                    if (report_detail == True):\n",
    "                        print(' '.join([int_to_vocab[x_train[0,j]] for j in range(x_train[0].shape[0])]),\n",
    "                              ' -> ', int_to_vocab[best_prediction[0]] , ' vs. ', int_to_vocab[y_train[0, -1]])\n",
    "\n",
    "                if (counter % save_every_n == 0):\n",
    "                    saver.save(sess, '{}/run-{}_i{}_s{}.ckpt'.format(save_dir, now,\n",
    "                                                                     counter, CONFIG.rnn_size))\n",
    "                if (counter % validate_every_n == 0):\n",
    "                    x_validation, y_validation, y_validation_weights = next(validation_batches)\n",
    "                    feed_dict = {model.inputs: x_validation,\n",
    "                                 model.targets: y_validation,\n",
    "                                 model.target_weights: y_validation_weights,\n",
    "                                 model.keep_prob: 1.0,\n",
    "                                 model.ext_embedding_matrix: external_embedding,\n",
    "                                 model.initial_state: new_state}\n",
    "\n",
    "                    loss, perplexity, accuracy = sess.run([model.loss, model.perplexity, model.accuracy],\n",
    "                                                          feed_dict=feed_dict)\n",
    "                    \n",
    "                    print('Epoch: {}/{}\\t'.format(ep+1, epochs),\n",
    "                          '* Validation batch *\\t',\n",
    "                          'Batch loss: {:.3f}\\t'.format(loss),\n",
    "                          'Batch perplexity: {:.3f}\\t'.format(perplexity),\n",
    "                          'Batch accuracy: {:.1%}\\t***'.format(accuracy))\n",
    "                \n",
    "                counter += 1\n",
    "                \n",
    "        train_time = time.time() - train_start\n",
    "\n",
    "        writer.close()\n",
    "        saver.save(sess, '{}/run-{}_i{}_s{}.ckpt'.format(save_dir, now, counter, CONFIG.rnn_size))\n",
    "\n",
    "        print('*** Experiment {}: Training complete:\\t{} epoch(s) with {} batches each'.format(exp,\n",
    "                                                                                               epochs,\n",
    "                                                                                               num_training_steps))\n",
    "        print('*** Training time:\\t', str_hms(train_time))"
   ]
  },
  {
   "cell_type": "markdown",
   "metadata": {},
   "source": [
    "### Evaluation"
   ]
  },
  {
   "cell_type": "code",
   "execution_count": null,
   "metadata": {
    "ExecuteTime": {
     "end_time": "2018-04-11T13:03:39.486950Z",
     "start_time": "2018-04-11T13:03:39.469204Z"
    }
   },
   "outputs": [],
   "source": [
    "def eval_perplexities(checkpoint, CONFIG):\n",
    "    perplexities = []\n",
    "    counter = 1\n",
    "    \n",
    "    model = RNNLanguageModel(vocab_length=CONFIG.vocab_length,\n",
    "                             batch_size=1,\n",
    "                             n_steps=CONFIG.n_steps,\n",
    "                             rnn_size=CONFIG.rnn_size,\n",
    "                             rnn_size_factor=CONFIG.rnn_size_factor,\n",
    "                             learning_rate=CONFIG.learning_rate,\n",
    "                             grad_clip=CONFIG.grad_clip,\n",
    "                             embedding_size=CONFIG.embedding_size,\n",
    "                             external_embedding=CONFIG.external_embedding)\n",
    "    \n",
    "    saver = tf.train.Saver()\n",
    "    with tf.Session() as sess:\n",
    "        saver.restore(sess, checkpoint)\n",
    "        for x_eval, y_eval, y_eval_weights in get_batches(eval_encoded, batch_size=1,\n",
    "                                    n_steps=CONFIG.n_steps):\n",
    "\n",
    "            if (counter % 50 == 0): print('Evaluating sentence {}/{}'.format(counter, len(eval_encoded)))\n",
    "            #if counter == 100 : break ### Dev only\n",
    "\n",
    "            new_state = sess.run(model.initial_state)\n",
    "            feed_dict = {model.inputs: x_eval,\n",
    "                         model.targets: y_eval,\n",
    "                         model.target_weights: y_eval_weights,\n",
    "                         model.keep_prob: 1,\n",
    "                         model.ext_embedding_matrix: external_embedding,\n",
    "                         model.initial_state: new_state}\n",
    "\n",
    "            perplexity = sess.run(model.perplexity, feed_dict=feed_dict)\n",
    "            perplexities.append(perplexity)\n",
    "            counter += 1          \n",
    "    return perplexities"
   ]
  },
  {
   "cell_type": "code",
   "execution_count": 43,
   "metadata": {
    "ExecuteTime": {
     "end_time": "2018-04-11T13:03:45.465665Z",
     "start_time": "2018-04-11T13:03:45.456788Z"
    }
   },
   "outputs": [],
   "source": [
    "# Get perplexities for experiment based on last checkpoint in save_dir and write to file\n",
    "def perp(exp, CONFIG):\n",
    "    \n",
    "    save_dir = CONFIG.save_dir.format(exp)\n",
    "    \n",
    "    # Get latest checkpoint\n",
    "    checkpoint = tf.train.latest_checkpoint(save_dir)\n",
    "\n",
    "    # Calculate perplexities:\n",
    "    perplexities = eval_perplexities(checkpoint, CONFIG)\n",
    "    \n",
    "    # Write to file\n",
    "    filename = 'group01.perplexity{}'.format(exp)\n",
    "    if not os.path.exists(CONFIG.out_dir):\n",
    "            os.makedirs(CONFIG.out_dir)\n",
    "    with open('{}/{}'.format(CONFIG.out_dir, filename), 'w') as f:\n",
    "        for p in perplexities:\n",
    "            f.write('{:.3f}\\n'.format(p))\n",
    "    print('Experiment {}: Using {}, evalulation perplexity avg: {:.3f}, min: {:.3f}, max: {:.3f}'.format(exp,\n",
    "                                                                                                      checkpoint,\n",
    "                                                                                                      np.mean(perplexities),\n",
    "                                                                                                      np.min(perplexities),\n",
    "                                                                                                      np.max(perplexities)))\n",
    "    print('{} perplexity values written to {}/{}'.format(len(eval_encoded), CONFIG.out_dir, filename))"
   ]
  },
  {
   "cell_type": "markdown",
   "metadata": {
    "ExecuteTime": {
     "end_time": "2018-04-08T15:48:35.010377Z",
     "start_time": "2018-04-08T15:48:35.000049Z"
    }
   },
   "source": [
    "### Conditional Generation/Sampling (Task 1.2)"
   ]
  },
  {
   "cell_type": "code",
   "execution_count": null,
   "metadata": {
    "ExecuteTime": {
     "end_time": "2018-04-11T13:03:51.434839Z",
     "start_time": "2018-04-11T13:03:51.414383Z"
    }
   },
   "outputs": [],
   "source": [
    "def generate_samples(checkpoint, max_generate_n, CONFIG):\n",
    "    \n",
    "    # Generate continuation text\n",
    "    # n_samples = 100 # Dev only, use next line for production\n",
    "    n_samples = len(continuation_sentences)\n",
    "   \n",
    "    continued_sentences = []\n",
    "    counter = 1\n",
    "    \n",
    "    model = RNNLanguageModel(vocab_length=CONFIG.vocab_length,\n",
    "                             batch_size=1, # for sampling: Feeding single words\n",
    "                             n_steps=1,# for sampling: Feeding single words\n",
    "                             rnn_size=CONFIG.rnn_size,\n",
    "                             rnn_size_factor=CONFIG.rnn_size_factor,\n",
    "                             learning_rate=CONFIG.learning_rate,\n",
    "                             grad_clip=CONFIG.grad_clip,\n",
    "                             embedding_size=CONFIG.embedding_size,\n",
    "                             external_embedding=CONFIG.external_embedding)\n",
    "    \n",
    "    saver = tf.train.Saver()\n",
    "    with tf.Session() as sess: \n",
    "        saver.restore(sess, checkpoint)\n",
    "        for i in range(n_samples):\n",
    "            new_state = sess.run(model.initial_state)\n",
    "            \n",
    "            sentence = [w for w in continuation_sentences[i].split()]\n",
    "            primer_feed = [vocab_to_int['<bos>']]\n",
    "            [primer_feed.append(vocab_to_int.get(word, vocab_to_int['<unk>'])) for word in sentence]\n",
    "            \n",
    "            for w in primer_feed:\n",
    "                x = np.atleast_2d(w)\n",
    "                feed_dict = {model.inputs: x,\n",
    "                             model.keep_prob: 1.0,\n",
    "                             model.initial_state: new_state}\n",
    "                best_prediction, new_state = \\\n",
    "                sess.run([model.best_prediction, model.final_state], feed_dict=feed_dict)\n",
    "            sentence.append(int_to_vocab[best_prediction[0]]) # First generated word from trigger samples\n",
    "            for __ in range(max_generate_n-1):                # Generating remaining words from predictions\n",
    "                x[0, 0] = best_prediction\n",
    "                feed_dict = {model.inputs: x,\n",
    "                             model.keep_prob: 1.0,\n",
    "                             model.initial_state: new_state}\n",
    "                best_prediction, new_state = \\\n",
    "                sess.run([model.best_prediction, model.final_state], feed_dict=feed_dict)\n",
    "                sentence.append(int_to_vocab[best_prediction[0]])\n",
    "                if (sentence[-1] == '<eos>'):\n",
    "                    break \n",
    "                output = ' '.join(sentence)\n",
    "            if (counter % 1 == 50):\n",
    "                print('Generated sentence {}/{}'.format(counter, n_samples))\n",
    "                print(continuation_sentences[i], ' -> ', output)\n",
    "  \n",
    "            continued_sentences.append(output)\n",
    "            counter += 1\n",
    "    return continued_sentences"
   ]
  },
  {
   "cell_type": "code",
   "execution_count": 59,
   "metadata": {
    "ExecuteTime": {
     "end_time": "2018-04-11T13:03:56.466481Z",
     "start_time": "2018-04-11T13:03:56.459773Z"
    }
   },
   "outputs": [],
   "source": [
    "# Generate samples based on save_dir and write to out_dir\n",
    "def sample(exp, CONFIG):\n",
    "    save_dir = CONFIG.save_dir.format(exp)\n",
    "    \n",
    "    # Get latest checkpoint\n",
    "    checkpoint = tf.train.latest_checkpoint(save_dir)\n",
    "\n",
    "     # Sentence generation length limit\n",
    "    max_generate_n = 20 # Hard-coded by task description\n",
    "    \n",
    "    # Generate samples\n",
    "    continued_sentences = generate_samples(checkpoint, max_generate_n, CONFIG)\n",
    "    \n",
    "    # Write to file\n",
    "    filename = 'group01.continuation'\n",
    "    if not os.path.exists(CONFIG.out_dir):\n",
    "            os.makedirs(CONFIG.out_dir)\n",
    "    with open('{}/{}'.format(CONFIG.out_dir, filename), 'w') as f:\n",
    "        for s in continued_sentences:\n",
    "            f.write('{}\\n'.format(s))\n",
    "    print('Using {} :'.format(save_dir))\n",
    "    print('{} continued sentences written to {}/{}'.format(len(continuation_sentences), CONFIG.out_dir, filename))"
   ]
  },
  {
   "cell_type": "markdown",
   "metadata": {},
   "source": [
    "### Pulling everything together"
   ]
  },
  {
   "cell_type": "code",
   "execution_count": 75,
   "metadata": {
    "ExecuteTime": {
     "end_time": "2018-04-11T13:09:36.583859Z",
     "start_time": "2018-04-11T13:09:36.577273Z"
    }
   },
   "outputs": [],
   "source": [
    "### Finally, set up and run all tasks\n",
    "def run():    \n",
    "    # Define all experiments\n",
    "    exp_dict = {}\n",
    "    exp_parameters = [#('A', [('epochs', 1), ('factor', 1), ('emb', False)])]#, # Experiment A\n",
    "#                        ('B', [('epochs', 1), ('factor', 2), ('emb', False)])]#, # Experiment B\n",
    "                       ('C', [('epochs', 1), ('factor', 2), ('emb', True)])]  # Experiment C\n",
    "    for label, para_list in exp_parameters:\n",
    "        exp_dict.setdefault(label, dict(para_list))\n",
    "    \n",
    "    # Define source experiment for conditional generation\n",
    "    sample_source = 'C'\n",
    "\n",
    "    # Setup up CONFIGs and run experiments\n",
    "    for exp in exp_dict:\n",
    "        CONFIG = RNNConfig(num_epochs=exp_dict[exp]['epochs'],\n",
    "                           rnn_size_factor=exp_dict[exp]['factor'],\n",
    "                           external_embedding=exp_dict[exp]['emb'])\n",
    "        train(exp, CONFIG)\n",
    "        perp(exp, CONFIG)\n",
    "        if (exp == sample_source): sample(exp, CONFIG)"
   ]
  },
  {
   "cell_type": "code",
   "execution_count": 76,
   "metadata": {
    "ExecuteTime": {
     "end_time": "2018-04-11T13:29:57.208342Z",
     "start_time": "2018-04-11T13:25:44.213Z"
    }
   },
   "outputs": [
    {
     "name": "stdout",
     "output_type": "stream",
     "text": [
      "Starting training on experiment C:\n",
      "Run \"tensorboard --logdir ./runs\" in project dir, current run in ./runs/C-run-18-04-12-19-45-45/\n",
      "Batch size: 64\t Time steps 30\t RNN layer size 1024\t External embedding True\n",
      "Epoch: 1/1\t Train step: 20/27442\t Batch loss: 6.307\t Batch perplexity: 548.132\t Batch accuracy: 7.1%\t 0.68s/batch\n",
      "Epoch: 1/1\t Train step: 40/27442\t Batch loss: 6.094\t Batch perplexity: 443.192\t Batch accuracy: 7.2%\t 0.86s/batch\n",
      "Epoch: 1/1\t Train step: 60/27442\t Batch loss: 6.046\t Batch perplexity: 422.629\t Batch accuracy: 8.0%\t 0.70s/batch\n",
      "Epoch: 1/1\t Train step: 80/27442\t Batch loss: 5.392\t Batch perplexity: 219.648\t Batch accuracy: 21.1%\t 0.68s/batch\n",
      "Epoch: 1/1\t Train step: 100/27442\t Batch loss: 5.208\t Batch perplexity: 182.792\t Batch accuracy: 22.4%\t 0.77s/batch\n",
      "Epoch: 1/1\t Train step: 120/27442\t Batch loss: 5.299\t Batch perplexity: 200.113\t Batch accuracy: 23.6%\t 0.75s/batch\n",
      "Epoch: 1/1\t Train step: 140/27442\t Batch loss: 5.334\t Batch perplexity: 207.367\t Batch accuracy: 22.7%\t 0.76s/batch\n",
      "Epoch: 1/1\t Train step: 160/27442\t Batch loss: 5.172\t Batch perplexity: 176.223\t Batch accuracy: 23.1%\t 0.78s/batch\n",
      "Epoch: 1/1\t Train step: 180/27442\t Batch loss: 5.037\t Batch perplexity: 154.030\t Batch accuracy: 23.6%\t 0.66s/batch\n",
      "Epoch: 1/1\t Train step: 200/27442\t Batch loss: 4.846\t Batch perplexity: 127.242\t Batch accuracy: 25.4%\t 0.68s/batch\n",
      "Epoch: 1/1\t Train step: 220/27442\t Batch loss: 4.836\t Batch perplexity: 125.902\t Batch accuracy: 26.6%\t 0.71s/batch\n",
      "Epoch: 1/1\t Train step: 240/27442\t Batch loss: 4.898\t Batch perplexity: 133.979\t Batch accuracy: 25.2%\t 0.68s/batch\n"
     ]
    },
    {
     "ename": "KeyboardInterrupt",
     "evalue": "",
     "output_type": "error",
     "traceback": [
      "\u001b[1;31m---------------------------------------------------------------------------\u001b[0m",
      "\u001b[1;31mKeyboardInterrupt\u001b[0m                         Traceback (most recent call last)",
      "\u001b[1;32m<ipython-input-76-10ec659e51a9>\u001b[0m in \u001b[0;36m<module>\u001b[1;34m()\u001b[0m\n\u001b[0;32m      1\u001b[0m \u001b[1;31m# Ready, set, ...\u001b[0m\u001b[1;33m\u001b[0m\u001b[1;33m\u001b[0m\u001b[0m\n\u001b[1;32m----> 2\u001b[1;33m \u001b[0mrun\u001b[0m\u001b[1;33m(\u001b[0m\u001b[1;33m)\u001b[0m\u001b[1;33m\u001b[0m\u001b[0m\n\u001b[0m",
      "\u001b[1;32m<ipython-input-75-a7a56eb179fa>\u001b[0m in \u001b[0;36mrun\u001b[1;34m()\u001b[0m\n\u001b[0;32m     17\u001b[0m                            \u001b[0mrnn_size_factor\u001b[0m\u001b[1;33m=\u001b[0m\u001b[0mexp_dict\u001b[0m\u001b[1;33m[\u001b[0m\u001b[0mexp\u001b[0m\u001b[1;33m]\u001b[0m\u001b[1;33m[\u001b[0m\u001b[1;34m'factor'\u001b[0m\u001b[1;33m]\u001b[0m\u001b[1;33m,\u001b[0m\u001b[1;33m\u001b[0m\u001b[0m\n\u001b[0;32m     18\u001b[0m                            external_embedding=exp_dict[exp]['emb'])\n\u001b[1;32m---> 19\u001b[1;33m         \u001b[0mtrain\u001b[0m\u001b[1;33m(\u001b[0m\u001b[0mexp\u001b[0m\u001b[1;33m,\u001b[0m \u001b[0mCONFIG\u001b[0m\u001b[1;33m)\u001b[0m\u001b[1;33m\u001b[0m\u001b[0m\n\u001b[0m\u001b[0;32m     20\u001b[0m         \u001b[0mperp\u001b[0m\u001b[1;33m(\u001b[0m\u001b[0mexp\u001b[0m\u001b[1;33m,\u001b[0m \u001b[0mCONFIG\u001b[0m\u001b[1;33m)\u001b[0m\u001b[1;33m\u001b[0m\u001b[0m\n\u001b[0;32m     21\u001b[0m         \u001b[1;32mif\u001b[0m \u001b[1;33m(\u001b[0m\u001b[0mexp\u001b[0m \u001b[1;33m==\u001b[0m \u001b[0msample_source\u001b[0m\u001b[1;33m)\u001b[0m\u001b[1;33m:\u001b[0m \u001b[0msample\u001b[0m\u001b[1;33m(\u001b[0m\u001b[0mexp\u001b[0m\u001b[1;33m,\u001b[0m \u001b[0mCONFIG\u001b[0m\u001b[1;33m)\u001b[0m\u001b[1;33m\u001b[0m\u001b[0m\n",
      "\u001b[1;32m<ipython-input-20-59cabe4d011b>\u001b[0m in \u001b[0;36mtrain\u001b[1;34m(exp, CONFIG)\u001b[0m\n\u001b[0;32m     85\u001b[0m \u001b[1;33m\u001b[0m\u001b[0m\n\u001b[0;32m     86\u001b[0m                 loss, perplexity, accuracy, best_prediction, new_state, _ =                 sess.run([model.loss, model.perplexity, model.accuracy, model.best_prediction,\n\u001b[1;32m---> 87\u001b[1;33m                           model.final_state, model.optimizer], feed_dict=feed_dict)\n\u001b[0m\u001b[0;32m     88\u001b[0m \u001b[1;33m\u001b[0m\u001b[0m\n\u001b[0;32m     89\u001b[0m                 \u001b[0mbatch_time\u001b[0m \u001b[1;33m=\u001b[0m \u001b[0mtime\u001b[0m\u001b[1;33m.\u001b[0m\u001b[0mtime\u001b[0m\u001b[1;33m(\u001b[0m\u001b[1;33m)\u001b[0m \u001b[1;33m-\u001b[0m \u001b[0mstart\u001b[0m\u001b[1;33m\u001b[0m\u001b[0m\n",
      "\u001b[1;32mc:\\program files\\python36\\lib\\site-packages\\tensorflow\\python\\client\\session.py\u001b[0m in \u001b[0;36mrun\u001b[1;34m(self, fetches, feed_dict, options, run_metadata)\u001b[0m\n\u001b[0;32m    903\u001b[0m     \u001b[1;32mtry\u001b[0m\u001b[1;33m:\u001b[0m\u001b[1;33m\u001b[0m\u001b[0m\n\u001b[0;32m    904\u001b[0m       result = self._run(None, fetches, feed_dict, options_ptr,\n\u001b[1;32m--> 905\u001b[1;33m                          run_metadata_ptr)\n\u001b[0m\u001b[0;32m    906\u001b[0m       \u001b[1;32mif\u001b[0m \u001b[0mrun_metadata\u001b[0m\u001b[1;33m:\u001b[0m\u001b[1;33m\u001b[0m\u001b[0m\n\u001b[0;32m    907\u001b[0m         \u001b[0mproto_data\u001b[0m \u001b[1;33m=\u001b[0m \u001b[0mtf_session\u001b[0m\u001b[1;33m.\u001b[0m\u001b[0mTF_GetBuffer\u001b[0m\u001b[1;33m(\u001b[0m\u001b[0mrun_metadata_ptr\u001b[0m\u001b[1;33m)\u001b[0m\u001b[1;33m\u001b[0m\u001b[0m\n",
      "\u001b[1;32mc:\\program files\\python36\\lib\\site-packages\\tensorflow\\python\\client\\session.py\u001b[0m in \u001b[0;36m_run\u001b[1;34m(self, handle, fetches, feed_dict, options, run_metadata)\u001b[0m\n\u001b[0;32m   1138\u001b[0m     \u001b[1;32mif\u001b[0m \u001b[0mfinal_fetches\u001b[0m \u001b[1;32mor\u001b[0m \u001b[0mfinal_targets\u001b[0m \u001b[1;32mor\u001b[0m \u001b[1;33m(\u001b[0m\u001b[0mhandle\u001b[0m \u001b[1;32mand\u001b[0m \u001b[0mfeed_dict_tensor\u001b[0m\u001b[1;33m)\u001b[0m\u001b[1;33m:\u001b[0m\u001b[1;33m\u001b[0m\u001b[0m\n\u001b[0;32m   1139\u001b[0m       results = self._do_run(handle, final_targets, final_fetches,\n\u001b[1;32m-> 1140\u001b[1;33m                              feed_dict_tensor, options, run_metadata)\n\u001b[0m\u001b[0;32m   1141\u001b[0m     \u001b[1;32melse\u001b[0m\u001b[1;33m:\u001b[0m\u001b[1;33m\u001b[0m\u001b[0m\n\u001b[0;32m   1142\u001b[0m       \u001b[0mresults\u001b[0m \u001b[1;33m=\u001b[0m \u001b[1;33m[\u001b[0m\u001b[1;33m]\u001b[0m\u001b[1;33m\u001b[0m\u001b[0m\n",
      "\u001b[1;32mc:\\program files\\python36\\lib\\site-packages\\tensorflow\\python\\client\\session.py\u001b[0m in \u001b[0;36m_do_run\u001b[1;34m(self, handle, target_list, fetch_list, feed_dict, options, run_metadata)\u001b[0m\n\u001b[0;32m   1319\u001b[0m     \u001b[1;32mif\u001b[0m \u001b[0mhandle\u001b[0m \u001b[1;32mis\u001b[0m \u001b[1;32mNone\u001b[0m\u001b[1;33m:\u001b[0m\u001b[1;33m\u001b[0m\u001b[0m\n\u001b[0;32m   1320\u001b[0m       return self._do_call(_run_fn, feeds, fetches, targets, options,\n\u001b[1;32m-> 1321\u001b[1;33m                            run_metadata)\n\u001b[0m\u001b[0;32m   1322\u001b[0m     \u001b[1;32melse\u001b[0m\u001b[1;33m:\u001b[0m\u001b[1;33m\u001b[0m\u001b[0m\n\u001b[0;32m   1323\u001b[0m       \u001b[1;32mreturn\u001b[0m \u001b[0mself\u001b[0m\u001b[1;33m.\u001b[0m\u001b[0m_do_call\u001b[0m\u001b[1;33m(\u001b[0m\u001b[0m_prun_fn\u001b[0m\u001b[1;33m,\u001b[0m \u001b[0mhandle\u001b[0m\u001b[1;33m,\u001b[0m \u001b[0mfeeds\u001b[0m\u001b[1;33m,\u001b[0m \u001b[0mfetches\u001b[0m\u001b[1;33m)\u001b[0m\u001b[1;33m\u001b[0m\u001b[0m\n",
      "\u001b[1;32mc:\\program files\\python36\\lib\\site-packages\\tensorflow\\python\\client\\session.py\u001b[0m in \u001b[0;36m_do_call\u001b[1;34m(self, fn, *args)\u001b[0m\n\u001b[0;32m   1325\u001b[0m   \u001b[1;32mdef\u001b[0m \u001b[0m_do_call\u001b[0m\u001b[1;33m(\u001b[0m\u001b[0mself\u001b[0m\u001b[1;33m,\u001b[0m \u001b[0mfn\u001b[0m\u001b[1;33m,\u001b[0m \u001b[1;33m*\u001b[0m\u001b[0margs\u001b[0m\u001b[1;33m)\u001b[0m\u001b[1;33m:\u001b[0m\u001b[1;33m\u001b[0m\u001b[0m\n\u001b[0;32m   1326\u001b[0m     \u001b[1;32mtry\u001b[0m\u001b[1;33m:\u001b[0m\u001b[1;33m\u001b[0m\u001b[0m\n\u001b[1;32m-> 1327\u001b[1;33m       \u001b[1;32mreturn\u001b[0m \u001b[0mfn\u001b[0m\u001b[1;33m(\u001b[0m\u001b[1;33m*\u001b[0m\u001b[0margs\u001b[0m\u001b[1;33m)\u001b[0m\u001b[1;33m\u001b[0m\u001b[0m\n\u001b[0m\u001b[0;32m   1328\u001b[0m     \u001b[1;32mexcept\u001b[0m \u001b[0merrors\u001b[0m\u001b[1;33m.\u001b[0m\u001b[0mOpError\u001b[0m \u001b[1;32mas\u001b[0m \u001b[0me\u001b[0m\u001b[1;33m:\u001b[0m\u001b[1;33m\u001b[0m\u001b[0m\n\u001b[0;32m   1329\u001b[0m       \u001b[0mmessage\u001b[0m \u001b[1;33m=\u001b[0m \u001b[0mcompat\u001b[0m\u001b[1;33m.\u001b[0m\u001b[0mas_text\u001b[0m\u001b[1;33m(\u001b[0m\u001b[0me\u001b[0m\u001b[1;33m.\u001b[0m\u001b[0mmessage\u001b[0m\u001b[1;33m)\u001b[0m\u001b[1;33m\u001b[0m\u001b[0m\n",
      "\u001b[1;32mc:\\program files\\python36\\lib\\site-packages\\tensorflow\\python\\client\\session.py\u001b[0m in \u001b[0;36m_run_fn\u001b[1;34m(feed_dict, fetch_list, target_list, options, run_metadata)\u001b[0m\n\u001b[0;32m   1310\u001b[0m       \u001b[0mself\u001b[0m\u001b[1;33m.\u001b[0m\u001b[0m_extend_graph\u001b[0m\u001b[1;33m(\u001b[0m\u001b[1;33m)\u001b[0m\u001b[1;33m\u001b[0m\u001b[0m\n\u001b[0;32m   1311\u001b[0m       return self._call_tf_sessionrun(\n\u001b[1;32m-> 1312\u001b[1;33m           options, feed_dict, fetch_list, target_list, run_metadata)\n\u001b[0m\u001b[0;32m   1313\u001b[0m \u001b[1;33m\u001b[0m\u001b[0m\n\u001b[0;32m   1314\u001b[0m     \u001b[1;32mdef\u001b[0m \u001b[0m_prun_fn\u001b[0m\u001b[1;33m(\u001b[0m\u001b[0mhandle\u001b[0m\u001b[1;33m,\u001b[0m \u001b[0mfeed_dict\u001b[0m\u001b[1;33m,\u001b[0m \u001b[0mfetch_list\u001b[0m\u001b[1;33m)\u001b[0m\u001b[1;33m:\u001b[0m\u001b[1;33m\u001b[0m\u001b[0m\n",
      "\u001b[1;32mc:\\program files\\python36\\lib\\site-packages\\tensorflow\\python\\client\\session.py\u001b[0m in \u001b[0;36m_call_tf_sessionrun\u001b[1;34m(self, options, feed_dict, fetch_list, target_list, run_metadata)\u001b[0m\n\u001b[0;32m   1418\u001b[0m         return tf_session.TF_Run(\n\u001b[0;32m   1419\u001b[0m             \u001b[0mself\u001b[0m\u001b[1;33m.\u001b[0m\u001b[0m_session\u001b[0m\u001b[1;33m,\u001b[0m \u001b[0moptions\u001b[0m\u001b[1;33m,\u001b[0m \u001b[0mfeed_dict\u001b[0m\u001b[1;33m,\u001b[0m \u001b[0mfetch_list\u001b[0m\u001b[1;33m,\u001b[0m \u001b[0mtarget_list\u001b[0m\u001b[1;33m,\u001b[0m\u001b[1;33m\u001b[0m\u001b[0m\n\u001b[1;32m-> 1420\u001b[1;33m             status, run_metadata)\n\u001b[0m\u001b[0;32m   1421\u001b[0m \u001b[1;33m\u001b[0m\u001b[0m\n\u001b[0;32m   1422\u001b[0m   \u001b[1;32mdef\u001b[0m \u001b[0m_call_tf_sessionprun\u001b[0m\u001b[1;33m(\u001b[0m\u001b[0mself\u001b[0m\u001b[1;33m,\u001b[0m \u001b[0mhandle\u001b[0m\u001b[1;33m,\u001b[0m \u001b[0mfeed_dict\u001b[0m\u001b[1;33m,\u001b[0m \u001b[0mfetch_list\u001b[0m\u001b[1;33m)\u001b[0m\u001b[1;33m:\u001b[0m\u001b[1;33m\u001b[0m\u001b[0m\n",
      "\u001b[1;31mKeyboardInterrupt\u001b[0m: "
     ]
    }
   ],
   "source": [
    "# Ready, set, ...\n",
    "run()"
   ]
  },
  {
   "cell_type": "code",
   "execution_count": null,
   "metadata": {},
   "outputs": [],
   "source": []
  }
 ],
 "metadata": {
  "kernelspec": {
   "display_name": "Python 3",
   "language": "python",
   "name": "python3"
  },
  "language_info": {
   "codemirror_mode": {
    "name": "ipython",
    "version": 3
   },
   "file_extension": ".py",
   "mimetype": "text/x-python",
   "name": "python",
   "nbconvert_exporter": "python",
   "pygments_lexer": "ipython3",
   "version": "3.6.5"
  },
  "latex_envs": {
   "LaTeX_envs_menu_present": true,
   "autoclose": false,
   "autocomplete": true,
   "bibliofile": "biblio.bib",
   "cite_by": "apalike",
   "current_citInitial": 1,
   "eqLabelWithNumbers": true,
   "eqNumInitial": 1,
   "hotkeys": {
    "equation": "Ctrl-E",
    "itemize": "Ctrl-I"
   },
   "labels_anchors": false,
   "latex_user_defs": false,
   "report_style_numbering": false,
   "user_envs_cfg": false
  },
  "toc": {
   "nav_menu": {},
   "number_sections": true,
   "sideBar": true,
   "skip_h1_title": true,
   "title_cell": "Table of Contents",
   "title_sidebar": "Contents",
   "toc_cell": true,
   "toc_position": {
    "height": "calc(100% - 180px)",
    "left": "10px",
    "top": "150px",
    "width": "165px"
   },
   "toc_section_display": true,
   "toc_window_display": true
  },
  "varInspector": {
   "cols": {
    "lenName": 16,
    "lenType": 16,
    "lenVar": 40
   },
   "kernels_config": {
    "python": {
     "delete_cmd_postfix": "",
     "delete_cmd_prefix": "del ",
     "library": "var_list.py",
     "varRefreshCmd": "print(var_dic_list())"
    },
    "r": {
     "delete_cmd_postfix": ") ",
     "delete_cmd_prefix": "rm(",
     "library": "var_list.r",
     "varRefreshCmd": "cat(var_dic_list()) "
    }
   },
   "types_to_exclude": [
    "module",
    "function",
    "builtin_function_or_method",
    "instance",
    "_Feature"
   ],
   "window_display": false
  }
 },
 "nbformat": 4,
 "nbformat_minor": 2
}
